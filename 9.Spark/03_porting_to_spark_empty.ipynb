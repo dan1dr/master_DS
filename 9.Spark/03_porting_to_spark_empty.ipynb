{
  "nbformat": 4,
  "nbformat_minor": 0,
  "metadata": {
    "kernelspec": {
      "display_name": "Python 3",
      "language": "python",
      "name": "python3"
    },
    "language_info": {
      "codemirror_mode": {
        "name": "ipython",
        "version": 3
      },
      "file_extension": ".py",
      "mimetype": "text/x-python",
      "name": "python",
      "nbconvert_exporter": "python",
      "pygments_lexer": "ipython3",
      "version": "3.7.7"
    },
    "colab": {
      "name": "03-porting-to-spark.empty.ipynb",
      "provenance": [],
      "collapsed_sections": []
    }
  },
  "cells": [
    {
      "cell_type": "markdown",
      "metadata": {
        "id": "F5ZfIsdz_mC2"
      },
      "source": [
        "# Porting an analysis from local to distributed\n",
        "\n",
        "<a href = \"http://yogen.io\"><img src=\"http://yogen.io/assets/logo.svg\" alt=\"yogen\" style=\"width: 200px; float: right;\"/></a>"
      ]
    },
    {
      "cell_type": "markdown",
      "metadata": {
        "id": "kG0NoDg8_mC7"
      },
      "source": [
        "Now comes the opportunity to put in practice what we have just learned!"
      ]
    },
    {
      "cell_type": "markdown",
      "metadata": {
        "id": "ZUWE6cGe_mC8"
      },
      "source": [
        "### If you are running this notebook in Google Colab\n",
        "\n",
        "Copy the following to a code cell and run it. It will install and set up Spark for you.\n",
        "\n",
        "```python\n",
        "!pip install pyspark==3.1.1\n",
        "from pyspark.sql import SparkSession\n",
        "spark = SparkSession.builder.master(\"local[*]\").config(\"spark.ui.port\", \"4050\").getOrCreate() ## For ngrok to tunnel to\n",
        "```"
      ]
    },
    {
      "cell_type": "code",
      "metadata": {
        "colab": {
          "base_uri": "https://localhost:8080/"
        },
        "id": "EvpZhdjR_mC9",
        "outputId": "78e8b4c0-ae70-4804-c1d6-76b1ae9095c1"
      },
      "source": [
        "!pip install pyspark==3.1.1\n",
        "from pyspark.sql import SparkSession\n",
        "spark = SparkSession.builder.master(\"local[*]\").config(\"spark.ui.port\", \"4050\").getOrCreate() ## For ngrok to tunnel to"
      ],
      "execution_count": 1,
      "outputs": [
        {
          "output_type": "stream",
          "text": [
            "Collecting pyspark==3.1.1\n",
            "\u001b[?25l  Downloading https://files.pythonhosted.org/packages/45/b0/9d6860891ab14a39d4bddf80ba26ce51c2f9dc4805e5c6978ac0472c120a/pyspark-3.1.1.tar.gz (212.3MB)\n",
            "\u001b[K     |████████████████████████████████| 212.3MB 67kB/s \n",
            "\u001b[?25hCollecting py4j==0.10.9\n",
            "\u001b[?25l  Downloading https://files.pythonhosted.org/packages/9e/b6/6a4fb90cd235dc8e265a6a2067f2a2c99f0d91787f06aca4bcf7c23f3f80/py4j-0.10.9-py2.py3-none-any.whl (198kB)\n",
            "\u001b[K     |████████████████████████████████| 204kB 21.5MB/s \n",
            "\u001b[?25hBuilding wheels for collected packages: pyspark\n",
            "  Building wheel for pyspark (setup.py) ... \u001b[?25l\u001b[?25hdone\n",
            "  Created wheel for pyspark: filename=pyspark-3.1.1-py2.py3-none-any.whl size=212767604 sha256=00747874df3a71fec6754315eaa5d3407f277208585b6ab49dcdfb802fddfb85\n",
            "  Stored in directory: /root/.cache/pip/wheels/0b/90/c0/01de724414ef122bd05f056541fb6a0ecf47c7ca655f8b3c0f\n",
            "Successfully built pyspark\n",
            "Installing collected packages: py4j, pyspark\n",
            "Successfully installed py4j-0.10.9 pyspark-3.1.1\n"
          ],
          "name": "stdout"
        }
      ]
    },
    {
      "cell_type": "markdown",
      "metadata": {
        "id": "l-cpuKzl_mC-"
      },
      "source": [
        "# Guided exercise\n",
        "\n",
        "Recreate the boxplot we did in the pandas section, in Spark!\n",
        "\n",
        "Since matplotlib boxplot needs all the data and that would be unfeasible with Big Data, we will calculate the quartiles ourselves.\n",
        "\n",
        "Once the analysis is ported, we will be able to run it on the whole historical series! You can find it at https://transtats.bts.gov (On time performance reporting carrier)."
      ]
    },
    {
      "cell_type": "markdown",
      "metadata": {
        "id": "SJDIsbHP_mC_"
      },
      "source": [
        "##  Workflow\n",
        "\n",
        "The basic idea is the same that we applied in the Amadeus Challenge:\n",
        "\n",
        "* Build prototype with small data: in this section, we will be using `06-intro_to_pandas_practical.ipynb` as our already made prototype\n",
        "\n",
        "* Modify your prototype so that it works with Big Data: In this case, it means porting it to Spark\n",
        "\n",
        "* Test your \"Big Data\" prototype with small data: We will first test it with a sample locally, then upload it to a cluster and test it with Big Data.\n",
        "\n",
        "    * You can run your analyses building your own cluster and storage bucket in Google Cloud Storage. More in notebook #4!\n",
        "\n",
        "* Run your prototype with Big Data.\n",
        "\n",
        "    \n"
      ]
    },
    {
      "cell_type": "markdown",
      "metadata": {
        "id": "Ai5bGxZ7_mDA"
      },
      "source": [
        "## Modify the prototype so that it works with Big Data"
      ]
    },
    {
      "cell_type": "code",
      "metadata": {
        "colab": {
          "base_uri": "https://localhost:8080/"
        },
        "id": "JHa1bo2kR0xL",
        "outputId": "37133744-0227-4b0c-c4c6-dbe33631a3f0"
      },
      "source": [
        "!unzip On_Time_Reporting_Carrier_On_Time_Performance_1987_present_2020_3\\ \\(2\\).zip"
      ],
      "execution_count": 2,
      "outputs": [
        {
          "output_type": "stream",
          "text": [
            "Archive:  On_Time_Reporting_Carrier_On_Time_Performance_1987_present_2020_3 (2).zip\n",
            "  inflating: On_Time_Reporting_Carrier_On_Time_Performance_(1987_present)_2020_3.csv  \n",
            "  inflating: readme.html             \n"
          ],
          "name": "stdout"
        }
      ]
    },
    {
      "cell_type": "code",
      "metadata": {
        "colab": {
          "base_uri": "https://localhost:8080/"
        },
        "id": "93y1FRls_mDB",
        "outputId": "33af1723-e06e-4e63-8c05-dd320c10c5f2"
      },
      "source": [
        "!head -n 2 On_Time_Reporting_Carrier_On_Time_Performance_\\(1987_present\\)_2020_3.csv"
      ],
      "execution_count": 8,
      "outputs": [
        {
          "output_type": "stream",
          "text": [
            "\"Year\",\"Quarter\",\"Month\",\"DayofMonth\",\"DayOfWeek\",\"FlightDate\",\"Reporting_Airline\",\"DOT_ID_Reporting_Airline\",\"IATA_CODE_Reporting_Airline\",\"Tail_Number\",\"Flight_Number_Reporting_Airline\",\"OriginAirportID\",\"OriginAirportSeqID\",\"OriginCityMarketID\",\"Origin\",\"OriginCityName\",\"OriginState\",\"OriginStateFips\",\"OriginStateName\",\"OriginWac\",\"DestAirportID\",\"DestAirportSeqID\",\"DestCityMarketID\",\"Dest\",\"DestCityName\",\"DestState\",\"DestStateFips\",\"DestStateName\",\"DestWac\",\"CRSDepTime\",\"DepTime\",\"DepDelay\",\"DepDelayMinutes\",\"DepDel15\",\"DepartureDelayGroups\",\"DepTimeBlk\",\"TaxiOut\",\"WheelsOff\",\"WheelsOn\",\"TaxiIn\",\"CRSArrTime\",\"ArrTime\",\"ArrDelay\",\"ArrDelayMinutes\",\"ArrDel15\",\"ArrivalDelayGroups\",\"ArrTimeBlk\",\"Cancelled\",\"CancellationCode\",\"Diverted\",\"CRSElapsedTime\",\"ActualElapsedTime\",\"AirTime\",\"Flights\",\"Distance\",\"DistanceGroup\",\"CarrierDelay\",\"WeatherDelay\",\"NASDelay\",\"SecurityDelay\",\"LateAircraftDelay\",\"FirstDepTime\",\"TotalAddGTime\",\"LongestAddGTime\",\"DivAirportLandings\",\"DivReachedDest\",\"DivActualElapsedTime\",\"DivArrDelay\",\"DivDistance\",\"Div1Airport\",\"Div1AirportID\",\"Div1AirportSeqID\",\"Div1WheelsOn\",\"Div1TotalGTime\",\"Div1LongestGTime\",\"Div1WheelsOff\",\"Div1TailNum\",\"Div2Airport\",\"Div2AirportID\",\"Div2AirportSeqID\",\"Div2WheelsOn\",\"Div2TotalGTime\",\"Div2LongestGTime\",\"Div2WheelsOff\",\"Div2TailNum\",\"Div3Airport\",\"Div3AirportID\",\"Div3AirportSeqID\",\"Div3WheelsOn\",\"Div3TotalGTime\",\"Div3LongestGTime\",\"Div3WheelsOff\",\"Div3TailNum\",\"Div4Airport\",\"Div4AirportID\",\"Div4AirportSeqID\",\"Div4WheelsOn\",\"Div4TotalGTime\",\"Div4LongestGTime\",\"Div4WheelsOff\",\"Div4TailNum\",\"Div5Airport\",\"Div5AirportID\",\"Div5AirportSeqID\",\"Div5WheelsOn\",\"Div5TotalGTime\",\"Div5LongestGTime\",\"Div5WheelsOff\",\"Div5TailNum\",\n",
            "2020,1,3,9,1,2020-03-09,\"9E\",20363,\"9E\",\"N669CA\",\"4677\",11433,1143302,31295,\"DTW\",\"Detroit, MI\",\"MI\",\"26\",\"Michigan\",43,14307,1430705,30721,\"PVD\",\"Providence, RI\",\"RI\",\"44\",\"Rhode Island\",15,\"1423\",\"1412\",-11.00,0.00,0.00,-1,\"1400-1459\",16.00,\"1428\",\"1552\",5.00,\"1615\",\"1557\",-18.00,0.00,0.00,-2,\"1600-1659\",0.00,\"\",0.00,112.00,105.00,84.00,1.00,615.00,3,,,,,,\"\",,,0,,,,,\"\",,,\"\",,,\"\",\"\",\"\",,,\"\",,,\"\",\"\",\"\",,,\"\",,,\"\",\"\",\"\",,,\"\",,,\"\",\"\",\"\",,,\"\",,,\"\",\"\",\n"
          ],
          "name": "stdout"
        }
      ]
    },
    {
      "cell_type": "markdown",
      "metadata": {
        "id": "m0-qcQ5H_mDB"
      },
      "source": [
        "## Read csv\n",
        "\n",
        "We'll use the `SparkSession.read.csv` method."
      ]
    },
    {
      "cell_type": "code",
      "metadata": {
        "colab": {
          "base_uri": "https://localhost:8080/"
        },
        "id": "IV8xhFpE_mDC",
        "outputId": "9a1a70e9-52ce-4a9b-fa41-fd89644c1465"
      },
      "source": [
        "df = spark.read.csv('/content/On_Time_Reporting_Carrier_On_Time_Performance_(1987_present)_2020_3.csv', inferSchema=True, header=True)\n",
        "df"
      ],
      "execution_count": 9,
      "outputs": [
        {
          "output_type": "execute_result",
          "data": {
            "text/plain": [
              "DataFrame[Year: int, Quarter: int, Month: int, DayofMonth: int, DayOfWeek: int, FlightDate: string, Reporting_Airline: string, DOT_ID_Reporting_Airline: int, IATA_CODE_Reporting_Airline: string, Tail_Number: string, Flight_Number_Reporting_Airline: int, OriginAirportID: int, OriginAirportSeqID: int, OriginCityMarketID: int, Origin: string, OriginCityName: string, OriginState: string, OriginStateFips: int, OriginStateName: string, OriginWac: int, DestAirportID: int, DestAirportSeqID: int, DestCityMarketID: int, Dest: string, DestCityName: string, DestState: string, DestStateFips: int, DestStateName: string, DestWac: int, CRSDepTime: int, DepTime: int, DepDelay: double, DepDelayMinutes: double, DepDel15: double, DepartureDelayGroups: int, DepTimeBlk: string, TaxiOut: double, WheelsOff: int, WheelsOn: int, TaxiIn: double, CRSArrTime: int, ArrTime: int, ArrDelay: double, ArrDelayMinutes: double, ArrDel15: double, ArrivalDelayGroups: int, ArrTimeBlk: string, Cancelled: double, CancellationCode: string, Diverted: double, CRSElapsedTime: double, ActualElapsedTime: double, AirTime: double, Flights: double, Distance: double, DistanceGroup: int, CarrierDelay: double, WeatherDelay: double, NASDelay: double, SecurityDelay: double, LateAircraftDelay: double, FirstDepTime: int, TotalAddGTime: double, LongestAddGTime: double, DivAirportLandings: int, DivReachedDest: double, DivActualElapsedTime: double, DivArrDelay: double, DivDistance: double, Div1Airport: string, Div1AirportID: int, Div1AirportSeqID: int, Div1WheelsOn: int, Div1TotalGTime: double, Div1LongestGTime: double, Div1WheelsOff: int, Div1TailNum: string, Div2Airport: string, Div2AirportID: int, Div2AirportSeqID: int, Div2WheelsOn: int, Div2TotalGTime: double, Div2LongestGTime: double, Div2WheelsOff: int, Div2TailNum: string, Div3Airport: string, Div3AirportID: string, Div3AirportSeqID: string, Div3WheelsOn: string, Div3TotalGTime: string, Div3LongestGTime: string, Div3WheelsOff: string, Div3TailNum: string, Div4Airport: string, Div4AirportID: string, Div4AirportSeqID: string, Div4WheelsOn: string, Div4TotalGTime: string, Div4LongestGTime: string, Div4WheelsOff: string, Div4TailNum: string, Div5Airport: string, Div5AirportID: string, Div5AirportSeqID: string, Div5WheelsOn: string, Div5TotalGTime: string, Div5LongestGTime: string, Div5WheelsOff: string, Div5TailNum: string, _c109: string]"
            ]
          },
          "metadata": {
            "tags": []
          },
          "execution_count": 9
        }
      ]
    },
    {
      "cell_type": "code",
      "metadata": {
        "colab": {
          "base_uri": "https://localhost:8080/"
        },
        "id": "ecyC0yT9St4N",
        "outputId": "62280487-ae70-4e93-8e83-8549a6e3983d"
      },
      "source": [
        "df.printSchema()"
      ],
      "execution_count": 10,
      "outputs": [
        {
          "output_type": "stream",
          "text": [
            "root\n",
            " |-- Year: integer (nullable = true)\n",
            " |-- Quarter: integer (nullable = true)\n",
            " |-- Month: integer (nullable = true)\n",
            " |-- DayofMonth: integer (nullable = true)\n",
            " |-- DayOfWeek: integer (nullable = true)\n",
            " |-- FlightDate: string (nullable = true)\n",
            " |-- Reporting_Airline: string (nullable = true)\n",
            " |-- DOT_ID_Reporting_Airline: integer (nullable = true)\n",
            " |-- IATA_CODE_Reporting_Airline: string (nullable = true)\n",
            " |-- Tail_Number: string (nullable = true)\n",
            " |-- Flight_Number_Reporting_Airline: integer (nullable = true)\n",
            " |-- OriginAirportID: integer (nullable = true)\n",
            " |-- OriginAirportSeqID: integer (nullable = true)\n",
            " |-- OriginCityMarketID: integer (nullable = true)\n",
            " |-- Origin: string (nullable = true)\n",
            " |-- OriginCityName: string (nullable = true)\n",
            " |-- OriginState: string (nullable = true)\n",
            " |-- OriginStateFips: integer (nullable = true)\n",
            " |-- OriginStateName: string (nullable = true)\n",
            " |-- OriginWac: integer (nullable = true)\n",
            " |-- DestAirportID: integer (nullable = true)\n",
            " |-- DestAirportSeqID: integer (nullable = true)\n",
            " |-- DestCityMarketID: integer (nullable = true)\n",
            " |-- Dest: string (nullable = true)\n",
            " |-- DestCityName: string (nullable = true)\n",
            " |-- DestState: string (nullable = true)\n",
            " |-- DestStateFips: integer (nullable = true)\n",
            " |-- DestStateName: string (nullable = true)\n",
            " |-- DestWac: integer (nullable = true)\n",
            " |-- CRSDepTime: integer (nullable = true)\n",
            " |-- DepTime: integer (nullable = true)\n",
            " |-- DepDelay: double (nullable = true)\n",
            " |-- DepDelayMinutes: double (nullable = true)\n",
            " |-- DepDel15: double (nullable = true)\n",
            " |-- DepartureDelayGroups: integer (nullable = true)\n",
            " |-- DepTimeBlk: string (nullable = true)\n",
            " |-- TaxiOut: double (nullable = true)\n",
            " |-- WheelsOff: integer (nullable = true)\n",
            " |-- WheelsOn: integer (nullable = true)\n",
            " |-- TaxiIn: double (nullable = true)\n",
            " |-- CRSArrTime: integer (nullable = true)\n",
            " |-- ArrTime: integer (nullable = true)\n",
            " |-- ArrDelay: double (nullable = true)\n",
            " |-- ArrDelayMinutes: double (nullable = true)\n",
            " |-- ArrDel15: double (nullable = true)\n",
            " |-- ArrivalDelayGroups: integer (nullable = true)\n",
            " |-- ArrTimeBlk: string (nullable = true)\n",
            " |-- Cancelled: double (nullable = true)\n",
            " |-- CancellationCode: string (nullable = true)\n",
            " |-- Diverted: double (nullable = true)\n",
            " |-- CRSElapsedTime: double (nullable = true)\n",
            " |-- ActualElapsedTime: double (nullable = true)\n",
            " |-- AirTime: double (nullable = true)\n",
            " |-- Flights: double (nullable = true)\n",
            " |-- Distance: double (nullable = true)\n",
            " |-- DistanceGroup: integer (nullable = true)\n",
            " |-- CarrierDelay: double (nullable = true)\n",
            " |-- WeatherDelay: double (nullable = true)\n",
            " |-- NASDelay: double (nullable = true)\n",
            " |-- SecurityDelay: double (nullable = true)\n",
            " |-- LateAircraftDelay: double (nullable = true)\n",
            " |-- FirstDepTime: integer (nullable = true)\n",
            " |-- TotalAddGTime: double (nullable = true)\n",
            " |-- LongestAddGTime: double (nullable = true)\n",
            " |-- DivAirportLandings: integer (nullable = true)\n",
            " |-- DivReachedDest: double (nullable = true)\n",
            " |-- DivActualElapsedTime: double (nullable = true)\n",
            " |-- DivArrDelay: double (nullable = true)\n",
            " |-- DivDistance: double (nullable = true)\n",
            " |-- Div1Airport: string (nullable = true)\n",
            " |-- Div1AirportID: integer (nullable = true)\n",
            " |-- Div1AirportSeqID: integer (nullable = true)\n",
            " |-- Div1WheelsOn: integer (nullable = true)\n",
            " |-- Div1TotalGTime: double (nullable = true)\n",
            " |-- Div1LongestGTime: double (nullable = true)\n",
            " |-- Div1WheelsOff: integer (nullable = true)\n",
            " |-- Div1TailNum: string (nullable = true)\n",
            " |-- Div2Airport: string (nullable = true)\n",
            " |-- Div2AirportID: integer (nullable = true)\n",
            " |-- Div2AirportSeqID: integer (nullable = true)\n",
            " |-- Div2WheelsOn: integer (nullable = true)\n",
            " |-- Div2TotalGTime: double (nullable = true)\n",
            " |-- Div2LongestGTime: double (nullable = true)\n",
            " |-- Div2WheelsOff: integer (nullable = true)\n",
            " |-- Div2TailNum: string (nullable = true)\n",
            " |-- Div3Airport: string (nullable = true)\n",
            " |-- Div3AirportID: string (nullable = true)\n",
            " |-- Div3AirportSeqID: string (nullable = true)\n",
            " |-- Div3WheelsOn: string (nullable = true)\n",
            " |-- Div3TotalGTime: string (nullable = true)\n",
            " |-- Div3LongestGTime: string (nullable = true)\n",
            " |-- Div3WheelsOff: string (nullable = true)\n",
            " |-- Div3TailNum: string (nullable = true)\n",
            " |-- Div4Airport: string (nullable = true)\n",
            " |-- Div4AirportID: string (nullable = true)\n",
            " |-- Div4AirportSeqID: string (nullable = true)\n",
            " |-- Div4WheelsOn: string (nullable = true)\n",
            " |-- Div4TotalGTime: string (nullable = true)\n",
            " |-- Div4LongestGTime: string (nullable = true)\n",
            " |-- Div4WheelsOff: string (nullable = true)\n",
            " |-- Div4TailNum: string (nullable = true)\n",
            " |-- Div5Airport: string (nullable = true)\n",
            " |-- Div5AirportID: string (nullable = true)\n",
            " |-- Div5AirportSeqID: string (nullable = true)\n",
            " |-- Div5WheelsOn: string (nullable = true)\n",
            " |-- Div5TotalGTime: string (nullable = true)\n",
            " |-- Div5LongestGTime: string (nullable = true)\n",
            " |-- Div5WheelsOff: string (nullable = true)\n",
            " |-- Div5TailNum: string (nullable = true)\n",
            " |-- _c109: string (nullable = true)\n",
            "\n"
          ],
          "name": "stdout"
        }
      ]
    },
    {
      "cell_type": "markdown",
      "metadata": {
        "id": "w3WGqenF_mDC"
      },
      "source": [
        "## Select relevant columns\n",
        "\n",
        "Literally the same syntax as Pandas!\n",
        "\n",
        "```python\n",
        "df = df[['FlightDate', 'DayOfWeek', 'Reporting_Airline', 'Tail_Number', 'Flight_Number_Reporting_Airline', 'Origin', \n",
        "                'OriginCityName', 'OriginStateName', 'Dest', 'DestCityName', 'DestStateName',\n",
        "                'DepTime', 'DepDelay', 'AirTime', 'Distance']]\n",
        "\n",
        "df\n",
        "```"
      ]
    },
    {
      "cell_type": "code",
      "metadata": {
        "scrolled": false,
        "colab": {
          "base_uri": "https://localhost:8080/"
        },
        "id": "P5YRfy9z_mDD",
        "outputId": "2e34240a-eb51-4b79-e01f-ec39ed131be3"
      },
      "source": [
        "df = df[['FlightDate', 'DayOfWeek', 'Reporting_Airline', 'Tail_Number', 'Flight_Number_Reporting_Airline', 'Origin', \n",
        "                'OriginCityName', 'OriginStateName', 'Dest', 'DestCityName', 'DestStateName',\n",
        "                'DepTime', 'DepDelay', 'AirTime', 'Distance']]\n",
        " \n",
        "df.show(5)"
      ],
      "execution_count": 12,
      "outputs": [
        {
          "output_type": "stream",
          "text": [
            "+----------+---------+-----------------+-----------+-------------------------------+------+-----------------+---------------+----+-----------------+-------------+-------+--------+-------+--------+\n",
            "|FlightDate|DayOfWeek|Reporting_Airline|Tail_Number|Flight_Number_Reporting_Airline|Origin|   OriginCityName|OriginStateName|Dest|     DestCityName|DestStateName|DepTime|DepDelay|AirTime|Distance|\n",
            "+----------+---------+-----------------+-----------+-------------------------------+------+-----------------+---------------+----+-----------------+-------------+-------+--------+-------+--------+\n",
            "|2020-03-09|        1|               9E|     N669CA|                           4677|   DTW|      Detroit, MI|       Michigan| PVD|   Providence, RI| Rhode Island|   1412|   -11.0|   84.0|   615.0|\n",
            "|2020-03-09|        1|               9E|     N669CA|                           4677|   PVD|   Providence, RI|   Rhode Island| DTW|      Detroit, MI|     Michigan|   1646|    -4.0|  102.0|   615.0|\n",
            "|2020-03-07|        6|               9E|     N980EV|                           4678|   DTW|      Detroit, MI|       Michigan| TVC|Traverse City, MI|     Michigan|   1539|    -5.0|   42.0|   207.0|\n",
            "|2020-03-07|        6|               9E|     N980EV|                           4678|   TVC|Traverse City, MI|       Michigan| DTW|      Detroit, MI|     Michigan|   1743|   -16.0|   35.0|   207.0|\n",
            "|2020-03-07|        6|               9E|     N836AY|                           4680|   AZO|    Kalamazoo, MI|       Michigan| DTW|      Detroit, MI|     Michigan|   1344|    -5.0|   30.0|   113.0|\n",
            "+----------+---------+-----------------+-----------+-------------------------------+------+-----------------+---------------+----+-----------------+-------------+-------+--------+-------+--------+\n",
            "only showing top 5 rows\n",
            "\n"
          ],
          "name": "stdout"
        }
      ]
    },
    {
      "cell_type": "markdown",
      "metadata": {
        "id": "B3aZVIYn_mDE"
      },
      "source": [
        "### Extract \"Hour\" variable\n",
        "\n",
        "The DepTimes have been inferred to be floats. We need them as ints, representing each o fthe 24 hours in a day."
      ]
    },
    {
      "cell_type": "code",
      "metadata": {
        "id": "OENjWKwG_mDF"
      },
      "source": [
        ""
      ],
      "execution_count": null,
      "outputs": []
    },
    {
      "cell_type": "markdown",
      "metadata": {
        "id": "pHMJKSuE_mDF"
      },
      "source": [
        "## Generate the relative distributions\n",
        "\n",
        "In order to be able to handle the data, we need to reduce its dimensionality. Since we want to describe a discrete distribution, we can just count how many values of each level of the 'DepDelay' variable we find for each hour (24 different discrete distributions). We also want the totals in order to do the relative distribution."
      ]
    },
    {
      "cell_type": "markdown",
      "metadata": {
        "id": "sw4a4Qq9_mDG"
      },
      "source": [
        "### Totals"
      ]
    },
    {
      "cell_type": "code",
      "metadata": {
        "colab": {
          "base_uri": "https://localhost:8080/"
        },
        "id": "p2Occt7c_mDH",
        "outputId": "7ee5f9c3-982a-4fa7-d8f6-dd089c66a195"
      },
      "source": [
        "totals = df.groupby('FlightDate').count()\n",
        "totals"
      ],
      "execution_count": 16,
      "outputs": [
        {
          "output_type": "execute_result",
          "data": {
            "text/plain": [
              "DataFrame[FlightDate: string, count: bigint]"
            ]
          },
          "metadata": {
            "tags": []
          },
          "execution_count": 16
        }
      ]
    },
    {
      "cell_type": "markdown",
      "metadata": {
        "id": "GXkof76H_mDI"
      },
      "source": [
        "### Distributions"
      ]
    },
    {
      "cell_type": "code",
      "metadata": {
        "colab": {
          "base_uri": "https://localhost:8080/"
        },
        "id": "fZTs4N2E_mDJ",
        "outputId": "f21cfaea-d921-40ef-b669-10f28fd8e0f2"
      },
      "source": [
        "distributions = df.groupby(['FlightDate', 'DepDelay']).count()\n",
        "distributions.show(20)"
      ],
      "execution_count": 22,
      "outputs": [
        {
          "output_type": "stream",
          "text": [
            "+----------+--------+-----+\n",
            "|FlightDate|DepDelay|count|\n",
            "+----------+--------+-----+\n",
            "|2020-03-27|    50.0|    9|\n",
            "|2020-03-18|    65.0|   10|\n",
            "|2020-03-23|   -14.0|  258|\n",
            "|2020-03-20|    48.0|   23|\n",
            "|2020-03-18|    23.0|   26|\n",
            "|2020-03-30|    29.0|   10|\n",
            "|2020-03-09|     2.0|  244|\n",
            "|2020-03-22|    52.0|   10|\n",
            "|2020-03-06|    77.0|   10|\n",
            "|2020-03-01|    67.0|    8|\n",
            "|2020-03-23|    32.0|   21|\n",
            "|2020-03-25|    26.0|   17|\n",
            "|2020-03-14|    11.0|  117|\n",
            "|2020-03-16|    40.0|   12|\n",
            "|2020-03-28|     7.0|   29|\n",
            "|2020-03-31|     5.0|   41|\n",
            "|2020-03-18|    36.0|   12|\n",
            "|2020-03-29|   833.0|    1|\n",
            "|2020-03-31|    48.0|    3|\n",
            "|2020-03-04|   375.0|    1|\n",
            "+----------+--------+-----+\n",
            "only showing top 20 rows\n",
            "\n"
          ],
          "name": "stdout"
        }
      ]
    },
    {
      "cell_type": "code",
      "metadata": {
        "id": "th40uy3tXs-K"
      },
      "source": [
        "from pyspark.sql import functions\n",
        "\n",
        "functions.collect_list"
      ],
      "execution_count": 23,
      "outputs": []
    },
    {
      "cell_type": "code",
      "metadata": {
        "colab": {
          "base_uri": "https://localhost:8080/"
        },
        "id": "XwvBkz_gX74C",
        "outputId": "169ecd23-82ba-4e64-feeb-d44338921b9d"
      },
      "source": [
        "lists = distributions.groupby('FlightDate').agg(functions.collect_list('DepDelay').alias('depdelays'),\n",
        "                                                functions.collect_list('count').alias('counts'))\n",
        "lists.cache().show(5)"
      ],
      "execution_count": 28,
      "outputs": [
        {
          "output_type": "stream",
          "text": [
            "+----------+--------------------+--------------------+\n",
            "|FlightDate|           depdelays|              counts|\n",
            "+----------+--------------------+--------------------+\n",
            "|2020-03-16|[40.0, 331.0, 266...|[12, 1, 1, 46, 2,...|\n",
            "|2020-03-03|[197.0, 56.0, 215...|[1, 7, 1, 1349, 3...|\n",
            "|2020-03-06|[77.0, 552.0, 267...|[10, 1, 1, 2, 7, ...|\n",
            "|2020-03-26|[120.0, 67.0, 131...|[1, 7, 2, 3, 1, 1...|\n",
            "|2020-03-05|[70.0, 24.0, 196....|[4, 41, 2, 35, 3,...|\n",
            "+----------+--------------------+--------------------+\n",
            "only showing top 5 rows\n",
            "\n"
          ],
          "name": "stdout"
        }
      ]
    },
    {
      "cell_type": "markdown",
      "metadata": {
        "id": "Cer9Cl3m_mDJ"
      },
      "source": [
        "Now we join both and calculate what fraction of the total for each hour each level of DepDelay represents."
      ]
    },
    {
      "cell_type": "code",
      "metadata": {
        "colab": {
          "base_uri": "https://localhost:8080/"
        },
        "id": "0Qpay_ju_mDK",
        "outputId": "18b5d576-7b45-4460-8bf2-dc3a35e81180"
      },
      "source": [
        "joined = totals.join(lists, on='FlightDate')\n",
        "joined.show(5)"
      ],
      "execution_count": 30,
      "outputs": [
        {
          "output_type": "stream",
          "text": [
            "+----------+-----+--------------------+--------------------+\n",
            "|FlightDate|count|           depdelays|              counts|\n",
            "+----------+-----+--------------------+--------------------+\n",
            "|2020-03-16|22071|[40.0, 331.0, 266...|[12, 1, 1, 46, 2,...|\n",
            "|2020-03-03|20454|[197.0, 56.0, 215...|[1, 7, 1, 1349, 3...|\n",
            "|2020-03-26|21344|[120.0, 67.0, 131...|[1, 7, 2, 3, 1, 1...|\n",
            "|2020-03-06|21537|[77.0, 552.0, 267...|[10, 1, 1, 2, 7, ...|\n",
            "|2020-03-05|21428|[70.0, 24.0, 196....|[4, 41, 2, 35, 3,...|\n",
            "+----------+-----+--------------------+--------------------+\n",
            "only showing top 5 rows\n",
            "\n"
          ],
          "name": "stdout"
        }
      ]
    },
    {
      "cell_type": "code",
      "metadata": {
        "colab": {
          "base_uri": "https://localhost:8080/"
        },
        "id": "9zDnc4BXbP52",
        "outputId": "50c3b10f-e0bd-4955-e647-bf3a33f2bf11"
      },
      "source": [
        "def quartiles(total, delays, counts):\n",
        "\n",
        "  histogram = sorted(zip(delays, counts))\n",
        "\n",
        "  result = []\n",
        "  so_far = 0.0\n",
        "  \n",
        "\n",
        "  for delay, n in histogram:\n",
        "    prev = so_far\n",
        "    so_far += n / total\n",
        "\n",
        "    if prev == 0.0:\n",
        "      result.append(delay)\n",
        "    if prev < .25 and so_far >= .25:\n",
        "      result.append(delay)\n",
        "    if prev < .5 and so_far >= .5:\n",
        "      result.append(delay)\n",
        "    if prev < .75 and so_far >= .75:\n",
        "      result.append(delay)\n",
        "    \n",
        "  result.append(delay)\n",
        "\n",
        "  return result\n",
        "\n",
        "delays = [ 6, 9, -10, -5, 0, 3,10]\n",
        "counts = [4, 7, 5, 12, 11, 98, 2]\n",
        "\n",
        "quartiles(sum(counts), delays, counts)"
      ],
      "execution_count": 55,
      "outputs": [
        {
          "output_type": "execute_result",
          "data": {
            "text/plain": [
              "[-10, 3, 3, 3, 10]"
            ]
          },
          "metadata": {
            "tags": []
          },
          "execution_count": 55
        }
      ]
    },
    {
      "cell_type": "code",
      "metadata": {
        "colab": {
          "base_uri": "https://localhost:8080/"
        },
        "id": "BB2fautTfC-d",
        "outputId": "2dae251d-5933-44d7-fb63-bd65b3ea8ea0"
      },
      "source": [
        "import numpy as np\n",
        "unrolled = [ n for delay, count in zip(delays, counts) for n in [delay] * count ]\n",
        "np.percentile(unrolled, [0, 25, 50, 75, 100])"
      ],
      "execution_count": 56,
      "outputs": [
        {
          "output_type": "execute_result",
          "data": {
            "text/plain": [
              "array([-10.,   3.,   3.,   3.,  10.])"
            ]
          },
          "metadata": {
            "tags": []
          },
          "execution_count": 56
        }
      ]
    },
    {
      "cell_type": "code",
      "metadata": {
        "colab": {
          "base_uri": "https://localhost:8080/"
        },
        "id": "0K-bYRa1gcrD",
        "outputId": "b0cd9b28-7c03-435d-b8a1-ed5f9f1d467e"
      },
      "source": [
        "from pyspark.sql import types\n",
        "\n",
        "@functions.udf(types.ArrayType(types.FloatType()))\n",
        "def quartiles(total, delays, counts):\n",
        "  histogram = sorted(zip(delays, counts))\n",
        "  result = []\n",
        "  so_far = 0.0\n",
        "\n",
        "  for delay, n in histogram:\n",
        "    prev = so_far\n",
        "    so_far += n / total\n",
        "\n",
        "    if prev == 0.0:\n",
        "      result.append(delay)\n",
        "    if prev < .25 and so_far >= .25:\n",
        "      result.append(delay)\n",
        "    if prev < .5 and so_far >= .5:\n",
        "      result.append(delay)\n",
        "    if prev < .75 and so_far >= .75:\n",
        "      result.append(delay)\n",
        "    \n",
        "  result.append(delay)\n",
        "\n",
        "  return result\n",
        "\n",
        "joined"
      ],
      "execution_count": 64,
      "outputs": [
        {
          "output_type": "execute_result",
          "data": {
            "text/plain": [
              "DataFrame[FlightDate: string, count: bigint, depdelays: array<double>, counts: array<bigint>]"
            ]
          },
          "metadata": {
            "tags": []
          },
          "execution_count": 64
        }
      ]
    },
    {
      "cell_type": "code",
      "metadata": {
        "colab": {
          "base_uri": "https://localhost:8080/"
        },
        "id": "cfeYAeXYgw_s",
        "outputId": "08d9eb15-05db-410e-e4b0-a52dc6af27d7"
      },
      "source": [
        "result = joined.withColumn('quartiles', quartiles('count', 'depdelays', 'counts')).cache()\n",
        "result.show()"
      ],
      "execution_count": 66,
      "outputs": [
        {
          "output_type": "stream",
          "text": [
            "+----------+-----+--------------------+--------------------+--------------------+\n",
            "|FlightDate|count|           depdelays|              counts|           quartiles|\n",
            "+----------+-----+--------------------+--------------------+--------------------+\n",
            "|2020-03-16|22071|[40.0, 331.0, 266...|[12, 1, 1, 46, 2,...|[-41.0, 10.0, 49....|\n",
            "|2020-03-03|20454|[197.0, 56.0, 215...|[1, 7, 1, 1349, 3...|[-38.0, -2.0, 35....|\n",
            "|2020-03-26|21344|[120.0, 67.0, 131...|[1, 7, 2, 3, 1, 1...|[-47.0, 77.0, 471...|\n",
            "|2020-03-06|21537|[77.0, 552.0, 267...|[10, 1, 1, 2, 7, ...|[-34.0, 28.0, 131...|\n",
            "|2020-03-05|21428|[70.0, 24.0, 196....|[4, 41, 2, 35, 3,...|[-38.0, 31.0, 116...|\n",
            "|2020-03-02|21297|[286.0, 8.0, 77.0...|[1, 156, 13, 1, 8...|[-32.0, 8.0, 125....|\n",
            "|2020-03-25|21063|[26.0, 85.0, 16.0...|[17, 3, 28, 13, 2...|[-44.0, 11.0, 21....|\n",
            "|2020-03-20|22172|[48.0, 176.0, 79....|[23, 2, 12, 1, 90...|[-40.0, 30.0, 53....|\n",
            "|2020-03-24|21173|[619.0, 112.0, 16...|[1, 2, 1, 40, 1, ...|[-56.0, -17.0, -1...|\n",
            "|2020-03-04|20757|[375.0, 388.0, 66...|[1, 2, 12, 6, 44,...|[-37.0, 19.0, 93....|\n",
            "|2020-03-10|20989|[108.0, 119.0, 32...|[7, 4, 2, 54, 2, ...|[-34.0, -3.0, 68....|\n",
            "|2020-03-12|22023|[504.0, 130.0, 0....|[1, 4, 839, 5, 1,...|[-41.0, -6.0, 0.0...|\n",
            "|2020-03-11|21298|[-28.0, 65.0, 272...|[1, 6, 1, 1, 9, 1...|[-35.0, -5.0, 5.0...|\n",
            "|2020-03-13|22100|[30.0, 54.0, 148....|[68, 34, 5, 1580,...|[-31.0, -6.0, 6.0...|\n",
            "|2020-03-27|21218|[50.0, 170.0, 132...|[9, 1, 1, 1, 1, 1...|[-47.0, -5.0, 36....|\n",
            "|2020-03-22|21381|[52.0, 212.0, -5....|[10, 1, 1325, 1, ...|[-52.0, -8.0, 81....|\n",
            "|2020-03-28|18161|[7.0, 44.0, 126.0...|[29, 4, 2, 71, 13...|[-66.0, 9.0, 86.0...|\n",
            "|2020-03-01|20470|[67.0, 30.0, 881....|[8, 43, 1, 137, 1...|[-27.0, -4.0, 4.0...|\n",
            "|2020-03-19|22157|[181.0, 21.0, 28....|[3, 52, 21, 2, 10...|[-37.0, -4.0, 46....|\n",
            "|2020-03-09|21724|[2.0, 56.0, 151.0...|[244, 14, 1, 2, 1...|[-28.0, -7.0, -1....|\n",
            "+----------+-----+--------------------+--------------------+--------------------+\n",
            "only showing top 20 rows\n",
            "\n"
          ],
          "name": "stdout"
        }
      ]
    },
    {
      "cell_type": "markdown",
      "metadata": {
        "id": "qta6YbI9_mDK"
      },
      "source": [
        "### Generate distributions\n",
        "\n",
        "We have to group on the hour. Each group will be a bunch of delays and the corresponding frequencies."
      ]
    },
    {
      "cell_type": "code",
      "metadata": {
        "id": "K8u6Vffn_mDL"
      },
      "source": [
        ""
      ],
      "execution_count": null,
      "outputs": []
    },
    {
      "cell_type": "markdown",
      "metadata": {
        "id": "K5RHi-Ki_mDM"
      },
      "source": [
        "These groups are definitely manageable: the number of levels will be on the order of a few hundreds to a couple thousands. We can combine them into lists straight away."
      ]
    },
    {
      "cell_type": "code",
      "metadata": {
        "id": "U8jXppUu_mDN"
      },
      "source": [
        ""
      ],
      "execution_count": null,
      "outputs": []
    },
    {
      "cell_type": "markdown",
      "metadata": {
        "id": "JgS8y_KJ_mDN"
      },
      "source": [
        "Now it's be easy to use a UDF to merge the two lists and sort them."
      ]
    },
    {
      "cell_type": "code",
      "metadata": {
        "id": "I8_4GNlg_mDO"
      },
      "source": [
        ""
      ],
      "execution_count": null,
      "outputs": []
    },
    {
      "cell_type": "markdown",
      "metadata": {
        "id": "-ELzsxcS_mDO"
      },
      "source": [
        "Careful! If we keep that string return type, it might be problematic later."
      ]
    },
    {
      "cell_type": "code",
      "metadata": {
        "id": "mfLkm3PV_mDO"
      },
      "source": [
        ""
      ],
      "execution_count": null,
      "outputs": []
    },
    {
      "cell_type": "markdown",
      "metadata": {
        "id": "3CXid6Cy_mDP"
      },
      "source": [
        "### Calculating the quartiles\n",
        "\n",
        "We are finally ready to calculate the quartiles! We will use a UDF.\n",
        "\n",
        "The input to our custom function will be one of the distributions coded like we did: as a list of tuples `(value, relative_frequency)`. The quartiles are defined as the values at which we cross the 0.0, .25, .5, .75 and 1.00 relative frequencies. Since the distributions are ordered, we can just iterate over one while keeping track of what portion of the total distribution we have seen, and annotate where we cross the thresholds."
      ]
    },
    {
      "cell_type": "code",
      "metadata": {
        "id": "5RbTrLk6_mDP"
      },
      "source": [
        ""
      ],
      "execution_count": null,
      "outputs": []
    },
    {
      "cell_type": "markdown",
      "metadata": {
        "id": "Bx_brmuM_mDQ"
      },
      "source": [
        "Apply to the dataframe:"
      ]
    },
    {
      "cell_type": "code",
      "metadata": {
        "id": "HV6BQIVO_mDQ"
      },
      "source": [
        ""
      ],
      "execution_count": null,
      "outputs": []
    },
    {
      "cell_type": "markdown",
      "metadata": {
        "id": "PJvn0Yg9_mDQ"
      },
      "source": [
        "### Plotting\n",
        "\n",
        "We got it! Let's move this over to Pandas for convenient handling"
      ]
    },
    {
      "cell_type": "code",
      "metadata": {
        "colab": {
          "base_uri": "https://localhost:8080/",
          "height": 965
        },
        "id": "MIg_kZCK_mDQ",
        "outputId": "56c1aede-9565-4676-ad25-690eccb5c294"
      },
      "source": [
        "pd_df = result.toPandas()\n",
        "\n",
        "pd_df = pd_df.sort_values(by='FlightDate')\n",
        "pd_df"
      ],
      "execution_count": 76,
      "outputs": [
        {
          "output_type": "execute_result",
          "data": {
            "text/html": [
              "<div>\n",
              "<style scoped>\n",
              "    .dataframe tbody tr th:only-of-type {\n",
              "        vertical-align: middle;\n",
              "    }\n",
              "\n",
              "    .dataframe tbody tr th {\n",
              "        vertical-align: top;\n",
              "    }\n",
              "\n",
              "    .dataframe thead th {\n",
              "        text-align: right;\n",
              "    }\n",
              "</style>\n",
              "<table border=\"1\" class=\"dataframe\">\n",
              "  <thead>\n",
              "    <tr style=\"text-align: right;\">\n",
              "      <th></th>\n",
              "      <th>FlightDate</th>\n",
              "      <th>count</th>\n",
              "      <th>depdelays</th>\n",
              "      <th>counts</th>\n",
              "      <th>quartiles</th>\n",
              "    </tr>\n",
              "  </thead>\n",
              "  <tbody>\n",
              "    <tr>\n",
              "      <th>17</th>\n",
              "      <td>2020-03-01</td>\n",
              "      <td>20470</td>\n",
              "      <td>[67.0, 30.0, 881.0, 8.0, 50.0, 354.0, 287.0, 6...</td>\n",
              "      <td>[8, 43, 1, 137, 19, 1, 1, 11, 2, 147, 2, 101, ...</td>\n",
              "      <td>[-27.0, -4.0, 4.0, 70.0, 1824.0]</td>\n",
              "    </tr>\n",
              "    <tr>\n",
              "      <th>5</th>\n",
              "      <td>2020-03-02</td>\n",
              "      <td>21297</td>\n",
              "      <td>[286.0, 8.0, 77.0, 394.0, 15.0, 149.0, 96.0, 1...</td>\n",
              "      <td>[1, 156, 13, 1, 82, 3, 6, 4, 152, 14, 1, 69, 5...</td>\n",
              "      <td>[-32.0, 8.0, 125.0, 222.0, 1919.0]</td>\n",
              "    </tr>\n",
              "    <tr>\n",
              "      <th>1</th>\n",
              "      <td>2020-03-03</td>\n",
              "      <td>20454</td>\n",
              "      <td>[197.0, 56.0, 215.0, -2.0, 156.0, 167.0, -18.0...</td>\n",
              "      <td>[1, 7, 1, 1349, 3, 2, 29, 1, 1, 1, 45, 9, 7, 2...</td>\n",
              "      <td>[-38.0, -2.0, 35.0, 98.0, 1625.0]</td>\n",
              "    </tr>\n",
              "    <tr>\n",
              "      <th>9</th>\n",
              "      <td>2020-03-04</td>\n",
              "      <td>20757</td>\n",
              "      <td>[375.0, 388.0, 66.0, 171.0, 33.0, 175.0, 155.0...</td>\n",
              "      <td>[1, 2, 12, 6, 44, 3, 2, 1, 1, 1, 1, 3, 34, 13,...</td>\n",
              "      <td>[-37.0, 19.0, 93.0, 166.0, 1458.0]</td>\n",
              "    </tr>\n",
              "    <tr>\n",
              "      <th>4</th>\n",
              "      <td>2020-03-05</td>\n",
              "      <td>21428</td>\n",
              "      <td>[70.0, 24.0, 196.0, 28.0, -23.0, 21.0, 68.0, 7...</td>\n",
              "      <td>[4, 41, 2, 35, 3, 58, 9, 9, 3, 2, 6, 2, 10, 1,...</td>\n",
              "      <td>[-38.0, 31.0, 116.0, 277.0, 1432.0]</td>\n",
              "    </tr>\n",
              "    <tr>\n",
              "      <th>3</th>\n",
              "      <td>2020-03-06</td>\n",
              "      <td>21537</td>\n",
              "      <td>[77.0, 552.0, 267.0, 123.0, 100.0, 3.0, 90.0, ...</td>\n",
              "      <td>[10, 1, 1, 2, 7, 222, 8, 1, 1, 136, 9, 1, 3, 7...</td>\n",
              "      <td>[-34.0, 28.0, 131.0, 185.0, 1740.0]</td>\n",
              "    </tr>\n",
              "    <tr>\n",
              "      <th>23</th>\n",
              "      <td>2020-03-07</td>\n",
              "      <td>18064</td>\n",
              "      <td>[72.0, 29.0, 160.0, 103.0, 2466.0, 139.0, 321....</td>\n",
              "      <td>[6, 32, 2, 3, 1, 1, 1, 7, 1, 11, 1, 2, 1, 1, 8...</td>\n",
              "      <td>[-34.0, -6.0, -3.0, 5.0, 2466.0]</td>\n",
              "    </tr>\n",
              "    <tr>\n",
              "      <th>21</th>\n",
              "      <td>2020-03-08</td>\n",
              "      <td>20846</td>\n",
              "      <td>[-24.0, -22.0, 246.0, 288.0, 137.0, 614.0, 73....</td>\n",
              "      <td>[2, 1, 1, 1, 3, 1, 14, 5, 230, 17, 11, 2, 29, ...</td>\n",
              "      <td>[-32.0, -6.0, -4.0, 14.0, 1330.0]</td>\n",
              "    </tr>\n",
              "    <tr>\n",
              "      <th>19</th>\n",
              "      <td>2020-03-09</td>\n",
              "      <td>21724</td>\n",
              "      <td>[2.0, 56.0, 151.0, 144.0, -8.0, 62.0, 114.0, 1...</td>\n",
              "      <td>[244, 14, 1, 2, 1402, 11, 9, 69, 62, 1, 1, 42,...</td>\n",
              "      <td>[-28.0, -7.0, -1.0, 146.0, 1343.0]</td>\n",
              "    </tr>\n",
              "    <tr>\n",
              "      <th>10</th>\n",
              "      <td>2020-03-10</td>\n",
              "      <td>20989</td>\n",
              "      <td>[108.0, 119.0, 323.0, 19.0, 386.0, 240.0, 105....</td>\n",
              "      <td>[7, 4, 2, 54, 2, 1, 2, 6, 3, 2, 35, 3, 141, 81...</td>\n",
              "      <td>[-34.0, -3.0, 68.0, 134.0, 1467.0]</td>\n",
              "    </tr>\n",
              "    <tr>\n",
              "      <th>12</th>\n",
              "      <td>2020-03-11</td>\n",
              "      <td>21298</td>\n",
              "      <td>[-28.0, 65.0, 272.0, 456.0, 79.0, 409.0, 92.0,...</td>\n",
              "      <td>[1, 6, 1, 1, 9, 1, 6, 1, 1, 106, 3, 1, 5, 8, 1...</td>\n",
              "      <td>[-35.0, -5.0, 5.0, 69.0, 1702.0]</td>\n",
              "    </tr>\n",
              "    <tr>\n",
              "      <th>11</th>\n",
              "      <td>2020-03-12</td>\n",
              "      <td>22023</td>\n",
              "      <td>[504.0, 130.0, 0.0, 119.0, 369.0, 122.0, 213.0...</td>\n",
              "      <td>[1, 4, 839, 5, 1, 3, 1, 43, 2, 19, 4, 12, 18, ...</td>\n",
              "      <td>[-41.0, -6.0, 0.0, 96.0, 1706.0]</td>\n",
              "    </tr>\n",
              "    <tr>\n",
              "      <th>13</th>\n",
              "      <td>2020-03-13</td>\n",
              "      <td>22100</td>\n",
              "      <td>[30.0, 54.0, 148.0, -6.0, -8.0, 128.0, 351.0, ...</td>\n",
              "      <td>[68, 34, 5, 1580, 970, 10, 1, 872, 8, 1, 1, 1,...</td>\n",
              "      <td>[-31.0, -6.0, 6.0, 71.0, 2579.0]</td>\n",
              "    </tr>\n",
              "    <tr>\n",
              "      <th>27</th>\n",
              "      <td>2020-03-14</td>\n",
              "      <td>18704</td>\n",
              "      <td>[11.0, 125.0, 17.0, 390.0, 83.0, 71.0, 82.0, 2...</td>\n",
              "      <td>[117, 3, 76, 1, 10, 5, 10, 3, 1, 31, 21, 6, 2,...</td>\n",
              "      <td>[-33.0, -7.0, -4.0, 6.0, 1363.0]</td>\n",
              "    </tr>\n",
              "    <tr>\n",
              "      <th>22</th>\n",
              "      <td>2020-03-15</td>\n",
              "      <td>21351</td>\n",
              "      <td>[69.0, 82.0, 71.0, 79.0, 246.0, 31.0, 119.0, 7...</td>\n",
              "      <td>[8, 9, 12, 10, 2, 25, 4, 12, 1, 1, 4, 2, 9, 20...</td>\n",
              "      <td>[-36.0, -7.0, -4.0, 7.0, 1266.0]</td>\n",
              "    </tr>\n",
              "    <tr>\n",
              "      <th>0</th>\n",
              "      <td>2020-03-16</td>\n",
              "      <td>22071</td>\n",
              "      <td>[40.0, 331.0, 266.0, 16.0, 196.0, -41.0, 17.0,...</td>\n",
              "      <td>[12, 1, 1, 46, 2, 1, 57, 5, 1, 4, 44, 2, 23, 7...</td>\n",
              "      <td>[-41.0, 10.0, 49.0, 127.0, 1474.0]</td>\n",
              "    </tr>\n",
              "    <tr>\n",
              "      <th>24</th>\n",
              "      <td>2020-03-17</td>\n",
              "      <td>21442</td>\n",
              "      <td>[131.0, 160.0, 199.0, -15.0, 56.0, -10.0, 100....</td>\n",
              "      <td>[4, 3, 2, 231, 9, 1022, 7, 6, 1, 1, 89, 3, 8, ...</td>\n",
              "      <td>[-33.0, -8.0, -3.0, 51.0, 1156.0]</td>\n",
              "    </tr>\n",
              "    <tr>\n",
              "      <th>25</th>\n",
              "      <td>2020-03-18</td>\n",
              "      <td>21659</td>\n",
              "      <td>[65.0, 23.0, 36.0, 57.0, 128.0, 8.0, 181.0, 22...</td>\n",
              "      <td>[10, 26, 12, 11, 2, 68, 1, 1, 1, 66, 29, 2, 77...</td>\n",
              "      <td>[-42.0, -10.0, -6.0, -2.0, 1430.0]</td>\n",
              "    </tr>\n",
              "    <tr>\n",
              "      <th>18</th>\n",
              "      <td>2020-03-19</td>\n",
              "      <td>22157</td>\n",
              "      <td>[181.0, 21.0, 28.0, 249.0, 78.0, 8.0, 73.0, 80...</td>\n",
              "      <td>[3, 52, 21, 2, 10, 87, 14, 12, 1, 1, 21, 7, 10...</td>\n",
              "      <td>[-37.0, -4.0, 46.0, 61.0, 1376.0]</td>\n",
              "    </tr>\n",
              "    <tr>\n",
              "      <th>7</th>\n",
              "      <td>2020-03-20</td>\n",
              "      <td>22172</td>\n",
              "      <td>[48.0, 176.0, 79.0, 201.0, -18.0, 236.0, 7.0, ...</td>\n",
              "      <td>[23, 2, 12, 1, 90, 1, 128, 1, 3, 1, 1, 182, 12...</td>\n",
              "      <td>[-40.0, 30.0, 53.0, 96.0, 1632.0]</td>\n",
              "    </tr>\n",
              "    <tr>\n",
              "      <th>30</th>\n",
              "      <td>2020-03-21</td>\n",
              "      <td>18817</td>\n",
              "      <td>[133.0, 101.0, 226.0, 99.0, -9.0, -14.0, 246.0...</td>\n",
              "      <td>[1, 10, 1, 3, 805, 204, 1, 13, 1, 3, 53, 1, 38...</td>\n",
              "      <td>[-45.0, -7.0, -3.0, 130.0, 857.0]</td>\n",
              "    </tr>\n",
              "    <tr>\n",
              "      <th>15</th>\n",
              "      <td>2020-03-22</td>\n",
              "      <td>21381</td>\n",
              "      <td>[52.0, 212.0, -5.0, 431.0, 56.0, 111.0, 0.0, 2...</td>\n",
              "      <td>[10, 1, 1325, 1, 12, 2, 414, 119, 1, 3, 24, 1,...</td>\n",
              "      <td>[-52.0, -8.0, 81.0, 82.0, 1176.0]</td>\n",
              "    </tr>\n",
              "    <tr>\n",
              "      <th>28</th>\n",
              "      <td>2020-03-23</td>\n",
              "      <td>21985</td>\n",
              "      <td>[-14.0, 32.0, 2.0, 70.0, -3.0, 23.0, 161.0, 98...</td>\n",
              "      <td>[258, 21, 84, 6, 796, 23, 1, 3, 1, 80, 11, 8, ...</td>\n",
              "      <td>[-46.0, -5.0, 47.0, 230.0, 1086.0]</td>\n",
              "    </tr>\n",
              "    <tr>\n",
              "      <th>8</th>\n",
              "      <td>2020-03-24</td>\n",
              "      <td>21173</td>\n",
              "      <td>[619.0, 112.0, 168.0, -22.0, 955.0, -31.0, 63....</td>\n",
              "      <td>[1, 2, 1, 40, 1, 4, 2, 1, 9, 5, 1, 5, 1, 1, 50...</td>\n",
              "      <td>[-56.0, -17.0, -10.0, 57.0, 955.0]</td>\n",
              "    </tr>\n",
              "    <tr>\n",
              "      <th>6</th>\n",
              "      <td>2020-03-25</td>\n",
              "      <td>21063</td>\n",
              "      <td>[26.0, 85.0, 16.0, 24.0, 150.0, 104.0, 309.0, ...</td>\n",
              "      <td>[17, 3, 28, 13, 2, 2, 1, 3, 33, 3, 2, 3, 8, 1,...</td>\n",
              "      <td>[-44.0, 11.0, 21.0, 63.0, 614.0]</td>\n",
              "    </tr>\n",
              "    <tr>\n",
              "      <th>2</th>\n",
              "      <td>2020-03-26</td>\n",
              "      <td>21344</td>\n",
              "      <td>[120.0, 67.0, 131.0, -27.0, -34.0, 442.0, 134....</td>\n",
              "      <td>[1, 7, 2, 3, 1, 1, 1, 5, 1, 71, 3, 2, 1, 35, 2...</td>\n",
              "      <td>[-47.0, 77.0, 471.0, 488.0, 1622.0]</td>\n",
              "    </tr>\n",
              "    <tr>\n",
              "      <th>14</th>\n",
              "      <td>2020-03-27</td>\n",
              "      <td>21218</td>\n",
              "      <td>[50.0, 170.0, 132.0, 113.0, 140.0, 98.0, 56.0,...</td>\n",
              "      <td>[9, 1, 1, 1, 1, 1, 4, 2, 66, 3, 1, 597, 3, 1, ...</td>\n",
              "      <td>[-47.0, -5.0, 36.0, 36.0, 812.0]</td>\n",
              "    </tr>\n",
              "    <tr>\n",
              "      <th>16</th>\n",
              "      <td>2020-03-28</td>\n",
              "      <td>18161</td>\n",
              "      <td>[7.0, 44.0, 126.0, -19.0, 21.0, 36.0, 152.0, 1...</td>\n",
              "      <td>[29, 4, 2, 71, 13, 6, 1, 1, 5, 2, 1, 635, 33, ...</td>\n",
              "      <td>[-66.0, 9.0, 86.0, 86.0, 1440.0]</td>\n",
              "    </tr>\n",
              "    <tr>\n",
              "      <th>20</th>\n",
              "      <td>2020-03-29</td>\n",
              "      <td>20382</td>\n",
              "      <td>[833.0, 541.0, 24.0, 71.0, 19.0, 50.0, 160.0, ...</td>\n",
              "      <td>[1, 1, 7, 3, 12, 2, 2, 45, 185, 2, 1, 10, 2, 1...</td>\n",
              "      <td>[-80.0, -26.0, -17.0, -6.0, 839.0]</td>\n",
              "    </tr>\n",
              "    <tr>\n",
              "      <th>29</th>\n",
              "      <td>2020-03-30</td>\n",
              "      <td>20686</td>\n",
              "      <td>[29.0, 8.0, 7.0, 187.0, 69.0, 246.0, 36.0, 59....</td>\n",
              "      <td>[10, 29, 26, 1, 2, 1, 9, 3, 20, 14, 1, 2, 1, 1...</td>\n",
              "      <td>[-68.0, -6.0, 25.0, 25.0, 855.0]</td>\n",
              "    </tr>\n",
              "    <tr>\n",
              "      <th>26</th>\n",
              "      <td>2020-03-31</td>\n",
              "      <td>19476</td>\n",
              "      <td>[5.0, 48.0, 221.0, 132.0, 149.0, -36.0, 83.0, ...</td>\n",
              "      <td>[41, 3, 1, 2, 1, 2, 1, 150, 3, 4, 1, 12, 3, 1,...</td>\n",
              "      <td>[-49.0, -6.0, 8.0, 8.0, 1176.0]</td>\n",
              "    </tr>\n",
              "  </tbody>\n",
              "</table>\n",
              "</div>"
            ],
            "text/plain": [
              "    FlightDate  ...                            quartiles\n",
              "17  2020-03-01  ...     [-27.0, -4.0, 4.0, 70.0, 1824.0]\n",
              "5   2020-03-02  ...   [-32.0, 8.0, 125.0, 222.0, 1919.0]\n",
              "1   2020-03-03  ...    [-38.0, -2.0, 35.0, 98.0, 1625.0]\n",
              "9   2020-03-04  ...   [-37.0, 19.0, 93.0, 166.0, 1458.0]\n",
              "4   2020-03-05  ...  [-38.0, 31.0, 116.0, 277.0, 1432.0]\n",
              "3   2020-03-06  ...  [-34.0, 28.0, 131.0, 185.0, 1740.0]\n",
              "23  2020-03-07  ...     [-34.0, -6.0, -3.0, 5.0, 2466.0]\n",
              "21  2020-03-08  ...    [-32.0, -6.0, -4.0, 14.0, 1330.0]\n",
              "19  2020-03-09  ...   [-28.0, -7.0, -1.0, 146.0, 1343.0]\n",
              "10  2020-03-10  ...   [-34.0, -3.0, 68.0, 134.0, 1467.0]\n",
              "12  2020-03-11  ...     [-35.0, -5.0, 5.0, 69.0, 1702.0]\n",
              "11  2020-03-12  ...     [-41.0, -6.0, 0.0, 96.0, 1706.0]\n",
              "13  2020-03-13  ...     [-31.0, -6.0, 6.0, 71.0, 2579.0]\n",
              "27  2020-03-14  ...     [-33.0, -7.0, -4.0, 6.0, 1363.0]\n",
              "22  2020-03-15  ...     [-36.0, -7.0, -4.0, 7.0, 1266.0]\n",
              "0   2020-03-16  ...   [-41.0, 10.0, 49.0, 127.0, 1474.0]\n",
              "24  2020-03-17  ...    [-33.0, -8.0, -3.0, 51.0, 1156.0]\n",
              "25  2020-03-18  ...   [-42.0, -10.0, -6.0, -2.0, 1430.0]\n",
              "18  2020-03-19  ...    [-37.0, -4.0, 46.0, 61.0, 1376.0]\n",
              "7   2020-03-20  ...    [-40.0, 30.0, 53.0, 96.0, 1632.0]\n",
              "30  2020-03-21  ...    [-45.0, -7.0, -3.0, 130.0, 857.0]\n",
              "15  2020-03-22  ...    [-52.0, -8.0, 81.0, 82.0, 1176.0]\n",
              "28  2020-03-23  ...   [-46.0, -5.0, 47.0, 230.0, 1086.0]\n",
              "8   2020-03-24  ...   [-56.0, -17.0, -10.0, 57.0, 955.0]\n",
              "6   2020-03-25  ...     [-44.0, 11.0, 21.0, 63.0, 614.0]\n",
              "2   2020-03-26  ...  [-47.0, 77.0, 471.0, 488.0, 1622.0]\n",
              "14  2020-03-27  ...     [-47.0, -5.0, 36.0, 36.0, 812.0]\n",
              "16  2020-03-28  ...     [-66.0, 9.0, 86.0, 86.0, 1440.0]\n",
              "20  2020-03-29  ...   [-80.0, -26.0, -17.0, -6.0, 839.0]\n",
              "29  2020-03-30  ...     [-68.0, -6.0, 25.0, 25.0, 855.0]\n",
              "26  2020-03-31  ...      [-49.0, -6.0, 8.0, 8.0, 1176.0]\n",
              "\n",
              "[31 rows x 5 columns]"
            ]
          },
          "metadata": {
            "tags": []
          },
          "execution_count": 76
        }
      ]
    },
    {
      "cell_type": "code",
      "metadata": {
        "id": "JndB0NEOiUW1"
      },
      "source": [
        ""
      ],
      "execution_count": null,
      "outputs": []
    },
    {
      "cell_type": "markdown",
      "metadata": {
        "id": "2byUdtM3_mDR"
      },
      "source": [
        "And we are ready to plot!"
      ]
    },
    {
      "cell_type": "code",
      "metadata": {
        "colab": {
          "base_uri": "https://localhost:8080/",
          "height": 552
        },
        "id": "lm-EHWuJ_mDR",
        "outputId": "0b4dbb59-28d9-4b93-b398-8ff88b53a339"
      },
      "source": [
        "import matplotlib.pyplot as plt\n",
        "\n",
        "xs = []\n",
        "for ix, day in enumerate(pd_df['FlightDate']):\n",
        "  xs += [ix] * 5\n",
        "\n",
        "ys = []\n",
        "for qs in pd_df['quartiles']:\n",
        "  ys += qs\n",
        "\n",
        "plt.scatter(xs, ys)\n",
        "plt.xticks(range(len(pd_df['FlightDate'])), labels=pd_df['FlightDate'], rotation='vertical')\n",
        "plt.gcf().set_size_inches(12, 8)\n",
        "plt.gca().set_ylim(-50, 200)"
      ],
      "execution_count": 80,
      "outputs": [
        {
          "output_type": "execute_result",
          "data": {
            "text/plain": [
              "(-50.0, 200.0)"
            ]
          },
          "metadata": {
            "tags": []
          },
          "execution_count": 80
        },
        {
          "output_type": "display_data",
          "data": {
            "image/png": "[encoded data removed]",
            "text/plain": [
              "<Figure size 864x576 with 1 Axes>"
            ]
          },
          "metadata": {
            "tags": [],
            "needs_background": "light"
          }
        }
      ]
    },
    {
      "cell_type": "code",
      "metadata": {
        "colab": {
          "base_uri": "https://localhost:8080/",
          "height": 518
        },
        "id": "K9W4RDzHkWO2",
        "outputId": "1ee8192f-448f-4ee3-8e45-6206e9bf6c53"
      },
      "source": [
        "import seaborn as sns\n",
        "\n",
        "sns.boxplot(data=df.toPandas(), x='FlightDate', y='DepDelay')\n",
        "plt.gcf().set_size_inches(12, 8)\n",
        "plt.gca().set_ylim(-50, 200)"
      ],
      "execution_count": 89,
      "outputs": [
        {
          "output_type": "execute_result",
          "data": {
            "text/plain": [
              "(-50.0, 200.0)"
            ]
          },
          "metadata": {
            "tags": []
          },
          "execution_count": 89
        },
        {
          "output_type": "display_data",
          "data": {
            "image/png": "[encoded data removed]",
            "text/plain": [
              "<Figure size 864x576 with 1 Axes>"
            ]
          },
          "metadata": {
            "tags": [],
            "needs_background": "light"
          }
        }
      ]
    },
    {
      "cell_type": "markdown",
      "metadata": {
        "id": "3eVf4mFt_mDR"
      },
      "source": [
        "## Test your \"Big Data\" prototype with small data"
      ]
    },
    {
      "cell_type": "markdown",
      "metadata": {
        "id": "K45StsI7_mDR"
      },
      "source": [
        "### Summary\n",
        "\n",
        "This is the whole process, collected in one place as is:"
      ]
    },
    {
      "cell_type": "code",
      "metadata": {
        "id": "q12tR0_F_mDS"
      },
      "source": [
        ""
      ],
      "execution_count": null,
      "outputs": []
    },
    {
      "cell_type": "markdown",
      "metadata": {
        "id": "AkNb-_By_mDS"
      },
      "source": [
        "### Pyspark job\n",
        "\n",
        "In order to run the process in a cluster, we need to transform it into a pyspark job file. \n",
        "\n",
        "We need to tidy up the function definitions, add the relevant imports, and modify the input and output to use command-line arguments.\n",
        "\n",
        "We will put the result in a file called mysparkjob.py:\n",
        "\n",
        "```python\n",
        "from __future__ import print_function\n",
        "from pyspark.sql import types, functions, SparkSession\n",
        "import sys\n",
        "\n",
        "def zipsort(a, b):\n",
        "    return sorted(zip(a, b))\n",
        "\n",
        "def quartiles(histogram):\n",
        "    area = 0\n",
        "    result = []\n",
        "    \n",
        "    for value, percentage in histogram:\n",
        "        if area == 0:\n",
        "            result.append(value)\n",
        "        elif area <= .25 and area + percentage > .25:\n",
        "            result.append(value)\n",
        "        elif area <= .5 and area + percentage > .5:\n",
        "            result.append(value)\n",
        "        elif area <= .75 and area + percentage > .75:\n",
        "            result.append(value)\n",
        "        area += percentage\n",
        "    \n",
        "    result.append(value)\n",
        "    return result\n",
        "\n",
        "if __name__=='__main__':\n",
        "    \n",
        "    file = sys.argv[1]\n",
        "    out = sys.argv[2]\n",
        "    \n",
        "    spark = SparkSession.builder.getOrCreate()\n",
        "    df = spark.read.csv(file, header= True, inferSchema=True)\n",
        "    df = df.select(['FlightDate', 'DayOfWeek', 'Reporting_Airline', 'Tail_Number', 'Flight_Number_Reporting_Airline', 'Origin', \n",
        "                    'OriginCityName', 'OriginStateName', 'Dest', 'DestCityName', 'DestStateName',\n",
        "                    'DepTime', 'DepDelay', 'AirTime', 'Distance'])\n",
        "\n",
        "    df2 = df.withColumn('Hour', (df['DepTime'] / 100).cast(types.IntegerType()))\n",
        "    totals = df2.groupBy('Hour').count()\n",
        "    distributions = df2.groupBy(['Hour', 'DepDelay']).count()\n",
        "    annotated = distributions.join(totals, on='Hour')\n",
        "    frequencies = annotated.withColumn('relative', distributions['count'] / totals['count'])\n",
        "    groups = frequencies.groupBy(totals['Hour'])\\\n",
        "                        .agg(functions.collect_list('DepDelay').alias('delays'),\n",
        "                             functions.collect_list('relative').alias('relatives'))\n",
        "\n",
        "\n",
        "\n",
        "    zipsort_typed = functions.udf(zipsort, types.ArrayType(types.ArrayType(types.FloatType())))\n",
        "    distributions = groups.withColumn('distributions', zipsort_typed('delays', 'relatives'))\n",
        "\n",
        "\n",
        "\n",
        "    quartiles_udf = functions.udf(quartiles, returnType=types.ArrayType(types.FloatType()))\n",
        "\n",
        "    result = distributions.select('Hour',\n",
        "                                  quartiles_udf('distributions').alias('quartiles'))\n",
        "\n",
        "    result.write.json(out)\n",
        "    spark.stop()\n",
        "```"
      ]
    },
    {
      "cell_type": "code",
      "metadata": {
        "colab": {
          "base_uri": "https://localhost:8080/"
        },
        "id": "vtFZI8Xsq8-o",
        "outputId": "59726669-f9e9-4363-cb2d-16cfdec67400"
      },
      "source": [
        "!pip install pyspark==3.1.1"
      ],
      "execution_count": 2,
      "outputs": [
        {
          "output_type": "stream",
          "text": [
            "Requirement already satisfied: pyspark==3.1.1 in /usr/local/lib/python3.7/dist-packages (3.1.1)\n",
            "Requirement already satisfied: py4j==0.10.9 in /usr/local/lib/python3.7/dist-packages (from pyspark==3.1.1) (0.10.9)\n"
          ],
          "name": "stdout"
        }
      ]
    },
    {
      "cell_type": "code",
      "metadata": {
        "id": "mtapKhfF_mDU"
      },
      "source": [
        "from pyspark.sql import SparkSession, types, functions\n",
        "import sys\n",
        "\n",
        "@functions.udf(types.ArrayType(types.FloatType()))\n",
        "def quartiles(total, delays, counts):\n",
        "  histogram = sorted(zip(delays, counts))\n",
        "  result = []\n",
        "  so_far = 0.0\n",
        "\n",
        "  for delay, n in histogram:\n",
        "    prev = so_far\n",
        "    so_far += n / total\n",
        "\n",
        "    if prev == 0.0:\n",
        "      result.append(delay)\n",
        "    if prev < .25 and so_far >= .25:\n",
        "      result.append(delay)\n",
        "    if prev < .5 and so_far >= .5:\n",
        "      result.append(delay)\n",
        "    if prev < .75 and so_far >= .75:\n",
        "      result.append(delay)\n",
        "    \n",
        "  result.append(delay)\n",
        "\n",
        "  return result\n",
        "\n",
        "\n",
        "in_path = sys.argv[1]\n",
        "out_path = sys.argv[2]\n",
        "\n",
        "spark = SparkSession.builder.getOrCreate()\n",
        "\n",
        "\n",
        "df = spark.read.csv(in_path, inferSchema=True, header=True)\n",
        "df = df[['FlightDate', 'DayOfWeek', 'Reporting_Airline', 'Tail_Number', 'Flight_Number_Reporting_Airline', 'Origin', \n",
        "                'OriginCityName', 'OriginStateName', 'Dest', 'DestCityName', 'DestStateName',\n",
        "                'DepTime', 'DepDelay', 'AirTime', 'Distance']]\n",
        "\n",
        "totals = df.groupby('FlightDate').count()\n",
        "\n",
        "distributions = df.groupby(['FlightDate', 'DepDelay']).count()\n",
        "\n",
        "lists = distributions.groupby('FlightDate').agg(functions.collect_list('DepDelay').alias('depdelays'),\n",
        "                                                functions.collect_list('count').alias('counts'))\n",
        "\n",
        "joined = totals.join(lists, on='FlightDate')\n",
        "\n",
        "\n",
        "result = joined.withColumn('quartiles', quartiles('count', 'depdelays', 'counts')).cache()\n",
        "\n",
        "result.write.json(out_path)"
      ],
      "execution_count": 4,
      "outputs": []
    },
    {
      "cell_type": "markdown",
      "metadata": {
        "id": "NAr1zpuC_mDU"
      },
      "source": [
        "### Running with spark-submit\n",
        "\n",
        "If the following works, we are ready to test it in the cluster!\n",
        "\n",
        "```python\n",
        "spark-submit mysparkjob.py On_Time_On_Time_Performance_2015_8.csv out.csv\n",
        "```"
      ]
    },
    {
      "cell_type": "code",
      "metadata": {
        "id": "DctXH_8ntAaq"
      },
      "source": [
        ""
      ],
      "execution_count": null,
      "outputs": []
    }
  ]
}