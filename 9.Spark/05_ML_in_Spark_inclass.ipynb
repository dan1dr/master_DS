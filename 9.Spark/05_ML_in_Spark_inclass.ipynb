{
  "nbformat": 4,
  "nbformat_minor": 0,
  "metadata": {
    "kernelspec": {
      "display_name": "Python 3",
      "language": "python",
      "name": "python3"
    },
    "language_info": {
      "codemirror_mode": {
        "name": "ipython",
        "version": 3
      },
      "file_extension": ".py",
      "mimetype": "text/x-python",
      "name": "python",
      "nbconvert_exporter": "python",
      "pygments_lexer": "ipython3",
      "version": "3.7.7"
    },
    "colab": {
      "name": "05-ML_in_Spark.inclass.ipynb",
      "provenance": [],
      "collapsed_sections": []
    }
  },
  "cells": [
    {
      "cell_type": "markdown",
      "metadata": {
        "id": "YDAjjbQL2Hfn"
      },
      "source": [
        "# Tuning Machine Learning models in Spark\n",
        "\n",
        "<a href = \"http://yogen.io\"><img src=\"http://yogen.io/assets/logo.svg\" alt=\"yogen\" style=\"width: 200px; float: right;\"/></a>"
      ]
    },
    {
      "cell_type": "markdown",
      "metadata": {
        "id": "sJLKnCYl2Hfu"
      },
      "source": [
        "### If you are running this notebook in Google Colab\n",
        "\n",
        "Copy the following to a code cell and run it. It will install and set up Spark for you.\n",
        "\n",
        "```python\n",
        "!apt-get install openjdk-8-jdk-headless -qq > /dev/null\n",
        "!wget -q http://apache.uvigo.es/spark/spark-2.4.6/spark-2.4.6-bin-hadoop2.7.tgz\n",
        "!tar -xf spark-2.4.6-bin-hadoop2.7.tgz\n",
        "!pip install -q findspark pyspark==2.4.6\n",
        "\n",
        "import os\n",
        "import findspark\n",
        "from pyspark.sql import SparkSession\n",
        "\n",
        "os.environ[\"JAVA_HOME\"] = \"/usr/lib/jvm/java-8-openjdk-amd64\"\n",
        "os.environ[\"SPARK_HOME\"] = \"/content/spark-2.4.6-bin-hadoop2.7\"\n",
        "findspark.init()\n",
        "spark = SparkSession.builder.master(\"local[*]\").config(\"spark.ui.port\", \"4050\").getOrCreate()  ## For ngrok to tunnel to\n",
        "```"
      ]
    },
    {
      "cell_type": "code",
      "metadata": {
        "colab": {
          "base_uri": "https://localhost:8080/"
        },
        "id": "NpfYwRNq2Hfv",
        "outputId": "ed43c867-4e4c-4750-911c-aca1e04aaf6b"
      },
      "source": [
        "!pip install pyspark==3.1.1\n",
        "\n",
        "from pyspark.sql import SparkSession\n",
        "spark = SparkSession.builder.master(\"local[*]\").config(\"spark.ui.port\", \"4050\").getOrCreate()  ## For ngrok to tunnel to"
      ],
      "execution_count": 1,
      "outputs": [
        {
          "output_type": "stream",
          "text": [
            "Collecting pyspark==3.1.1\n",
            "\u001b[?25l  Downloading https://files.pythonhosted.org/packages/45/b0/9d6860891ab14a39d4bddf80ba26ce51c2f9dc4805e5c6978ac0472c120a/pyspark-3.1.1.tar.gz (212.3MB)\n",
            "\u001b[K     |████████████████████████████████| 212.3MB 66kB/s \n",
            "\u001b[?25hCollecting py4j==0.10.9\n",
            "\u001b[?25l  Downloading https://files.pythonhosted.org/packages/9e/b6/6a4fb90cd235dc8e265a6a2067f2a2c99f0d91787f06aca4bcf7c23f3f80/py4j-0.10.9-py2.py3-none-any.whl (198kB)\n",
            "\u001b[K     |████████████████████████████████| 204kB 19.6MB/s \n",
            "\u001b[?25hBuilding wheels for collected packages: pyspark\n",
            "  Building wheel for pyspark (setup.py) ... \u001b[?25l\u001b[?25hdone\n",
            "  Created wheel for pyspark: filename=pyspark-3.1.1-py2.py3-none-any.whl size=212767604 sha256=2eabcf1aadb9758a940f7e86e11a0712052d5c08f8fd26c463424994b5287e2a\n",
            "  Stored in directory: /root/.cache/pip/wheels/0b/90/c0/01de724414ef122bd05f056541fb6a0ecf47c7ca655f8b3c0f\n",
            "Successfully built pyspark\n",
            "Installing collected packages: py4j, pyspark\n",
            "Successfully installed py4j-0.10.9 pyspark-3.1.1\n"
          ],
          "name": "stdout"
        }
      ]
    },
    {
      "cell_type": "markdown",
      "metadata": {
        "id": "jmRzKfQk2Hfv"
      },
      "source": [
        "## ML Pipelines in Spark\n",
        "\n",
        "ML model training and tuning often represents running the same steps once and again. Often, we run the same steps with small variations in order to evaluate combinations of parameters. \n",
        "\n",
        "In order to make this use case a lot easier, Spark provides the [Pipeline](https://spark.apache.org/docs/2.3.0/ml-pipeline.html) abstraction.\n",
        "\n",
        "A Pipeline represents a series of steps in the processing of a dataset. Each step is a Transformer or an Estimator. The whole Pipeline is an Estimator, so we can .fit the whole pipeline in one step. When we do that, the steps'  .fit and .transform methods will be called in turn."
      ]
    },
    {
      "cell_type": "markdown",
      "metadata": {
        "id": "WPFAwlg_2Hfw"
      },
      "source": [
        "![pipelineestimator](https://spark.apache.org/docs/2.3.0/img/ml-Pipeline.png)"
      ]
    },
    {
      "cell_type": "markdown",
      "metadata": {
        "id": "SfMQxt_c2Hfw"
      },
      "source": [
        "![PipelineModel](https://spark.apache.org/docs/2.3.0/img/ml-PipelineModel.png)"
      ]
    },
    {
      "cell_type": "markdown",
      "metadata": {
        "id": "br1y6U6b2Hfx"
      },
      "source": [
        "## Example: predicting flight delays\n",
        "\n",
        "We'll be using the same [Transtats'](https://www.transtats.bts.gov/) OTP performance data] from way back when. Remember it?\n",
        "\n",
        "It's a table that contains all domestic departures by US air air carriers that represent at least one percent of domestic scheduled passenger revenues, with data on each individual departure including [Tail Number](https://en.wikipedia.org/wiki/Tail_number), departure delay, origin, destination and carrier.\n"
      ]
    },
    {
      "cell_type": "markdown",
      "metadata": {
        "id": "UUJXar0s2Hfx"
      },
      "source": [
        "### Load the data\n",
        "\n",
        "Opening .zip files in Spark is a bit of a pain. For now, let's just decompress the file we want to read. When we are ready to expand the processing to the cluster, we will need to do [this](https://stackoverflow.com/questions/28569788/how-to-open-stream-zip-files-through-spark).\n",
        "\n",
        "```python\n",
        "csvname = 'On_Time_Reporting_Carrier_On_Time_Performance_(1987_present)_2018_12.csv'\n",
        "columns_of_interest = ['Year', 'Month', 'DayofMonth', 'DayOfWeek', 'Reporting_Airline', \n",
        "                       'Tail_Number', 'Flight_Number_Reporting_Airline', 'Origin', \n",
        "                       'OriginCityName', 'OriginStateName', 'Dest', 'DestCityName', 'DestStateName',\n",
        "                       'DepTime', 'DepDelay', 'AirTime', 'Distance']\n",
        "```"
      ]
    },
    {
      "cell_type": "code",
      "metadata": {
        "scrolled": false,
        "colab": {
          "base_uri": "https://localhost:8080/"
        },
        "id": "jC2Een8t2Hfy",
        "outputId": "39f0a000-fd2d-46c9-fb33-27b386b2dc84"
      },
      "source": [
        "df = spark.read.csv('On_Time_Reporting_Carrier_On_Time_Performance_(1987_present)_2019_3.csv.gz', inferSchema=True, header=True)\n",
        "\n",
        "columns_of_interest = ['Year', 'Month', 'DayofMonth', 'DayOfWeek', 'Reporting_Airline', \n",
        "                       'Tail_Number', 'Flight_Number_Reporting_Airline', 'Origin', \n",
        "                       'OriginCityName', 'OriginStateName', 'Dest', 'DestCityName', 'DestStateName',\n",
        "                       'DepTime', 'DepDelay', 'AirTime', 'Distance']\n",
        "\n",
        "flights = df[columns_of_interest]                       \n",
        "flights"
      ],
      "execution_count": 2,
      "outputs": [
        {
          "output_type": "execute_result",
          "data": {
            "text/plain": [
              "DataFrame[Year: int, Month: int, DayofMonth: int, DayOfWeek: int, Reporting_Airline: string, Tail_Number: string, Flight_Number_Reporting_Airline: int, Origin: string, OriginCityName: string, OriginStateName: string, Dest: string, DestCityName: string, DestStateName: string, DepTime: int, DepDelay: double, AirTime: double, Distance: double]"
            ]
          },
          "metadata": {
            "tags": []
          },
          "execution_count": 2
        }
      ]
    },
    {
      "cell_type": "code",
      "metadata": {
        "colab": {
          "base_uri": "https://localhost:8080/"
        },
        "id": "TD_e20IG6z_y",
        "outputId": "111758b2-cd10-4604-d75e-3b84275a1a42"
      },
      "source": [
        "from pyspark.sql import types, functions\n",
        "\n",
        "flights.select(*[functions.count(col) for col in columns_of_interest]).show()"
      ],
      "execution_count": 8,
      "outputs": [
        {
          "output_type": "stream",
          "text": [
            "+-----------+------------+-----------------+----------------+------------------------+------------------+--------------------------------------+-------------+---------------------+----------------------+-----------+-------------------+--------------------+--------------+---------------+--------------+---------------+\n",
            "|count(Year)|count(Month)|count(DayofMonth)|count(DayOfWeek)|count(Reporting_Airline)|count(Tail_Number)|count(Flight_Number_Reporting_Airline)|count(Origin)|count(OriginCityName)|count(OriginStateName)|count(Dest)|count(DestCityName)|count(DestStateName)|count(DepTime)|count(DepDelay)|count(AirTime)|count(Distance)|\n",
            "+-----------+------------+-----------------+----------------+------------------------+------------------+--------------------------------------+-------------+---------------------+----------------------+-----------+-------------------+--------------------+--------------+---------------+--------------+---------------+\n",
            "|     632074|      632074|           632074|          632074|                  632074|            628006|                                632074|       632074|               632074|                632074|     632074|             632074|              632074|        619750|         619749|        618505|         632074|\n",
            "+-----------+------------+-----------------+----------------+------------------------+------------------+--------------------------------------+-------------+---------------------+----------------------+-----------+-------------------+--------------------+--------------+---------------+--------------+---------------+\n",
            "\n"
          ],
          "name": "stdout"
        }
      ]
    },
    {
      "cell_type": "code",
      "metadata": {
        "colab": {
          "base_uri": "https://localhost:8080/"
        },
        "id": "14UpkiIY8O_9",
        "outputId": "290d6519-d363-4574-9b24-e59dc9efe9d0"
      },
      "source": [
        "functions.sum(functions.isnull('DepDelay').astype(types.IntegerType()))"
      ],
      "execution_count": 14,
      "outputs": [
        {
          "output_type": "execute_result",
          "data": {
            "text/plain": [
              "Column<'sum(CAST((DepDelay IS NULL) AS INT))'>"
            ]
          },
          "metadata": {
            "tags": []
          },
          "execution_count": 14
        }
      ]
    },
    {
      "cell_type": "code",
      "metadata": {
        "colab": {
          "base_uri": "https://localhost:8080/"
        },
        "id": "c21IZNEB8l93",
        "outputId": "62327591-09d1-4edc-8e43-aef102edeeb4"
      },
      "source": [
        "[functions.sum(functions.isnull(col).astype(types.IntegerType())) for col in columns_of_interest]"
      ],
      "execution_count": 15,
      "outputs": [
        {
          "output_type": "execute_result",
          "data": {
            "text/plain": [
              "[Column<'sum(CAST((Year IS NULL) AS INT))'>,\n",
              " Column<'sum(CAST((Month IS NULL) AS INT))'>,\n",
              " Column<'sum(CAST((DayofMonth IS NULL) AS INT))'>,\n",
              " Column<'sum(CAST((DayOfWeek IS NULL) AS INT))'>,\n",
              " Column<'sum(CAST((Reporting_Airline IS NULL) AS INT))'>,\n",
              " Column<'sum(CAST((Tail_Number IS NULL) AS INT))'>,\n",
              " Column<'sum(CAST((Flight_Number_Reporting_Airline IS NULL) AS INT))'>,\n",
              " Column<'sum(CAST((Origin IS NULL) AS INT))'>,\n",
              " Column<'sum(CAST((OriginCityName IS NULL) AS INT))'>,\n",
              " Column<'sum(CAST((OriginStateName IS NULL) AS INT))'>,\n",
              " Column<'sum(CAST((Dest IS NULL) AS INT))'>,\n",
              " Column<'sum(CAST((DestCityName IS NULL) AS INT))'>,\n",
              " Column<'sum(CAST((DestStateName IS NULL) AS INT))'>,\n",
              " Column<'sum(CAST((DepTime IS NULL) AS INT))'>,\n",
              " Column<'sum(CAST((DepDelay IS NULL) AS INT))'>,\n",
              " Column<'sum(CAST((AirTime IS NULL) AS INT))'>,\n",
              " Column<'sum(CAST((Distance IS NULL) AS INT))'>]"
            ]
          },
          "metadata": {
            "tags": []
          },
          "execution_count": 15
        }
      ]
    },
    {
      "cell_type": "code",
      "metadata": {
        "colab": {
          "base_uri": "https://localhost:8080/"
        },
        "id": "2oYxSSRE7mUS",
        "outputId": "c6c2d2f4-de71-460a-bfef-ee886f5ad789"
      },
      "source": [
        "flights.select([functions.sum(functions.isnull(col).astype(types.IntegerType())).alias('nulls_' + col) \n",
        "                  for col in columns_of_interest]) \\\n",
        "       .show()"
      ],
      "execution_count": 17,
      "outputs": [
        {
          "output_type": "stream",
          "text": [
            "+----------+-----------+----------------+---------------+-----------------------+-----------------+-------------------------------------+------------+--------------------+---------------------+----------+------------------+-------------------+-------------+--------------+-------------+--------------+\n",
            "|nulls_Year|nulls_Month|nulls_DayofMonth|nulls_DayOfWeek|nulls_Reporting_Airline|nulls_Tail_Number|nulls_Flight_Number_Reporting_Airline|nulls_Origin|nulls_OriginCityName|nulls_OriginStateName|nulls_Dest|nulls_DestCityName|nulls_DestStateName|nulls_DepTime|nulls_DepDelay|nulls_AirTime|nulls_Distance|\n",
            "+----------+-----------+----------------+---------------+-----------------------+-----------------+-------------------------------------+------------+--------------------+---------------------+----------+------------------+-------------------+-------------+--------------+-------------+--------------+\n",
            "|         0|          0|               0|              0|                      0|             4068|                                    0|           0|                   0|                    0|         0|                 0|                  0|        12324|         12325|        13569|             0|\n",
            "+----------+-----------+----------------+---------------+-----------------------+-----------------+-------------------------------------+------------+--------------------+---------------------+----------+------------------+-------------------+-------------+--------------+-------------+--------------+\n",
            "\n"
          ],
          "name": "stdout"
        }
      ]
    },
    {
      "cell_type": "markdown",
      "metadata": {
        "id": "TI2a-Kgt2Hfy"
      },
      "source": [
        "### Drop nas\n",
        "\n",
        "There are only a few departures for which any of the columns of interest contains null values. The most expedient way to handle them is to just drop them, since they won't make much of a difference."
      ]
    },
    {
      "cell_type": "code",
      "metadata": {
        "id": "Bd8itRN97W5R"
      },
      "source": [
        "clean = flights.na.drop()"
      ],
      "execution_count": 18,
      "outputs": []
    },
    {
      "cell_type": "markdown",
      "metadata": {
        "id": "-pfRdtgB2Hfz"
      },
      "source": [
        "NA-related functions are grouped in a .na attribute of DataFrames."
      ]
    },
    {
      "cell_type": "markdown",
      "metadata": {
        "id": "wLseDpvw2Hf0"
      },
      "source": [
        "## Feature extraction and generation of target variable\n",
        "\n",
        "The departing hour is the most important factor in delays, so we need to calculate it from the departure time. Since the input file uses a funny format for times, Spark has interpreted them as floats:"
      ]
    },
    {
      "cell_type": "code",
      "metadata": {
        "scrolled": true,
        "colab": {
          "base_uri": "https://localhost:8080/"
        },
        "id": "E-S9BL0z2Hf0",
        "outputId": "7fec0f17-61a6-48c8-ff7f-da020fc4382a"
      },
      "source": [
        "clean.printSchema()"
      ],
      "execution_count": 19,
      "outputs": [
        {
          "output_type": "stream",
          "text": [
            "root\n",
            " |-- Year: integer (nullable = true)\n",
            " |-- Month: integer (nullable = true)\n",
            " |-- DayofMonth: integer (nullable = true)\n",
            " |-- DayOfWeek: integer (nullable = true)\n",
            " |-- Reporting_Airline: string (nullable = true)\n",
            " |-- Tail_Number: string (nullable = true)\n",
            " |-- Flight_Number_Reporting_Airline: integer (nullable = true)\n",
            " |-- Origin: string (nullable = true)\n",
            " |-- OriginCityName: string (nullable = true)\n",
            " |-- OriginStateName: string (nullable = true)\n",
            " |-- Dest: string (nullable = true)\n",
            " |-- DestCityName: string (nullable = true)\n",
            " |-- DestStateName: string (nullable = true)\n",
            " |-- DepTime: integer (nullable = true)\n",
            " |-- DepDelay: double (nullable = true)\n",
            " |-- AirTime: double (nullable = true)\n",
            " |-- Distance: double (nullable = true)\n",
            "\n"
          ],
          "name": "stdout"
        }
      ]
    },
    {
      "cell_type": "code",
      "metadata": {
        "colab": {
          "base_uri": "https://localhost:8080/"
        },
        "id": "WJRlJZ1n-KeI",
        "outputId": "5eb00703-53cd-493d-e467-9a18b50094ba"
      },
      "source": [
        "clean.select('DepTime').show(10)"
      ],
      "execution_count": 21,
      "outputs": [
        {
          "output_type": "stream",
          "text": [
            "+-------+\n",
            "|DepTime|\n",
            "+-------+\n",
            "|    726|\n",
            "|    730|\n",
            "|    915|\n",
            "|    913|\n",
            "|    916|\n",
            "|    920|\n",
            "|    916|\n",
            "|    912|\n",
            "|    913|\n",
            "|    915|\n",
            "+-------+\n",
            "only showing top 10 rows\n",
            "\n"
          ],
          "name": "stdout"
        }
      ]
    },
    {
      "cell_type": "markdown",
      "metadata": {
        "id": "J_PZOlz52Hf0"
      },
      "source": [
        "#### Exercise\n",
        "\n",
        "Calculated the 'DepHour' column that represents the hour as an int."
      ]
    },
    {
      "cell_type": "code",
      "metadata": {
        "colab": {
          "base_uri": "https://localhost:8080/"
        },
        "id": "kdVOdihk2Hf1",
        "outputId": "78ec91a0-205b-4a24-f9f1-1cd2d969e15d"
      },
      "source": [
        "clean.withColumn('DepHour', (clean['DepTime'] / 100).cast(types.IntegerType()))\\\n",
        "     .withColumn('Delayed', (clean['DepDelay'] > 15).cast(types.IntegerType()))  "
      ],
      "execution_count": 34,
      "outputs": [
        {
          "output_type": "execute_result",
          "data": {
            "text/plain": [
              "DataFrame[Year: int, Month: int, DayofMonth: int, DayOfWeek: int, Reporting_Airline: string, Tail_Number: string, Flight_Number_Reporting_Airline: int, Origin: string, OriginCityName: string, OriginStateName: string, Dest: string, DestCityName: string, DestStateName: string, DepTime: int, DepDelay: double, AirTime: double, Distance: double, DepHour: int, Delayed: int]"
            ]
          },
          "metadata": {
            "tags": []
          },
          "execution_count": 34
        }
      ]
    },
    {
      "cell_type": "code",
      "metadata": {
        "colab": {
          "base_uri": "https://localhost:8080/"
        },
        "id": "rhU0H4X5CyJj",
        "outputId": "fd97bf9c-a095-47cb-8718-9295027aca2f"
      },
      "source": [
        "final = clean.select('*',\n",
        "                     (clean['DepTime'] / 100).cast(types.IntegerType()).alias('DepHour'),\n",
        "                     (clean['DepDelay'] > 15).cast(types.IntegerType()).alias('Delayed'))  \n",
        "\n",
        "final"
      ],
      "execution_count": 39,
      "outputs": [
        {
          "output_type": "execute_result",
          "data": {
            "text/plain": [
              "DataFrame[Year: int, Month: int, DayofMonth: int, DayOfWeek: int, Reporting_Airline: string, Tail_Number: string, Flight_Number_Reporting_Airline: int, Origin: string, OriginCityName: string, OriginStateName: string, Dest: string, DestCityName: string, DestStateName: string, DepTime: int, DepDelay: double, AirTime: double, Distance: double, DepHour: int, Delayed: int]"
            ]
          },
          "metadata": {
            "tags": []
          },
          "execution_count": 39
        }
      ]
    },
    {
      "cell_type": "markdown",
      "metadata": {
        "id": "qInjN7_X2Hf1"
      },
      "source": [
        "We will also generate a binary target variable. The aviation industry considers a flight delayed when it departs more than 15 minutes after its scheduled departure time, so we will use that. We will create it as an integer, since that is what the learning algorithms expect."
      ]
    },
    {
      "cell_type": "code",
      "metadata": {
        "id": "zWgVuwI92Hf2"
      },
      "source": [
        ""
      ],
      "execution_count": null,
      "outputs": []
    },
    {
      "cell_type": "markdown",
      "metadata": {
        "id": "WTjpEN9p2Hf2"
      },
      "source": [
        "In order to make the training times manageable, let's pick only 10% of the data to train."
      ]
    },
    {
      "cell_type": "code",
      "metadata": {
        "id": "lcPMPFOH2Hf2"
      },
      "source": [
        "sample, rest = final.randomSplit([1., 19.], seed=7)"
      ],
      "execution_count": 42,
      "outputs": []
    },
    {
      "cell_type": "markdown",
      "metadata": {
        "id": "WpEmby_p2Hf2"
      },
      "source": [
        "## Handle different fields in different ways\n",
        "\n",
        "We have features of at least three kinds:\n",
        "\n",
        "* Numeric continuous fields, which we can use as input to many algorithms as they are. In particular, decision trees can take continuous variables with any value as input, since they only look for the cutoff point that most increases the homogeneity of the resulting groups. In contrast, if we were using a logistic regression with regularization, for example, we would need to first scale the variables to have comparable magnitudes.\n",
        "\n",
        "* There are fields which we will treat as categorical variables, but which are already integers. These need to be one-hot encoded.\n",
        "\n",
        "* Finally, there are several categorical variables that are encoded as strings. These need to be one-hot encoded, but OneHotEncoder requires numeric input. Therefore, we will need to apply a StringIndexer to each of them before one-hot encoding.\n",
        "\n",
        "```python\n",
        "# Reminder:\n",
        "\n",
        "categorical_fields = ['Year', 'Month', 'DayofMonth', 'DayOfWeek', 'Reporting_Airline', \n",
        "                      'Origin', 'OriginCityName', 'OriginStateName', \n",
        "                      'Dest', 'DestCityName', 'DestStateName']\n",
        "\n",
        "string_fields = [field.name for field in flights_sample.schema.fields if field.dataType == types.StringType()]\n",
        "\n",
        "continuous_fields = ['Distance', 'DepHour']\n",
        "\n",
        "target_field = 'Delayed'\n",
        "```"
      ]
    },
    {
      "cell_type": "code",
      "metadata": {
        "colab": {
          "base_uri": "https://localhost:8080/"
        },
        "id": "UQAmPccQNkou",
        "outputId": "ff5fade0-97ef-4649-9536-9b0bfcf62a84"
      },
      "source": [
        "sample.schema.fields"
      ],
      "execution_count": 47,
      "outputs": [
        {
          "output_type": "execute_result",
          "data": {
            "text/plain": [
              "[StructField(Year,IntegerType,true),\n",
              " StructField(Month,IntegerType,true),\n",
              " StructField(DayofMonth,IntegerType,true),\n",
              " StructField(DayOfWeek,IntegerType,true),\n",
              " StructField(Reporting_Airline,StringType,true),\n",
              " StructField(Tail_Number,StringType,true),\n",
              " StructField(Flight_Number_Reporting_Airline,IntegerType,true),\n",
              " StructField(Origin,StringType,true),\n",
              " StructField(OriginCityName,StringType,true),\n",
              " StructField(OriginStateName,StringType,true),\n",
              " StructField(Dest,StringType,true),\n",
              " StructField(DestCityName,StringType,true),\n",
              " StructField(DestStateName,StringType,true),\n",
              " StructField(DepTime,IntegerType,true),\n",
              " StructField(DepDelay,DoubleType,true),\n",
              " StructField(AirTime,DoubleType,true),\n",
              " StructField(Distance,DoubleType,true),\n",
              " StructField(DepHour,IntegerType,true),\n",
              " StructField(Delayed,IntegerType,true)]"
            ]
          },
          "metadata": {
            "tags": []
          },
          "execution_count": 47
        }
      ]
    },
    {
      "cell_type": "code",
      "metadata": {
        "colab": {
          "base_uri": "https://localhost:8080/",
          "height": 35
        },
        "id": "-v2qKXD8NoC2",
        "outputId": "cbe2f7f1-a4d0-464e-9a3f-7312144883e8"
      },
      "source": [
        "sample.schema.fields[0].name"
      ],
      "execution_count": 49,
      "outputs": [
        {
          "output_type": "execute_result",
          "data": {
            "application/vnd.google.colaboratory.intrinsic+json": {
              "type": "string"
            },
            "text/plain": [
              "'Year'"
            ]
          },
          "metadata": {
            "tags": []
          },
          "execution_count": 49
        }
      ]
    },
    {
      "cell_type": "code",
      "metadata": {
        "colab": {
          "base_uri": "https://localhost:8080/"
        },
        "id": "ZkBMBr4YNtC1",
        "outputId": "653ab1fc-a705-4d0a-b40b-578eca752a52"
      },
      "source": [
        "sample.schema.fields[0].dataType"
      ],
      "execution_count": 50,
      "outputs": [
        {
          "output_type": "execute_result",
          "data": {
            "text/plain": [
              "IntegerType"
            ]
          },
          "metadata": {
            "tags": []
          },
          "execution_count": 50
        }
      ]
    },
    {
      "cell_type": "code",
      "metadata": {
        "id": "ycw4R5gp2Hf3"
      },
      "source": [
        "categorical_fields = ['Year', 'Month', 'DayofMonth', 'DayOfWeek', 'Reporting_Airline', \n",
        "                      'Origin', 'OriginCityName', 'OriginStateName', \n",
        "                      'Dest', 'DestCityName', 'DestStateName']\n",
        " \n",
        "string_fields = [field.name for field in sample.schema.fields if field.dataType == types.StringType()]\n",
        " \n",
        "continuous_fields = ['Distance', 'DepHour']\n",
        " \n",
        "target_field = 'Delayed'"
      ],
      "execution_count": 44,
      "outputs": []
    },
    {
      "cell_type": "markdown",
      "metadata": {
        "id": "qA4V1Ecl2Hf4"
      },
      "source": [
        "We have generated the list of names of columns that have dataType string with a list comprehension, rather than hard-coding it, but it is just like the other ones."
      ]
    },
    {
      "cell_type": "code",
      "metadata": {
        "id": "4iD15QO72Hf4"
      },
      "source": [
        ""
      ],
      "execution_count": null,
      "outputs": []
    },
    {
      "cell_type": "markdown",
      "metadata": {
        "id": "I-dg5DnK2Hf4"
      },
      "source": [
        "## Handling categorical fields\n",
        "\n",
        "Let's do the processing of just one field first, as an example. Then we will process the rest."
      ]
    },
    {
      "cell_type": "markdown",
      "metadata": {
        "id": "ngvqJmWJ2Hf4"
      },
      "source": [
        "### StringIndexer \n",
        "\n",
        "A [StringIndexer](https://spark.apache.org/docs/2.2.0/ml-features.html#stringindexer) is an estimator that takes a single string field, then produces a transformer that codifies said field as numeric labels that are fit for feeding to a one-hot encoding. \n",
        "\n",
        "We need to specify an input column, an output column, and a way to handle invalids. In this case, invalids are values that the indexer has not seen during fitting but that the transformer finds during processing. Its values are 'error' (the default), which is pretty self-explanatory, 'skip', which drops them, and 'keep', which is what we want. It will assign all unseen labels to a single category index."
      ]
    },
    {
      "cell_type": "code",
      "metadata": {
        "colab": {
          "base_uri": "https://localhost:8080/"
        },
        "id": "wrwl3C_w2Hf5",
        "outputId": "c3dd6965-321f-45ad-e6bb-beb30a2e61f4"
      },
      "source": [
        "from pyspark.ml.feature import StringIndexer, StandardScaler, OneHotEncoder\n",
        "\n",
        "origin_indexer = StringIndexer(inputCol='Origin', outputCol='OriginIndex', handleInvalid='keep')\n",
        "origin_indexer.fit"
      ],
      "execution_count": 64,
      "outputs": [
        {
          "output_type": "execute_result",
          "data": {
            "text/plain": [
              "<bound method Estimator.fit of StringIndexer_be0af2e439f1>"
            ]
          },
          "metadata": {
            "tags": []
          },
          "execution_count": 64
        }
      ]
    },
    {
      "cell_type": "code",
      "metadata": {
        "colab": {
          "base_uri": "https://localhost:8080/"
        },
        "id": "WmO4uqyvZ_44",
        "outputId": "b364d900-05bb-4922-80f4-89c7693f4c29"
      },
      "source": [
        "test_df = spark.createDataFrame([('a', 1), ('b', 2), ('c', 3), ('d', 4)], schema=['x','y'])\n",
        "train, test = test_df.randomSplit([2.,2.], seed=8)\n",
        "train.show()"
      ],
      "execution_count": 105,
      "outputs": [
        {
          "output_type": "stream",
          "text": [
            "+---+---+\n",
            "|  x|  y|\n",
            "+---+---+\n",
            "|  a|  1|\n",
            "|  d|  4|\n",
            "+---+---+\n",
            "\n"
          ],
          "name": "stdout"
        }
      ]
    },
    {
      "cell_type": "code",
      "metadata": {
        "id": "TtehTCblafwt"
      },
      "source": [
        "test_indexer = StringIndexer(inputCol='x', handleInvalid='keep').fit(train)"
      ],
      "execution_count": 106,
      "outputs": []
    },
    {
      "cell_type": "code",
      "metadata": {
        "colab": {
          "base_uri": "https://localhost:8080/"
        },
        "id": "B8G2UprIcbmL",
        "outputId": "58c67fd2-ea13-4512-ac42-06fd9f8b8930"
      },
      "source": [
        "test_indexer.transform(train).show()"
      ],
      "execution_count": 109,
      "outputs": [
        {
          "output_type": "stream",
          "text": [
            "+---+---+----------------------------------+\n",
            "|  x|  y|StringIndexer_0a211fec2251__output|\n",
            "+---+---+----------------------------------+\n",
            "|  a|  1|                               0.0|\n",
            "|  d|  4|                               1.0|\n",
            "+---+---+----------------------------------+\n",
            "\n"
          ],
          "name": "stdout"
        }
      ]
    },
    {
      "cell_type": "code",
      "metadata": {
        "colab": {
          "base_uri": "https://localhost:8080/"
        },
        "id": "vPy_fOJ6adYM",
        "outputId": "a6392a8b-9924-4828-adb2-bc4b266e261c"
      },
      "source": [
        "test_indexer.transform(test).show()"
      ],
      "execution_count": 107,
      "outputs": [
        {
          "output_type": "stream",
          "text": [
            "+---+---+----------------------------------+\n",
            "|  x|  y|StringIndexer_0a211fec2251__output|\n",
            "+---+---+----------------------------------+\n",
            "|  b|  2|                               2.0|\n",
            "|  c|  3|                               2.0|\n",
            "+---+---+----------------------------------+\n",
            "\n"
          ],
          "name": "stdout"
        }
      ]
    },
    {
      "cell_type": "code",
      "metadata": {
        "colab": {
          "base_uri": "https://localhost:8080/"
        },
        "id": "FTf8NikVPXqW",
        "outputId": "323d4f5d-3961-4b0b-9389-1044f83dfa32"
      },
      "source": [
        "from pyspark.ml.base import Estimator\n",
        "\n",
        "isinstance(origin_indexer, Estimator)"
      ],
      "execution_count": 65,
      "outputs": [
        {
          "output_type": "execute_result",
          "data": {
            "text/plain": [
              "True"
            ]
          },
          "metadata": {
            "tags": []
          },
          "execution_count": 65
        }
      ]
    },
    {
      "cell_type": "code",
      "metadata": {
        "colab": {
          "base_uri": "https://localhost:8080/",
          "height": 166
        },
        "id": "gSsy10Z9Pxw_",
        "outputId": "ee029a13-1893-4b60-9a07-6dc9f834777a"
      },
      "source": [
        "origin_indexer.transform"
      ],
      "execution_count": 66,
      "outputs": [
        {
          "output_type": "error",
          "ename": "AttributeError",
          "evalue": "ignored",
          "traceback": [
            "\u001b[0;31m---------------------------------------------------------------------------\u001b[0m",
            "\u001b[0;31mAttributeError\u001b[0m                            Traceback (most recent call last)",
            "\u001b[0;32m<ipython-input-66-cecd88682bc7>\u001b[0m in \u001b[0;36m<module>\u001b[0;34m()\u001b[0m\n\u001b[0;32m----> 1\u001b[0;31m \u001b[0morigin_indexer\u001b[0m\u001b[0;34m.\u001b[0m\u001b[0mtransform\u001b[0m\u001b[0;34m\u001b[0m\u001b[0;34m\u001b[0m\u001b[0m\n\u001b[0m",
            "\u001b[0;31mAttributeError\u001b[0m: 'StringIndexer' object has no attribute 'transform'"
          ]
        }
      ]
    },
    {
      "cell_type": "code",
      "metadata": {
        "colab": {
          "base_uri": "https://localhost:8080/"
        },
        "id": "SOjIduPrP2HX",
        "outputId": "73cd79e0-52bc-41a3-e9e4-79db3461f66c"
      },
      "source": [
        "indexer_model = origin_indexer.fit(sample)\n",
        "indexer_model"
      ],
      "execution_count": 67,
      "outputs": [
        {
          "output_type": "execute_result",
          "data": {
            "text/plain": [
              "StringIndexerModel: uid=StringIndexer_be0af2e439f1, handleInvalid=keep"
            ]
          },
          "metadata": {
            "tags": []
          },
          "execution_count": 67
        }
      ]
    },
    {
      "cell_type": "code",
      "metadata": {
        "colab": {
          "base_uri": "https://localhost:8080/"
        },
        "id": "MXrbIeZQQBeW",
        "outputId": "0e033f60-4656-4c5d-cccf-f60167b8943f"
      },
      "source": [
        "indexer_model.transform"
      ],
      "execution_count": 68,
      "outputs": [
        {
          "output_type": "execute_result",
          "data": {
            "text/plain": [
              "<bound method Transformer.transform of StringIndexerModel: uid=StringIndexer_be0af2e439f1, handleInvalid=keep>"
            ]
          },
          "metadata": {
            "tags": []
          },
          "execution_count": 68
        }
      ]
    },
    {
      "cell_type": "code",
      "metadata": {
        "colab": {
          "base_uri": "https://localhost:8080/"
        },
        "id": "mMyB57CBU3r7",
        "outputId": "ef0a452b-36f8-4270-f49d-08afc1801f7d"
      },
      "source": [
        "indexer_model.transform(rest).show(5)"
      ],
      "execution_count": 69,
      "outputs": [
        {
          "output_type": "stream",
          "text": [
            "+----+-----+----------+---------+-----------------+-----------+-------------------------------+------+--------------------+---------------+----+---------------+-------------+-------+--------+-------+--------+-------+-------+-----------+\n",
            "|Year|Month|DayofMonth|DayOfWeek|Reporting_Airline|Tail_Number|Flight_Number_Reporting_Airline|Origin|      OriginCityName|OriginStateName|Dest|   DestCityName|DestStateName|DepTime|DepDelay|AirTime|Distance|DepHour|Delayed|OriginIndex|\n",
            "+----+-----+----------+---------+-----------------+-----------+-------------------------------+------+--------------------+---------------+----+---------------+-------------+-------+--------+-------+--------+-------+-------+-----------+\n",
            "|2019|    3|         1|        5|               9E|     N131EV|                           3328|   ATL|         Atlanta, GA|        Georgia| DSM| Des Moines, IA|         Iowa|   1510|     3.0|  108.0|   743.0|     15|      0|        0.0|\n",
            "|2019|    3|         1|        5|               9E|     N131EV|                           3328|   DSM|      Des Moines, IA|           Iowa| ATL|    Atlanta, GA|      Georgia|   1706|    -6.0|  101.0|   743.0|     17|      0|       66.0|\n",
            "|2019|    3|         1|        5|               9E|     N131EV|                           5078|   BMI|Bloomington/Norma...|       Illinois| ATL|    Atlanta, GA|      Georgia|    553|    -3.0|   85.0|   533.0|      5|      0|      176.0|\n",
            "|2019|    3|         1|        5|               9E|     N131EV|                           5116|   ATL|         Atlanta, GA|        Georgia| ROA|    Roanoke, VA|     Virginia|   2133|    25.0|   54.0|   357.0|     21|      1|        0.0|\n",
            "|2019|    3|         1|        5|               9E|     N131EV|                           5122|   ATL|         Atlanta, GA|        Georgia| SGF|Springfield, MO|     Missouri|    949|    -1.0|   82.0|   563.0|      9|      0|        0.0|\n",
            "+----+-----+----------+---------+-----------------+-----------+-------------------------------+------+--------------------+---------------+----+---------------+-------------+-------+--------+-------+--------+-------+-------+-----------+\n",
            "only showing top 5 rows\n",
            "\n"
          ],
          "name": "stdout"
        }
      ]
    },
    {
      "cell_type": "code",
      "metadata": {
        "id": "iM2HL1jKVeP4"
      },
      "source": [
        "index_cols = [field + 'Index' for field in string_fields]\n",
        "\n",
        "indexer = StringIndexer(inputCols=string_fields, outputCols=index_cols, handleInvalid='keep')"
      ],
      "execution_count": 137,
      "outputs": []
    },
    {
      "cell_type": "markdown",
      "metadata": {
        "id": "GDQjcSMe2Hf6"
      },
      "source": [
        "### OneHotEncoder\n",
        "\n",
        "A [OneHotEncoder](https://spark.apache.org/docs/latest/ml-features#onehotencoderestimator) generates a n-1 length vector column for an n-category column of category indices. \n",
        "\n",
        "We need to specify an input and an output column."
      ]
    },
    {
      "cell_type": "code",
      "metadata": {
        "colab": {
          "base_uri": "https://localhost:8080/"
        },
        "id": "njwMBFNt2Hf6",
        "outputId": "2ac92b23-b8ba-485d-f3c5-6b007e1a7c5a"
      },
      "source": [
        "index_cols"
      ],
      "execution_count": 138,
      "outputs": [
        {
          "output_type": "execute_result",
          "data": {
            "text/plain": [
              "['Reporting_AirlineIndex',\n",
              " 'Tail_NumberIndex',\n",
              " 'OriginIndex',\n",
              " 'OriginCityNameIndex',\n",
              " 'OriginStateNameIndex',\n",
              " 'DestIndex',\n",
              " 'DestCityNameIndex',\n",
              " 'DestStateNameIndex']"
            ]
          },
          "metadata": {
            "tags": []
          },
          "execution_count": 138
        }
      ]
    },
    {
      "cell_type": "code",
      "metadata": {
        "colab": {
          "base_uri": "https://localhost:8080/"
        },
        "id": "Lb-Z8ZJhWYAq",
        "outputId": "1a540ac5-07d0-4cd8-8e70-dbf573ee526f"
      },
      "source": [
        "cat_not_string = [field for field in categorical_fields if field not in string_fields]\n",
        "cat_not_string"
      ],
      "execution_count": 139,
      "outputs": [
        {
          "output_type": "execute_result",
          "data": {
            "text/plain": [
              "['Year', 'Month', 'DayofMonth', 'DayOfWeek']"
            ]
          },
          "metadata": {
            "tags": []
          },
          "execution_count": 139
        }
      ]
    },
    {
      "cell_type": "code",
      "metadata": {
        "colab": {
          "base_uri": "https://localhost:8080/"
        },
        "id": "AFIKaOQlXNWF",
        "outputId": "26bed03a-79dc-4106-bd45-fb99c4508f83"
      },
      "source": [
        "input_to_encoder = cat_not_string +  index_cols\n",
        "input_to_encoder"
      ],
      "execution_count": 140,
      "outputs": [
        {
          "output_type": "execute_result",
          "data": {
            "text/plain": [
              "['Year',\n",
              " 'Month',\n",
              " 'DayofMonth',\n",
              " 'DayOfWeek',\n",
              " 'Reporting_AirlineIndex',\n",
              " 'Tail_NumberIndex',\n",
              " 'OriginIndex',\n",
              " 'OriginCityNameIndex',\n",
              " 'OriginStateNameIndex',\n",
              " 'DestIndex',\n",
              " 'DestCityNameIndex',\n",
              " 'DestStateNameIndex']"
            ]
          },
          "metadata": {
            "tags": []
          },
          "execution_count": 140
        }
      ]
    },
    {
      "cell_type": "code",
      "metadata": {
        "colab": {
          "base_uri": "https://localhost:8080/"
        },
        "id": "dalWgqkdY_LW",
        "outputId": "08f7e222-f8f7-4f02-82b4-ab67070f4415"
      },
      "source": [
        "out_from_encoder = [field + 'OneHot' for field in cat_not_string + string_fields]\n",
        "out_from_encoder"
      ],
      "execution_count": 141,
      "outputs": [
        {
          "output_type": "execute_result",
          "data": {
            "text/plain": [
              "['YearOneHot',\n",
              " 'MonthOneHot',\n",
              " 'DayofMonthOneHot',\n",
              " 'DayOfWeekOneHot',\n",
              " 'Reporting_AirlineOneHot',\n",
              " 'Tail_NumberOneHot',\n",
              " 'OriginOneHot',\n",
              " 'OriginCityNameOneHot',\n",
              " 'OriginStateNameOneHot',\n",
              " 'DestOneHot',\n",
              " 'DestCityNameOneHot',\n",
              " 'DestStateNameOneHot']"
            ]
          },
          "metadata": {
            "tags": []
          },
          "execution_count": 141
        }
      ]
    },
    {
      "cell_type": "code",
      "metadata": {
        "colab": {
          "base_uri": "https://localhost:8080/"
        },
        "id": "t4fVRbWGZaSC",
        "outputId": "29209f9d-2764-4e6a-8861-2f856abc1ef4"
      },
      "source": [
        "encoder = OneHotEncoder(inputCols=input_to_encoder, outputCols=out_from_encoder, handleInvalid='keep')\n",
        "encoder"
      ],
      "execution_count": 142,
      "outputs": [
        {
          "output_type": "execute_result",
          "data": {
            "text/plain": [
              "OneHotEncoder_1395bbd1f29c"
            ]
          },
          "metadata": {
            "tags": []
          },
          "execution_count": 142
        }
      ]
    },
    {
      "cell_type": "markdown",
      "metadata": {
        "id": "sMRLSrE12Hf6"
      },
      "source": [
        "### SparseVectors\n",
        "\n",
        "The vectors produced by OneHotEncoder will each have only one non-zero value, but can potentially be very long. An efficient way to represent them is therefore a SparseVector, and that is what OneHotEncoder generates. \n",
        "\n",
        "A SparseVector is a data structure that only stores the length of the vector, a list of positions, and a list of values. All other values are assumed to be 0s.\n",
        "\n",
        "This way, a vector like the following, with lenght 15 and non-zero values only on positions 3 and 9:\n",
        "\n",
        "```python\n",
        "[0.0, 0.0, 0.0, 6.0, 0.0, 0.0, 0.0, 0.0, 0.0, 4.0, 0.0, 0.0, 0.0, 0.0, 0.0]\n",
        "```\n",
        "\n",
        "can be compactly expressed as\n",
        "\n",
        "```python\n",
        "(15, [3, 9], [6.0, 4.0])\n",
        "```"
      ]
    },
    {
      "cell_type": "code",
      "metadata": {
        "colab": {
          "base_uri": "https://localhost:8080/"
        },
        "id": "0WzyEZ-EjXLH",
        "outputId": "936db2f2-a7c1-4a50-be74-a0aeacc770c5"
      },
      "source": [
        "indexed = indexer.fit(sample).transform(sample)\n",
        "encoded = encoder.fit(indexed).transform(indexed)\n",
        "result = encoded.select('Tail_NumberOneHot')\n",
        "result.show(10)"
      ],
      "execution_count": 116,
      "outputs": [
        {
          "output_type": "stream",
          "text": [
            "+-------------------+\n",
            "|  Tail_NumberOneHot|\n",
            "+-------------------+\n",
            "| (5169,[182],[1.0])|\n",
            "| (5169,[182],[1.0])|\n",
            "| (5169,[100],[1.0])|\n",
            "| (5169,[746],[1.0])|\n",
            "| (5169,[761],[1.0])|\n",
            "|(5169,[1111],[1.0])|\n",
            "| (5169,[797],[1.0])|\n",
            "|(5169,[1586],[1.0])|\n",
            "|(5169,[1587],[1.0])|\n",
            "| (5169,[114],[1.0])|\n",
            "+-------------------+\n",
            "only showing top 10 rows\n",
            "\n"
          ],
          "name": "stdout"
        }
      ]
    },
    {
      "cell_type": "code",
      "metadata": {
        "colab": {
          "base_uri": "https://localhost:8080/"
        },
        "id": "4nze9k3diicH",
        "outputId": "95e22203-668a-4547-b4ae-5c04594e329b"
      },
      "source": [
        "continuous_fields"
      ],
      "execution_count": 117,
      "outputs": [
        {
          "output_type": "execute_result",
          "data": {
            "text/plain": [
              "['Distance', 'DepHour']"
            ]
          },
          "metadata": {
            "tags": []
          },
          "execution_count": 117
        }
      ]
    },
    {
      "cell_type": "code",
      "metadata": {
        "id": "wbhpH6sy2Hf7"
      },
      "source": [
        "from pyspark.ml.feature import VectorAssembler\n",
        "\n",
        "assembler = VectorAssembler(inputCols=out_from_encoder + continuous_fields, outputCol='features')"
      ],
      "execution_count": 118,
      "outputs": []
    },
    {
      "cell_type": "markdown",
      "metadata": {
        "id": "jjecK2hb2Hf7"
      },
      "source": [
        "## Let's build our first Pipeline!\n",
        "\n",
        "Our pipeline consists of a number of StringIndexers, followed by one OneHotEncoder, followed by a VectorAssembler, with a RandomForestClassifier at the end.\n",
        "\n",
        "A Spark Pipeline is a single Estimator. We build it secifying the stages it comprises, and then we are ready to .fit it in one go. This will save us a lot of trouble, since we don't need to fit and transform each stage individually."
      ]
    },
    {
      "cell_type": "code",
      "metadata": {
        "id": "jKI4tSDN2Hf7"
      },
      "source": [
        "from pyspark.ml.pipeline import Pipeline\n",
        "from pyspark.ml.classification import RandomForestClassifier\n",
        "\n",
        "classifier = RandomForestClassifier(featuresCol='features',\n",
        "                                    labelCol='Delayed')\n",
        "\n",
        "\n",
        "pipeline = Pipeline(stages=[indexer,\n",
        "                            encoder,\n",
        "                            assembler,\n",
        "                            classifier])"
      ],
      "execution_count": 145,
      "outputs": []
    },
    {
      "cell_type": "markdown",
      "metadata": {
        "id": "J68qGgW02Hf8"
      },
      "source": [
        "### StringIndexer stages\n",
        "\n",
        "We only need to StringIndex some of the fields. We are going to build the input and output column names programatically.\n"
      ]
    },
    {
      "cell_type": "code",
      "metadata": {
        "id": "G_vyfhlV2Hf8"
      },
      "source": [
        ""
      ],
      "execution_count": 143,
      "outputs": []
    },
    {
      "cell_type": "markdown",
      "metadata": {
        "id": "fRw_fP5y2Hf8"
      },
      "source": [
        "### OneHotEncoderEstimator\n",
        "\n",
        "One OneHotEncoderEstimator can handle all categorical columns. We are also going to build it programatically"
      ]
    },
    {
      "cell_type": "code",
      "metadata": {
        "id": "x1NQ0rO32Hf8"
      },
      "source": [
        ""
      ],
      "execution_count": 143,
      "outputs": []
    },
    {
      "cell_type": "markdown",
      "metadata": {
        "id": "ht-G7rE82Hf9"
      },
      "source": [
        "### VectorAssembler\n",
        "\n",
        "Once we have generated our features, we can assemble them into a single features column, together with the continuous_fields."
      ]
    },
    {
      "cell_type": "code",
      "metadata": {
        "id": "6BMDN6ui2Hf9"
      },
      "source": [
        ""
      ],
      "execution_count": null,
      "outputs": []
    },
    {
      "cell_type": "markdown",
      "metadata": {
        "id": "trjZeB7_2Hf9"
      },
      "source": [
        "### RandomForestClassifier\n",
        "\n",
        "Aaaaand we are ready to do some Machine Learning! We'll use a RandomForestClassifier to try to predict delayed versus non delayed flights, a binary classification task."
      ]
    },
    {
      "cell_type": "code",
      "metadata": {
        "id": "akOwJTrB2Hf9"
      },
      "source": [
        ""
      ],
      "execution_count": null,
      "outputs": []
    },
    {
      "cell_type": "markdown",
      "metadata": {
        "id": "YvF7dKh52Hf-"
      },
      "source": [
        "### Pipeline!\n",
        "\n",
        "Now that we have all the stages, we are finally ready to put them together into a single Estimator, our Pipeline."
      ]
    },
    {
      "cell_type": "code",
      "metadata": {
        "id": "G5BVCDhL2Hf-"
      },
      "source": [
        ""
      ],
      "execution_count": null,
      "outputs": []
    },
    {
      "cell_type": "markdown",
      "metadata": {
        "id": "YsjhEjd02Hf-"
      },
      "source": [
        "Now that we have gone to the trouble of building our Pipeline, fitting it and using it to predict the probabilty of delay on unseen data is as easy as using a single Estimator:"
      ]
    },
    {
      "cell_type": "code",
      "metadata": {
        "scrolled": false,
        "colab": {
          "base_uri": "https://localhost:8080/"
        },
        "id": "V0A3xWqc2Hf-",
        "outputId": "5163f6dc-9b64-4058-a321-cbc7e3e29a50"
      },
      "source": [
        "output_of_pipeline = pipeline.fit(sample)\n",
        "output_of_pipeline"
      ],
      "execution_count": 125,
      "outputs": [
        {
          "output_type": "execute_result",
          "data": {
            "text/plain": [
              "PipelineModel_9dbcbe5f6f17"
            ]
          },
          "metadata": {
            "tags": []
          },
          "execution_count": 125
        }
      ]
    },
    {
      "cell_type": "markdown",
      "metadata": {
        "id": "YNMEtrGG2Hf_"
      },
      "source": [
        "## Evaluating and tuning our Pipeline\n",
        "\n",
        "Probably the most interesting use of Spark Pipelines is quickly (in terms of coding time) evaluating many combinations of hyperparameters to feed our model and choosing the best ones. For that, we can use a TrainValidationSplit or a CrossValidator. The CrossValidator will generally perform better, but it will take several times as much. I'm using here the TrainValidationSplit because the API is the same."
      ]
    },
    {
      "cell_type": "code",
      "metadata": {
        "id": "QwPv-CB_2Hf_"
      },
      "source": [
        "from pyspark.ml.tuning import TrainValidationSplit, CrossValidator"
      ],
      "execution_count": 144,
      "outputs": []
    },
    {
      "cell_type": "markdown",
      "metadata": {
        "id": "ndrNOlVb2Hf_"
      },
      "source": [
        "### Params and Evaluators\n",
        "\n",
        "In order to evaluate different sets of parameters, we need a) the set of parameters to iterate through and b) a metric to compare the results. \n",
        "\n",
        "The first element is represented by ParamMaps, which we build with a ParamGridBuilder, and the second by an Evaluator that needs to be specific to the relevant task."
      ]
    },
    {
      "cell_type": "code",
      "metadata": {
        "colab": {
          "base_uri": "https://localhost:8080/"
        },
        "id": "QqE1pHjWqNVH",
        "outputId": "59a0888b-be28-4515-80c5-4a5eb695b647"
      },
      "source": [
        "print(classifier.explainParams())"
      ],
      "execution_count": 129,
      "outputs": [
        {
          "output_type": "stream",
          "text": [
            "bootstrap: Whether bootstrap samples are used when building trees. (default: True)\n",
            "cacheNodeIds: If false, the algorithm will pass trees to executors to match instances with nodes. If true, the algorithm will cache node IDs for each instance. Caching can speed up training of deeper trees. Users can set how often should the cache be checkpointed or disable it by setting checkpointInterval. (default: False)\n",
            "checkpointInterval: set checkpoint interval (>= 1) or disable checkpoint (-1). E.g. 10 means that the cache will get checkpointed every 10 iterations. Note: this setting will be ignored if the checkpoint directory is not set in the SparkContext. (default: 10)\n",
            "featureSubsetStrategy: The number of features to consider for splits at each tree node. Supported options: 'auto' (choose automatically for task: If numTrees == 1, set to 'all'. If numTrees > 1 (forest), set to 'sqrt' for classification and to 'onethird' for regression), 'all' (use all features), 'onethird' (use 1/3 of the features), 'sqrt' (use sqrt(number of features)), 'log2' (use log2(number of features)), 'n' (when n is in the range (0, 1.0], use n * number of features. When n is in the range (1, number of features), use n features). default = 'auto' (default: auto)\n",
            "featuresCol: features column name. (default: features, current: features)\n",
            "impurity: Criterion used for information gain calculation (case-insensitive). Supported options: entropy, gini (default: gini)\n",
            "labelCol: label column name. (default: label, current: Delayed)\n",
            "leafCol: Leaf indices column name. Predicted leaf index of each instance in each tree by preorder. (default: )\n",
            "maxBins: Max number of bins for discretizing continuous features.  Must be >=2 and >= number of categories for any categorical feature. (default: 32)\n",
            "maxDepth: Maximum depth of the tree. (>= 0) E.g., depth 0 means 1 leaf node; depth 1 means 1 internal node + 2 leaf nodes. (default: 5)\n",
            "maxMemoryInMB: Maximum memory in MB allocated to histogram aggregation. If too small, then 1 node will be split per iteration, and its aggregates may exceed this size. (default: 256)\n",
            "minInfoGain: Minimum information gain for a split to be considered at a tree node. (default: 0.0)\n",
            "minInstancesPerNode: Minimum number of instances each child must have after split. If a split causes the left or right child to have fewer than minInstancesPerNode, the split will be discarded as invalid. Should be >= 1. (default: 1)\n",
            "minWeightFractionPerNode: Minimum fraction of the weighted sample count that each child must have after split. If a split causes the fraction of the total weight in the left or right child to be less than minWeightFractionPerNode, the split will be discarded as invalid. Should be in interval [0.0, 0.5). (default: 0.0)\n",
            "numTrees: Number of trees to train (>= 1). (default: 20)\n",
            "predictionCol: prediction column name. (default: prediction)\n",
            "probabilityCol: Column name for predicted class conditional probabilities. Note: Not all models output well-calibrated probability estimates! These probabilities should be treated as confidences, not precise probabilities. (default: probability)\n",
            "rawPredictionCol: raw prediction (a.k.a. confidence) column name. (default: rawPrediction)\n",
            "seed: random seed. (default: 7199079021212270255)\n",
            "subsamplingRate: Fraction of the training data used for learning each decision tree, in range (0, 1]. (default: 1.0)\n",
            "thresholds: Thresholds in multi-class classification to adjust the probability of predicting each class. Array must have length equal to the number of classes, with values > 0, excepting that at most one value may be 0. The class with largest value p/t is predicted, where p is the original probability of that class and t is the class's threshold. (undefined)\n",
            "weightCol: weight column name. If this is not set or empty, we treat all instance weights as 1.0. (undefined)\n"
          ],
          "name": "stdout"
        }
      ]
    },
    {
      "cell_type": "code",
      "metadata": {
        "colab": {
          "base_uri": "https://localhost:8080/"
        },
        "id": "mTWBap8v2HgA",
        "outputId": "06391135-805b-4f79-f654-3057634e026c"
      },
      "source": [
        "from pyspark.ml.tuning import ParamGridBuilder\n",
        "from pyspark.ml.evaluation import BinaryClassificationEvaluator\n",
        "\n",
        "param_grid = ParamGridBuilder().addGrid(classifier.maxDepth, [5])\\\n",
        "                               .addGrid(classifier.numTrees, [5])\\\n",
        "                               .build()\n",
        "\n",
        "evaluator = BinaryClassificationEvaluator(labelCol='Delayed')\n",
        "\n",
        "\n",
        "tv_split = CrossValidator(estimator=pipeline, \n",
        "                                estimatorParamMaps=param_grid, \n",
        "                                evaluator=evaluator)                     \n",
        "\n",
        "tv_split"
      ],
      "execution_count": 149,
      "outputs": [
        {
          "output_type": "execute_result",
          "data": {
            "text/plain": [
              "CrossValidator_95198614d388"
            ]
          },
          "metadata": {
            "tags": []
          },
          "execution_count": 149
        }
      ]
    },
    {
      "cell_type": "markdown",
      "metadata": {
        "id": "yKRij3U-2HgA"
      },
      "source": [
        "We now have all the elements in place to perform our fit:"
      ]
    },
    {
      "cell_type": "code",
      "metadata": {
        "colab": {
          "base_uri": "https://localhost:8080/"
        },
        "id": "ZMCuX5yT2HgA",
        "outputId": "f8393583-0fb3-40c8-be64-39fca0d021ae"
      },
      "source": [
        "model = tv_split.fit(sample)\n",
        "model"
      ],
      "execution_count": 150,
      "outputs": [
        {
          "output_type": "execute_result",
          "data": {
            "text/plain": [
              "CrossValidatorModel_262974e2dd77"
            ]
          },
          "metadata": {
            "tags": []
          },
          "execution_count": 150
        }
      ]
    },
    {
      "cell_type": "code",
      "metadata": {
        "colab": {
          "base_uri": "https://localhost:8080/"
        },
        "id": "ihQ3but4xVyE",
        "outputId": "1bfd9498-1eb8-4c5e-8e02-39c0b40e7594"
      },
      "source": [
        "model.getEstimator()"
      ],
      "execution_count": 151,
      "outputs": [
        {
          "output_type": "execute_result",
          "data": {
            "text/plain": [
              "Pipeline_70726c1bde3e"
            ]
          },
          "metadata": {
            "tags": []
          },
          "execution_count": 151
        }
      ]
    },
    {
      "cell_type": "code",
      "metadata": {
        "colab": {
          "base_uri": "https://localhost:8080/"
        },
        "id": "wK5FnNBaxblU",
        "outputId": "f7db4cd1-b5c0-4ba7-a6b2-1552e36e3d45"
      },
      "source": [
        "model.getEstimatorParamMaps()"
      ],
      "execution_count": 153,
      "outputs": [
        {
          "output_type": "execute_result",
          "data": {
            "text/plain": [
              "[{Param(parent='RandomForestClassifier_dc199e0e58f6', name='maxDepth', doc='Maximum depth of the tree. (>= 0) E.g., depth 0 means 1 leaf node; depth 1 means 1 internal node + 2 leaf nodes.'): 5,\n",
              "  Param(parent='RandomForestClassifier_dc199e0e58f6', name='numTrees', doc='Number of trees to train (>= 1).'): 5}]"
            ]
          },
          "metadata": {
            "tags": []
          },
          "execution_count": 153
        }
      ]
    },
    {
      "cell_type": "markdown",
      "metadata": {
        "id": "FanyrjQA2HgA"
      },
      "source": [
        "And now we can predict on the rest of the flights and compare them with reality:"
      ]
    },
    {
      "cell_type": "code",
      "metadata": {
        "id": "Fvf7V8z72HgB"
      },
      "source": [
        ""
      ],
      "execution_count": null,
      "outputs": []
    },
    {
      "cell_type": "markdown",
      "metadata": {
        "id": "2YVmGgqu2HgB"
      },
      "source": [
        "### Let's have a look\n",
        "\n",
        "We are now ready to compare our predictions with reality. Do these features have any predictive power at all?"
      ]
    },
    {
      "cell_type": "code",
      "metadata": {
        "id": "izspY4S52HgB"
      },
      "source": [
        ""
      ],
      "execution_count": null,
      "outputs": []
    },
    {
      "cell_type": "markdown",
      "metadata": {
        "id": "tp0fltQN2HgB"
      },
      "source": [
        "Not bad, considering we have not performed any feature engineering at all!"
      ]
    },
    {
      "cell_type": "markdown",
      "metadata": {
        "id": "-kWc6eCw2HgC"
      },
      "source": [
        "### Further Reading\n",
        "\n",
        "https://spark.apache.org/docs/latest/ml-tuning.html\n",
        "\n",
        "https://stackoverflow.com/questions/28569788/how-to-open-stream-zip-files-through-spark"
      ]
    },
    {
      "cell_type": "code",
      "metadata": {
        "id": "QhmuPUky2HgC"
      },
      "source": [
        ""
      ],
      "execution_count": null,
      "outputs": []
    }
  ]
}