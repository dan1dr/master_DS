{
  "nbformat": 4,
  "nbformat_minor": 0,
  "metadata": {
    "anaconda-cloud": {},
    "kernelspec": {
      "display_name": "Python 3",
      "language": "python",
      "name": "python3"
    },
    "language_info": {
      "codemirror_mode": {
        "name": "ipython",
        "version": 3
      },
      "file_extension": ".py",
      "mimetype": "text/x-python",
      "name": "python",
      "nbconvert_exporter": "python",
      "pygments_lexer": "ipython3",
      "version": "3.7.10"
    },
    "toc": {
      "base_numbering": 1,
      "nav_menu": {},
      "number_sections": true,
      "sideBar": true,
      "skip_h1_title": false,
      "title_cell": "Table of Contents",
      "title_sidebar": "Contents",
      "toc_cell": false,
      "toc_position": {},
      "toc_section_display": true,
      "toc_window_display": false
    },
    "colab": {
      "name": "01-first_steps_with_distributed_systems-MapReduce.inclass.ipynb",
      "provenance": [],
      "collapsed_sections": [
        "RBLLlAncd_Dg",
        "d4Evh4shd_Dh",
        "S4FP7Lgad_Dm",
        "CR7IJjWgd_Do",
        "VzfVkuord_Dq",
        "HNXkDHY4d_Dt",
        "Ek95IOuBd_Dv",
        "v6PE1WCOd_Dw",
        "cSN7Qfs5d_Dw",
        "aWQZ5nGmd_Dx",
        "7X4X6TLTd_D5",
        "4M3fHlGOd_D6",
        "2cpuTFifd_D6",
        "jncExH-ad_D7",
        "xedqtwfJd_D7",
        "srlC-YG5d_D8",
        "3bHNCCZpd_D9",
        "hmQCh4mwd_D9",
        "ivKglm4Nd_D9",
        "PhLYO4ted_D-",
        "9sa_TgCId_D_",
        "9Cv-W6FUd_D_",
        "UvA9HtOUd_EA",
        "DSixdxUZd_EB",
        "jBsxDQv_d_EB",
        "LK1cnn3Wd_EC",
        "QAu8wUWmd_EC",
        "XadQ0Znjd_ED",
        "wiI7lkppd_ED",
        "vgP37Y51d_EE",
        "gs53iQFRd_EH",
        "clFL_32vd_EJ"
      ]
    }
  },
  "cells": [
    {
      "cell_type": "markdown",
      "metadata": {
        "id": "nwBOhescd_DM"
      },
      "source": [
        "# First steps in PySpark \n",
        "\n",
        "In this notebook we will learn the fundamentals of functional programming, as well as the basic abstraction of a distributed object in Spark, the RDD. The notebook has been divided into two parts:\n",
        "\n",
        "Part 1: map/reduce basics\n",
        "\n",
        "Part 2: Work with RDD and Pair RDD abstractions \n",
        "\n",
        "<a href = \"http://yogen.io\"><img src=\"http://yogen.io/assets/logo.svg\" alt=\"yogen\" style=\"width: 200px; float: right;\"/></a>"
      ]
    },
    {
      "cell_type": "markdown",
      "metadata": {
        "id": "tB9r7u0fd_DP"
      },
      "source": [
        " \n"
      ]
    },
    {
      "cell_type": "markdown",
      "metadata": {
        "id": "ts5RztSYd_DR"
      },
      "source": [
        "# Part 1: map/reduce basics\n",
        "\n",
        "![Hadoop Logo](https://upload.wikimedia.org/wikipedia/commons/thumb/0/0e/Hadoop_logo.svg/220px-Hadoop_logo.svg.png)\n",
        "# **Apache Hadoop (MapReduce)**\n",
        "\n",
        "It is an open source software framework written in Java for distributed storage and distributed processing of very large data sets on computer clusters built from commodity hardware. All the modules in Hadoop are designed with a fundamental assumption that hardware failures (of individual machines, or racks of machines) are common and thus should be automatically handled in software by the framework.\n",
        "\n",
        "The core of Apache Hadoop consists of a storage part (Hadoop Distributed File System (HDFS)) and a processing part (MapReduce). Hadoop splits files into large blocks and distributes them amongst the nodes in the cluster. To process the data, Hadoop MapReduce transfers packaged code for nodes to process in parallel, based on the data each node needs to process. This approach takes advantage of data locality — nodes manipulating the data that they have on hand — to allow the data to be processed faster and more efficiently than it would be in a more conventional supercomputer architecture that relies on a parallel file system where computation and data are connected via high-speed networking.\n",
        "\n",
        "![Map/shuffle/reduce](https://image.slidesharecdn.com/datasciencewebinar061312-120618165932-phpapp02/95/how-salesforcecom-uses-hadoop-41-728.jpg?cb=1340920667)\n",
        "\n",
        "Since data and computation are distributed, we should avoid the use of variables, i.e. mutable data. Thus, in contrast to impertaive programming, we shall use the functional approach (lambda calculus)."
      ]
    },
    {
      "cell_type": "markdown",
      "metadata": {
        "id": "A91pqA78d_DS"
      },
      "source": [
        "### The goal of the following excercises is to understand basic lambda calculus with python."
      ]
    },
    {
      "cell_type": "markdown",
      "metadata": {
        "id": "Ge-60cn_d_DT"
      },
      "source": [
        "### (1a) Functional programming in Python\n",
        "\n",
        "So, what is Functional Programming? From Wikipedia: \n",
        "\n",
        "« …a  programing paradigm that treats computation as the evaluation of mathematical functions and **avoids changing-state and mutable  data**.»\n",
        "\n",
        "It´s based upon Lambda calculus, wich consist of:\n",
        " * Function definition (declaration of expressions)\n",
        " * Function application (evaluation of those expressions)\n",
        " * Recursion (iteration)\n",
        "\n",
        "We have already used this in python!!! :)\n",
        "\n",
        "Recall the typical \"lambda x: x+1\" we have been using as the first argument of map, reduce and filter methods:\n",
        " * **map** maps each value in the input collection to a different value. It´s just the classical mathematical funciton we are used to!\n",
        " * **reduce** takes two values from the input collection and returns a new value (of the same type) by appliying a commutative operation to them. \n",
        " * **filter** filters the elements in the input collection according to a certain (boolean) criteria.\n",
        " "
      ]
    },
    {
      "cell_type": "markdown",
      "metadata": {
        "id": "WZlZkrTYd_DT"
      },
      "source": [
        "**Mapping**\n",
        "\n",
        "`map` is a Higher Order Function (HOF) that takes a function f and a sequence and returns a new sequence formed by applying f to each element in the original sequence. \n",
        "\n",
        "![map](https://cosminpupaza.files.wordpress.com/2015/10/map.png?w=505)"
      ]
    },
    {
      "cell_type": "code",
      "metadata": {
        "colab": {
          "base_uri": "https://localhost:8080/"
        },
        "id": "K6DBXqTtd_DU",
        "outputId": "315a3ed2-be18-409a-d435-5dee3cc5cbcb"
      },
      "source": [
        "import math\n",
        "\n",
        "math.log1p(2)"
      ],
      "execution_count": 1,
      "outputs": [
        {
          "output_type": "execute_result",
          "data": {
            "text/plain": [
              "1.0986122886681096"
            ]
          },
          "metadata": {
            "tags": []
          },
          "execution_count": 1
        }
      ]
    },
    {
      "cell_type": "code",
      "metadata": {
        "colab": {
          "base_uri": "https://localhost:8080/"
        },
        "id": "y0t1V_rhd_DW",
        "outputId": "cd530209-3efd-461e-c98d-ffe8ac0b85c7"
      },
      "source": [
        "list(map(math.log1p, range(5)))"
      ],
      "execution_count": 2,
      "outputs": [
        {
          "output_type": "execute_result",
          "data": {
            "text/plain": [
              "[0.0,\n",
              " 0.6931471805599453,\n",
              " 1.0986122886681096,\n",
              " 1.3862943611198906,\n",
              " 1.6094379124341003]"
            ]
          },
          "metadata": {
            "tags": []
          },
          "execution_count": 2
        }
      ]
    },
    {
      "cell_type": "code",
      "metadata": {
        "colab": {
          "base_uri": "https://localhost:8080/"
        },
        "id": "4mP26UARd_DX",
        "outputId": "d4240239-b981-4bfb-83e7-e843b3fbafed"
      },
      "source": [
        "math.log1p"
      ],
      "execution_count": 3,
      "outputs": [
        {
          "output_type": "execute_result",
          "data": {
            "text/plain": [
              "<function math.log1p>"
            ]
          },
          "metadata": {
            "tags": []
          },
          "execution_count": 3
        }
      ]
    },
    {
      "cell_type": "markdown",
      "metadata": {
        "id": "gQJrr82_d_DX"
      },
      "source": [
        "Very often we write lambdas, anonymous functions, to use in defining simple transformations with `map`:\n"
      ]
    },
    {
      "cell_type": "code",
      "metadata": {
        "colab": {
          "base_uri": "https://localhost:8080/"
        },
        "id": "gqH1O4aPd_DY",
        "outputId": "5c15cd8d-db4e-4e97-d4fa-356f4a04cc93"
      },
      "source": [
        "list(map(lambda x: x + 2, [4, 8 , 9]))"
      ],
      "execution_count": 4,
      "outputs": [
        {
          "output_type": "execute_result",
          "data": {
            "text/plain": [
              "[6, 10, 11]"
            ]
          },
          "metadata": {
            "tags": []
          },
          "execution_count": 4
        }
      ]
    },
    {
      "cell_type": "code",
      "metadata": {
        "colab": {
          "base_uri": "https://localhost:8080/"
        },
        "id": "FsjrYuN2d_DY",
        "outputId": "ae3782e4-84ef-44af-f1a1-bb1a7585245e"
      },
      "source": [
        "vehicles = ['coche', 'moto', 'bici']\n",
        "\n",
        "list(map(lambda word: word + 's', vehicles))"
      ],
      "execution_count": 5,
      "outputs": [
        {
          "output_type": "execute_result",
          "data": {
            "text/plain": [
              "['coches', 'motos', 'bicis']"
            ]
          },
          "metadata": {
            "tags": []
          },
          "execution_count": 5
        }
      ]
    },
    {
      "cell_type": "code",
      "metadata": {
        "id": "OWEU5TQTd_DZ"
      },
      "source": [
        "def plural(word):\n",
        "    return word + 's'"
      ],
      "execution_count": 6,
      "outputs": []
    },
    {
      "cell_type": "markdown",
      "metadata": {
        "id": "IEiJxAJ6d_DZ"
      },
      "source": [
        "We can also use named functions, of course. Note that we pass them as arguments to `map`, not execute them. You can think of them as tools we give to `map` for it to use."
      ]
    },
    {
      "cell_type": "code",
      "metadata": {
        "colab": {
          "base_uri": "https://localhost:8080/"
        },
        "id": "tzkXzp9bd_Da",
        "outputId": "d7d24ba7-cdfc-4a20-b86c-03ecaa53d00f"
      },
      "source": [
        "list(map(plural, vehicles))"
      ],
      "execution_count": 7,
      "outputs": [
        {
          "output_type": "execute_result",
          "data": {
            "text/plain": [
              "['coches', 'motos', 'bicis']"
            ]
          },
          "metadata": {
            "tags": []
          },
          "execution_count": 7
        }
      ]
    },
    {
      "cell_type": "markdown",
      "metadata": {
        "id": "gWRVk4TJd_Da"
      },
      "source": [
        "Consider the following very common pattern: create empty list, append transformed elements one by one:"
      ]
    },
    {
      "cell_type": "code",
      "metadata": {
        "colab": {
          "base_uri": "https://localhost:8080/"
        },
        "id": "NKxLT5pcd_Da",
        "outputId": "0394a91f-bec2-4235-a34e-b77d643eef09"
      },
      "source": [
        "result = []\n",
        "\n",
        "for word in vehicles:\n",
        "    result.append(plural(word))\n",
        "    \n",
        "result"
      ],
      "execution_count": 8,
      "outputs": [
        {
          "output_type": "execute_result",
          "data": {
            "text/plain": [
              "['coches', 'motos', 'bicis']"
            ]
          },
          "metadata": {
            "tags": []
          },
          "execution_count": 8
        }
      ]
    },
    {
      "cell_type": "markdown",
      "metadata": {
        "id": "cT0ede8Gd_Db"
      },
      "source": [
        "We can abstract over every possible list by defining a function that takes the list as an argument:"
      ]
    },
    {
      "cell_type": "code",
      "metadata": {
        "colab": {
          "base_uri": "https://localhost:8080/"
        },
        "id": "z0A7l1KTd_Db",
        "outputId": "16e1ddbd-0ca7-46ba-e342-661f75c2751d"
      },
      "source": [
        "def pluralize_list(input_list):\n",
        "\n",
        "    result = []\n",
        "\n",
        "    for word in input_list:\n",
        "        result.append(plural(word))\n",
        "\n",
        "    return result\n",
        "    \n",
        "pluralize_list(['mama', 'papa'])"
      ],
      "execution_count": 9,
      "outputs": [
        {
          "output_type": "execute_result",
          "data": {
            "text/plain": [
              "['mamas', 'papas']"
            ]
          },
          "metadata": {
            "tags": []
          },
          "execution_count": 9
        }
      ]
    },
    {
      "cell_type": "markdown",
      "metadata": {
        "id": "9_t6T-b9d_Dc"
      },
      "source": [
        "Consider this other piece of code: we are doing a very similar thing, but with a different function. A lot of the code is common between the two little programs.\n",
        "\n",
        "Wouldn't it be convenient if we could abstract over every function, as we did over every list?"
      ]
    },
    {
      "cell_type": "code",
      "metadata": {
        "id": "RDhuWwaFd_Dc"
      },
      "source": [
        ""
      ],
      "execution_count": 9,
      "outputs": []
    },
    {
      "cell_type": "markdown",
      "metadata": {
        "id": "L9RiMIa4d_Dc"
      },
      "source": [
        "We can, taking the function to be applied as an argument. This is because Python treats functions as first-class objects, so they can be used as arguments to other functions."
      ]
    },
    {
      "cell_type": "code",
      "metadata": {
        "colab": {
          "base_uri": "https://localhost:8080/"
        },
        "id": "qKxETUm8d_Dd",
        "outputId": "bc93ddfd-1989-4649-cb23-c41fc3a6ac4e"
      },
      "source": [
        "def process_list(f, input_list):\n",
        "    result = []\n",
        "\n",
        "    for word in input_list:\n",
        "        result.append(f(word))\n",
        "\n",
        "    return result\n",
        "    \n",
        "process_list(len, vehicles)"
      ],
      "execution_count": 10,
      "outputs": [
        {
          "output_type": "execute_result",
          "data": {
            "text/plain": [
              "[5, 4, 4]"
            ]
          },
          "metadata": {
            "tags": []
          },
          "execution_count": 10
        }
      ]
    },
    {
      "cell_type": "markdown",
      "metadata": {
        "id": "1iRI438Jd_Dd"
      },
      "source": [
        "That function we just wrote, `process_list`, is exactly what `map` is"
      ]
    },
    {
      "cell_type": "markdown",
      "metadata": {
        "id": "dOi3Fc3Yd_De"
      },
      "source": [
        "**Filtering**\n",
        "\n",
        "`filter` encodes another very common pattern: building a sequence from some of the elements of an input sequence, deciding whether to include each based on the result of evaluating a function, often called the `predicate`, on each of the elements.\n",
        "\n",
        "\n",
        "![filter](https://cosminpupaza.files.wordpress.com/2015/11/filter.png?w=405)"
      ]
    },
    {
      "cell_type": "code",
      "metadata": {
        "colab": {
          "base_uri": "https://localhost:8080/"
        },
        "id": "axNR37t4d_De",
        "outputId": "423d4f4e-e44e-43b0-e0f1-0655e0ffc4ca"
      },
      "source": [
        "list(filter(lambda x: x % 2 == 0, range(10)))"
      ],
      "execution_count": 11,
      "outputs": [
        {
          "output_type": "execute_result",
          "data": {
            "text/plain": [
              "[0, 2, 4, 6, 8]"
            ]
          },
          "metadata": {
            "tags": []
          },
          "execution_count": 11
        }
      ]
    },
    {
      "cell_type": "markdown",
      "metadata": {
        "id": "5rk_7aCAd_Df"
      },
      "source": [
        "Again, we can use either lambdas or named functions."
      ]
    },
    {
      "cell_type": "code",
      "metadata": {
        "colab": {
          "base_uri": "https://localhost:8080/"
        },
        "id": "sz-i-YdSd_Df",
        "outputId": "03eb21c1-c5a0-43a1-dbff-dd202f13f00f"
      },
      "source": [
        "def iseven(number):\n",
        "    return number % 2 == 0\n",
        "\n",
        "list(filter(iseven, range(10)))"
      ],
      "execution_count": 12,
      "outputs": [
        {
          "output_type": "execute_result",
          "data": {
            "text/plain": [
              "[0, 2, 4, 6, 8]"
            ]
          },
          "metadata": {
            "tags": []
          },
          "execution_count": 12
        }
      ]
    },
    {
      "cell_type": "markdown",
      "metadata": {
        "id": "RBLLlAncd_Dg"
      },
      "source": [
        "#### Exercise\n",
        "\n",
        "write a filter to extract those words that have more than 3 letters from `collection_of_strings`"
      ]
    },
    {
      "cell_type": "code",
      "metadata": {
        "colab": {
          "base_uri": "https://localhost:8080/"
        },
        "id": "DtYA7r9qd_Dg",
        "outputId": "046bad8b-1d92-423f-be82-2a4fccdc64e7"
      },
      "source": [
        "collection_of_strings = ['tea', 'coffee', 'chai', '7up', 'coca-cola']\n",
        "\n",
        "list(filter(lambda word: len(word) > 3, collection_of_strings))"
      ],
      "execution_count": 13,
      "outputs": [
        {
          "output_type": "execute_result",
          "data": {
            "text/plain": [
              "['coffee', 'chai', 'coca-cola']"
            ]
          },
          "metadata": {
            "tags": []
          },
          "execution_count": 13
        }
      ]
    },
    {
      "cell_type": "markdown",
      "metadata": {
        "id": "d4Evh4shd_Dh"
      },
      "source": [
        "#### Exercise\n",
        "\n",
        "Write a filter to extract prime numbers from the following list of integers:\n",
        "\n",
        "```python\n",
        "[12, 17, 19, 18, 23, 24]\n",
        "```\n",
        "\n",
        "You will need to write a function that determines whether a single number is a prime or not."
      ]
    },
    {
      "cell_type": "code",
      "metadata": {
        "colab": {
          "base_uri": "https://localhost:8080/"
        },
        "id": "9hqiYcp2d_Di",
        "outputId": "b9c1f510-e341-42bb-94b6-006763bae501"
      },
      "source": [
        "def isprime(n):\n",
        "    for candidate in range(2, n):\n",
        "        if n % candidate == 0:\n",
        "            return False\n",
        "    \n",
        "    return True\n",
        "\n",
        "isprime(10)"
      ],
      "execution_count": 14,
      "outputs": [
        {
          "output_type": "execute_result",
          "data": {
            "text/plain": [
              "False"
            ]
          },
          "metadata": {
            "tags": []
          },
          "execution_count": 14
        }
      ]
    },
    {
      "cell_type": "code",
      "metadata": {
        "colab": {
          "base_uri": "https://localhost:8080/"
        },
        "id": "lztdrFdMd_Di",
        "outputId": "9b5ce999-1e04-4544-e354-85bdf6bab4ac"
      },
      "source": [
        "numbers = [12, 17, 19, 18, 23, 24] \n",
        "\n",
        "list(filter(isprime, numbers))"
      ],
      "execution_count": 15,
      "outputs": [
        {
          "output_type": "execute_result",
          "data": {
            "text/plain": [
              "[17, 19, 23]"
            ]
          },
          "metadata": {
            "tags": []
          },
          "execution_count": 15
        }
      ]
    },
    {
      "cell_type": "markdown",
      "metadata": {
        "id": "C6a5eMP4d_Dj"
      },
      "source": [
        "`map` and `filter` are not  used explicitly very often in Python, in part because of their cumbersome syntax. \n",
        "\n",
        "Nevertheless, there is a well-known feature in Python that is in fact just a convenient way to write `map`s and `filter`s: **list comprehensions**:"
      ]
    },
    {
      "cell_type": "code",
      "metadata": {
        "colab": {
          "base_uri": "https://localhost:8080/"
        },
        "id": "kUY6PWWkd_Dj",
        "outputId": "b1f4cc58-c79f-4af0-fbdf-647748a659de"
      },
      "source": [
        "[ x ** 2 for x in range(20) if isprime(x) ] "
      ],
      "execution_count": 16,
      "outputs": [
        {
          "output_type": "execute_result",
          "data": {
            "text/plain": [
              "[0, 1, 4, 9, 25, 49, 121, 169, 289, 361]"
            ]
          },
          "metadata": {
            "tags": []
          },
          "execution_count": 16
        }
      ]
    },
    {
      "cell_type": "markdown",
      "metadata": {
        "id": "5Sfl8UnEd_Dk"
      },
      "source": [
        "The above list comprehension is exactly equivalent to:"
      ]
    },
    {
      "cell_type": "code",
      "metadata": {
        "colab": {
          "base_uri": "https://localhost:8080/"
        },
        "id": "PiB5sd5nd_Dk",
        "outputId": "03fe9e57-436f-4360-e8cd-ae46debace3c"
      },
      "source": [
        "list(map(lambda x: x ** 2, (filter(isprime, range(20)))))"
      ],
      "execution_count": 17,
      "outputs": [
        {
          "output_type": "execute_result",
          "data": {
            "text/plain": [
              "[0, 1, 4, 9, 25, 49, 121, 169, 289, 361]"
            ]
          },
          "metadata": {
            "tags": []
          },
          "execution_count": 17
        }
      ]
    },
    {
      "cell_type": "markdown",
      "metadata": {
        "id": "M8YBdhaJd_Dk"
      },
      "source": [
        "Which is a pipeline of two steps: first a `filter`, then a `map`"
      ]
    },
    {
      "cell_type": "markdown",
      "metadata": {
        "id": "RSCbfr4ed_Dl"
      },
      "source": [
        "**Reducing** \n",
        "\n",
        "`reduce` is the third basic foundation of functional programming. Reduce uses a function, often called the `combiner`, to transform a sequence of elements of type T (that is, any type) into a single T. The combiner must take 2 Ts and return only one T.\n",
        "\n",
        "\n",
        "Recall it must be commutative! Think about the importance of this when parallelizing computations\n",
        "\n",
        "![reduce](https://cosminpupaza.files.wordpress.com/2015/11/reduce.png?w=500)"
      ]
    },
    {
      "cell_type": "code",
      "metadata": {
        "colab": {
          "base_uri": "https://localhost:8080/"
        },
        "id": "MQ4e6JXdd_Dl",
        "outputId": "73e6688e-fdcf-4fc7-f72e-261449abedc1"
      },
      "source": [
        "from functools import reduce\n",
        "\n",
        "reduce(lambda x, y: x + y, numbers)"
      ],
      "execution_count": 18,
      "outputs": [
        {
          "output_type": "execute_result",
          "data": {
            "text/plain": [
              "113"
            ]
          },
          "metadata": {
            "tags": []
          },
          "execution_count": 18
        }
      ]
    },
    {
      "cell_type": "markdown",
      "metadata": {
        "id": "S4FP7Lgad_Dm"
      },
      "source": [
        "#### Exercise\n",
        "\n",
        "Write a function_x such that, when applied with `reduce`, that reduce returns the highest number in a list. Don't use the built-in `max`!"
      ]
    },
    {
      "cell_type": "code",
      "metadata": {
        "id": "EPdwf3bBd_Dm"
      },
      "source": [
        "def function_x(a: int, b: int):\n",
        "    if a > b:\n",
        "        return a\n",
        "    else:\n",
        "        return b"
      ],
      "execution_count": 19,
      "outputs": []
    },
    {
      "cell_type": "code",
      "metadata": {
        "colab": {
          "base_uri": "https://localhost:8080/"
        },
        "id": "tQiAIT2Fd_Dm",
        "outputId": "35e74e93-2fa7-4a5a-cd42-09d3e5b73972"
      },
      "source": [
        "numbers"
      ],
      "execution_count": 20,
      "outputs": [
        {
          "output_type": "execute_result",
          "data": {
            "text/plain": [
              "[12, 17, 19, 18, 23, 24]"
            ]
          },
          "metadata": {
            "tags": []
          },
          "execution_count": 20
        }
      ]
    },
    {
      "cell_type": "code",
      "metadata": {
        "colab": {
          "base_uri": "https://localhost:8080/"
        },
        "id": "zouSCdhGd_Dn",
        "outputId": "5e6c2892-5bb3-4020-be6d-0676a11eb50c"
      },
      "source": [
        "reduce(function_x, numbers)"
      ],
      "execution_count": 21,
      "outputs": [
        {
          "output_type": "execute_result",
          "data": {
            "text/plain": [
              "24"
            ]
          },
          "metadata": {
            "tags": []
          },
          "execution_count": 21
        }
      ]
    },
    {
      "cell_type": "markdown",
      "metadata": {
        "id": "2-Dea48md_Dn"
      },
      "source": [
        "## (1b) Exercise: Calculate the mean of a collection of real numbers using map/reduce\n",
        "Recall:\n",
        "\n",
        "$$\\bar x = \\frac{\\sum_{i=1}^{N} x_i}{N} $$\n",
        "\n",
        "It´s straightforward to do this with python built-in mehots sum() and len(). However, how would you do that with map/reduce? We have already shown how to sum the elements of an array. Thus, you have to calculate the length of the array. For this:\n",
        " * Create another array of the same size, consisting of 1s.\n",
        " * Sum the elements of that array"
      ]
    },
    {
      "cell_type": "markdown",
      "metadata": {
        "id": "CR7IJjWgd_Do"
      },
      "source": [
        "#### First part\n",
        "\n",
        "* Do a reduce to do the sum, and a different map-reduce to get the length"
      ]
    },
    {
      "cell_type": "code",
      "metadata": {
        "colab": {
          "base_uri": "https://localhost:8080/"
        },
        "id": "LMxrFG-td_Do",
        "outputId": "27097aa6-3965-4c4d-8a30-a28f80e1b65b"
      },
      "source": [
        "numbers"
      ],
      "execution_count": 22,
      "outputs": [
        {
          "output_type": "execute_result",
          "data": {
            "text/plain": [
              "[12, 17, 19, 18, 23, 24]"
            ]
          },
          "metadata": {
            "tags": []
          },
          "execution_count": 22
        }
      ]
    },
    {
      "cell_type": "code",
      "metadata": {
        "colab": {
          "base_uri": "https://localhost:8080/"
        },
        "id": "KFJCbd2Rd_Dp",
        "outputId": "a051b4fe-d591-4ad1-f145-c41768f4ad0b"
      },
      "source": [
        "total = reduce(lambda x, y: x + y, numbers)\n",
        "total"
      ],
      "execution_count": 23,
      "outputs": [
        {
          "output_type": "execute_result",
          "data": {
            "text/plain": [
              "113"
            ]
          },
          "metadata": {
            "tags": []
          },
          "execution_count": 23
        }
      ]
    },
    {
      "cell_type": "code",
      "metadata": {
        "colab": {
          "base_uri": "https://localhost:8080/"
        },
        "id": "_OgauEKXd_Dp",
        "outputId": "20301da6-b76f-45ec-a903-145f677dcba7"
      },
      "source": [
        "length = reduce(lambda x, y: x + y, map(lambda n: 1, numbers))\n",
        "length"
      ],
      "execution_count": 24,
      "outputs": [
        {
          "output_type": "execute_result",
          "data": {
            "text/plain": [
              "6"
            ]
          },
          "metadata": {
            "tags": []
          },
          "execution_count": 24
        }
      ]
    },
    {
      "cell_type": "markdown",
      "metadata": {
        "id": "XqFQ3Bbed_Dq"
      },
      "source": [
        "That was also a pipeline of two steps. It's equivalent to:"
      ]
    },
    {
      "cell_type": "code",
      "metadata": {
        "colab": {
          "base_uri": "https://localhost:8080/"
        },
        "id": "HheUhyKRd_Dq",
        "outputId": "de1811e2-0dbc-4514-d68e-2aba3111c028"
      },
      "source": [
        "ones = map(lambda n: 1, numbers)\n",
        "reduce(lambda x, y: x + y, ones)"
      ],
      "execution_count": 25,
      "outputs": [
        {
          "output_type": "execute_result",
          "data": {
            "text/plain": [
              "6"
            ]
          },
          "metadata": {
            "tags": []
          },
          "execution_count": 25
        }
      ]
    },
    {
      "cell_type": "markdown",
      "metadata": {
        "id": "VzfVkuord_Dq"
      },
      "source": [
        "#### Combine them in one pass\n",
        "\n",
        "Think about what it would mean to finish one computation and only then do another in a distributed environment.\n",
        "\n",
        "Combine both in one pass:"
      ]
    },
    {
      "cell_type": "code",
      "metadata": {
        "colab": {
          "base_uri": "https://localhost:8080/"
        },
        "id": "G-z5IRxud_Dr",
        "outputId": "fe6d1ae2-de90-4f74-fc27-13da209c4491"
      },
      "source": [
        "(1,2) + (4, 5) # This is not what we want"
      ],
      "execution_count": 26,
      "outputs": [
        {
          "output_type": "execute_result",
          "data": {
            "text/plain": [
              "(1, 2, 4, 5)"
            ]
          },
          "metadata": {
            "tags": []
          },
          "execution_count": 26
        }
      ]
    },
    {
      "cell_type": "code",
      "metadata": {
        "id": "0geLQ235d_Dr"
      },
      "source": [
        "def tuple_combiner(left, right):\n",
        "    return (left[0] + right[0], left[1] + right[1])"
      ],
      "execution_count": 27,
      "outputs": []
    },
    {
      "cell_type": "code",
      "metadata": {
        "colab": {
          "base_uri": "https://localhost:8080/"
        },
        "id": "KKTSjxk6d_Ds",
        "outputId": "64e8563a-6a66-4c6a-ae12-b54cfe7f0ad5"
      },
      "source": [
        "reduce(tuple_combiner, map(lambda n: (n, 1), numbers))"
      ],
      "execution_count": 28,
      "outputs": [
        {
          "output_type": "execute_result",
          "data": {
            "text/plain": [
              "(113, 6)"
            ]
          },
          "metadata": {
            "tags": []
          },
          "execution_count": 28
        }
      ]
    },
    {
      "cell_type": "code",
      "metadata": {
        "id": "-Co69pUpd_Ds"
      },
      "source": [
        "total, count = reduce(tuple_combiner, map(lambda n: (n, 1), numbers))\n",
        "\n",
        "mean = total / count"
      ],
      "execution_count": 29,
      "outputs": []
    },
    {
      "cell_type": "markdown",
      "metadata": {
        "id": "ZciumTFFd_Ds"
      },
      "source": [
        "## (1c) Exercise: Calculate the standard deviation of a collection of real numbers\n",
        "\n",
        "We'll use the typical definition of the standard deviation:\n",
        "\n",
        "$$\\sigma_x^2 = \\frac{\\sum_{i=1}^{N} (x_i-\\bar x)^2}{N-1}$$\n",
        "\n",
        "For this, use the *mean* and *count* variables from the previous excercise."
      ]
    },
    {
      "cell_type": "markdown",
      "metadata": {
        "id": "ptYfE_vgd_Ds"
      },
      "source": [
        "In standard idiomatic Python we'd do it like this:"
      ]
    },
    {
      "cell_type": "code",
      "metadata": {
        "colab": {
          "base_uri": "https://localhost:8080/"
        },
        "id": "N7LuQcw_d_Dt",
        "outputId": "df3d58b8-6011-4620-fcc2-7f3c407cb2e8"
      },
      "source": [
        "..."
      ],
      "execution_count": 30,
      "outputs": [
        {
          "output_type": "execute_result",
          "data": {
            "text/plain": [
              "Ellipsis"
            ]
          },
          "metadata": {
            "tags": []
          },
          "execution_count": 30
        }
      ]
    },
    {
      "cell_type": "markdown",
      "metadata": {
        "id": "5D3ejUlGd_Dt"
      },
      "source": [
        "With `map` and `reduce`:"
      ]
    },
    {
      "cell_type": "code",
      "metadata": {
        "colab": {
          "base_uri": "https://localhost:8080/"
        },
        "id": "10N1Xrg7d_Dt",
        "outputId": "b811c730-b2ef-4b8e-a189-9fcd01c36952"
      },
      "source": [
        "from operator import add\n",
        "\n",
        "sq_diffs = list(map(lambda x: (x - mean) ** 2, numbers))\n",
        "sum_sq_diffs = reduce(lambda x, y: x + y, sq_diffs) \n",
        "sum_sq_diffs = reduce(add, sq_diffs) # Same thing, but with the add(a, b) function\n",
        "sum_sq_diffs"
      ],
      "execution_count": 31,
      "outputs": [
        {
          "output_type": "execute_result",
          "data": {
            "text/plain": [
              "94.83333333333334"
            ]
          },
          "metadata": {
            "tags": []
          },
          "execution_count": 31
        }
      ]
    },
    {
      "cell_type": "markdown",
      "metadata": {
        "id": "HNXkDHY4d_Dt"
      },
      "source": [
        "#### Calculate the standard deviation in one pass.\n",
        "\n",
        "Again, think about what it would mean to finish one computation and only then do another in a distributed environment.\n",
        "\n",
        "\n",
        "If we can, we should avoid broadcasting variables all over the cluster. In this case, the following alternative definition of standard deviation can come in handy:\n",
        "\n",
        "$$\\sigma_x^2 = \\frac{\\sum_{i=1}^{N} (x_i-\\bar x)^2}{N-1} =\n",
        "\\frac{\\sum_{i=1}^{N} (x_i^2+{\\bar x}^2-2x_i\\bar x)}{N-1} =\n",
        "\\frac{1}{N-1}\\left(\\sum_i x_i^2-N\\bar x^2\\right)$$\n",
        "\n"
      ]
    },
    {
      "cell_type": "code",
      "metadata": {
        "colab": {
          "base_uri": "https://localhost:8080/"
        },
        "id": "iBRNPS94d_Du",
        "outputId": "78ca02a9-c187-4299-883c-5e99a8a86ba9"
      },
      "source": [
        "def tuple3_combiner(left, right):\n",
        "    return (left[0] + right[0], left[1] + right[1], left[2] + right[2])\n",
        "\n",
        "sum_sq, total, count = reduce(tuple3_combiner, map(lambda x: (x**2, x, 1), numbers))\n",
        "mean = total / count\n",
        "var = ( sum_sq - count * mean ** 2) / (count - 1)\n",
        "mean, count, var"
      ],
      "execution_count": 32,
      "outputs": [
        {
          "output_type": "execute_result",
          "data": {
            "text/plain": [
              "(18.833333333333332, 6, 18.966666666666697)"
            ]
          },
          "metadata": {
            "tags": []
          },
          "execution_count": 32
        }
      ]
    },
    {
      "cell_type": "code",
      "metadata": {
        "id": "QG-ppHJpd_Du"
      },
      "source": [
        "cube = lambda x: pow(x, 3)"
      ],
      "execution_count": 33,
      "outputs": []
    },
    {
      "cell_type": "code",
      "metadata": {
        "colab": {
          "base_uri": "https://localhost:8080/"
        },
        "id": "i_EMJTNEd_Du",
        "outputId": "2884959c-d1fa-4e2d-9b83-2831b4e29be9"
      },
      "source": [
        "cube(5)"
      ],
      "execution_count": 34,
      "outputs": [
        {
          "output_type": "execute_result",
          "data": {
            "text/plain": [
              "125"
            ]
          },
          "metadata": {
            "tags": []
          },
          "execution_count": 34
        }
      ]
    },
    {
      "cell_type": "markdown",
      "metadata": {
        "id": "Ek95IOuBd_Dv"
      },
      "source": [
        "#### Side note\n",
        "\n",
        "In Python 2, map and filter returned lists. In Python 3, they return generators, which are lazy collections. They are somewhat similar to files in that they can be depleted of elements after iterating through them."
      ]
    },
    {
      "cell_type": "markdown",
      "metadata": {
        "id": "X_clt9JQd_Dv"
      },
      "source": [
        "## (1d) Twe 'word-count' problem: creating histograms\n",
        "Given a set of keys in an input collection, calculate the frequency of each key. \n",
        "\n",
        "In order to understand better how map/reduce works, we will implement this simple calculation in several forms.\n",
        "\n",
        "We are going to use as test case a list of elements chosen from a small set:"
      ]
    },
    {
      "cell_type": "code",
      "metadata": {
        "colab": {
          "base_uri": "https://localhost:8080/"
        },
        "id": "qdI9MSChd_Dv",
        "outputId": "0886a89d-1963-47f3-cb1f-9f8b78b6a06f"
      },
      "source": [
        "import random\n",
        "import pandas as pd\n",
        "\n",
        "random.seed(7)\n",
        "stations = random.choices(['Esperanza', 'Arguelles', 'Atocha', 'Prosperidad', 'Chamartin'], k=100)\n",
        "pd.Series(stations).value_counts()"
      ],
      "execution_count": 35,
      "outputs": [
        {
          "output_type": "execute_result",
          "data": {
            "text/plain": [
              "Esperanza      24\n",
              "Atocha         23\n",
              "Arguelles      19\n",
              "Chamartin      18\n",
              "Prosperidad    16\n",
              "dtype: int64"
            ]
          },
          "metadata": {
            "tags": []
          },
          "execution_count": 35
        }
      ]
    },
    {
      "cell_type": "markdown",
      "metadata": {
        "id": "v6PE1WCOd_Dw"
      },
      "source": [
        "### (1d.1) Simple approach\n",
        "\n",
        " * Start with an empty dict\n",
        " * If a new key is not present in the dict, create it.\n",
        " * Otherwise, increase the frequency of the key by one."
      ]
    },
    {
      "cell_type": "code",
      "metadata": {
        "colab": {
          "base_uri": "https://localhost:8080/"
        },
        "id": "j_uT0HCGd_Dw",
        "outputId": "d37713e0-cb89-48f6-b9ca-20e3229f512e"
      },
      "source": [
        "result = {}\n",
        "\n",
        "for station in stations:\n",
        "    if station not in result:\n",
        "        result[station] = 1\n",
        "    else:\n",
        "        result[station] += 1\n",
        "        \n",
        "result"
      ],
      "execution_count": 36,
      "outputs": [
        {
          "output_type": "execute_result",
          "data": {
            "text/plain": [
              "{'Arguelles': 19,\n",
              " 'Atocha': 23,\n",
              " 'Chamartin': 18,\n",
              " 'Esperanza': 24,\n",
              " 'Prosperidad': 16}"
            ]
          },
          "metadata": {
            "tags": []
          },
          "execution_count": 36
        }
      ]
    },
    {
      "cell_type": "markdown",
      "metadata": {
        "id": "cSN7Qfs5d_Dw"
      },
      "source": [
        "### (1d.2) Map/reduce\n",
        "\n",
        "* Recall that *reduce* applies an operation to 2 elements of the same type, and returns another element of that type. Thus, the first thing to do is to map our collection to the type of the output. \n",
        " \n",
        "* The final result will be a dictionary of words in the vocabulary and counts. Therefore, we need to map each input word to this type.\n",
        " \n",
        "* Then, we have to define a function, the combiner, that combines these dictionaries two at a time."
      ]
    },
    {
      "cell_type": "code",
      "metadata": {
        "colab": {
          "base_uri": "https://localhost:8080/"
        },
        "id": "Yzflw4xtd_Dx",
        "outputId": "f76bf970-fe74-4663-c2e3-6f74d14626dd"
      },
      "source": [
        "first_step = list(map(lambda station: {station : 1}, stations))\n",
        "first_step"
      ],
      "execution_count": 37,
      "outputs": [
        {
          "output_type": "execute_result",
          "data": {
            "text/plain": [
              "[{'Arguelles': 1},\n",
              " {'Esperanza': 1},\n",
              " {'Prosperidad': 1},\n",
              " {'Esperanza': 1},\n",
              " {'Atocha': 1},\n",
              " {'Arguelles': 1},\n",
              " {'Esperanza': 1},\n",
              " {'Atocha': 1},\n",
              " {'Esperanza': 1},\n",
              " {'Atocha': 1},\n",
              " {'Esperanza': 1},\n",
              " {'Esperanza': 1},\n",
              " {'Atocha': 1},\n",
              " {'Chamartin': 1},\n",
              " {'Esperanza': 1},\n",
              " {'Arguelles': 1},\n",
              " {'Prosperidad': 1},\n",
              " {'Chamartin': 1},\n",
              " {'Atocha': 1},\n",
              " {'Arguelles': 1},\n",
              " {'Chamartin': 1},\n",
              " {'Esperanza': 1},\n",
              " {'Chamartin': 1},\n",
              " {'Arguelles': 1},\n",
              " {'Esperanza': 1},\n",
              " {'Esperanza': 1},\n",
              " {'Arguelles': 1},\n",
              " {'Chamartin': 1},\n",
              " {'Esperanza': 1},\n",
              " {'Atocha': 1},\n",
              " {'Prosperidad': 1},\n",
              " {'Arguelles': 1},\n",
              " {'Atocha': 1},\n",
              " {'Esperanza': 1},\n",
              " {'Esperanza': 1},\n",
              " {'Arguelles': 1},\n",
              " {'Prosperidad': 1},\n",
              " {'Atocha': 1},\n",
              " {'Arguelles': 1},\n",
              " {'Atocha': 1},\n",
              " {'Atocha': 1},\n",
              " {'Arguelles': 1},\n",
              " {'Prosperidad': 1},\n",
              " {'Prosperidad': 1},\n",
              " {'Arguelles': 1},\n",
              " {'Atocha': 1},\n",
              " {'Atocha': 1},\n",
              " {'Chamartin': 1},\n",
              " {'Prosperidad': 1},\n",
              " {'Arguelles': 1},\n",
              " {'Chamartin': 1},\n",
              " {'Esperanza': 1},\n",
              " {'Atocha': 1},\n",
              " {'Prosperidad': 1},\n",
              " {'Esperanza': 1},\n",
              " {'Atocha': 1},\n",
              " {'Esperanza': 1},\n",
              " {'Prosperidad': 1},\n",
              " {'Prosperidad': 1},\n",
              " {'Atocha': 1},\n",
              " {'Chamartin': 1},\n",
              " {'Arguelles': 1},\n",
              " {'Prosperidad': 1},\n",
              " {'Atocha': 1},\n",
              " {'Atocha': 1},\n",
              " {'Atocha': 1},\n",
              " {'Chamartin': 1},\n",
              " {'Chamartin': 1},\n",
              " {'Atocha': 1},\n",
              " {'Prosperidad': 1},\n",
              " {'Esperanza': 1},\n",
              " {'Prosperidad': 1},\n",
              " {'Prosperidad': 1},\n",
              " {'Chamartin': 1},\n",
              " {'Chamartin': 1},\n",
              " {'Arguelles': 1},\n",
              " {'Arguelles': 1},\n",
              " {'Prosperidad': 1},\n",
              " {'Esperanza': 1},\n",
              " {'Atocha': 1},\n",
              " {'Esperanza': 1},\n",
              " {'Esperanza': 1},\n",
              " {'Esperanza': 1},\n",
              " {'Prosperidad': 1},\n",
              " {'Esperanza': 1},\n",
              " {'Arguelles': 1},\n",
              " {'Arguelles': 1},\n",
              " {'Chamartin': 1},\n",
              " {'Esperanza': 1},\n",
              " {'Atocha': 1},\n",
              " {'Atocha': 1},\n",
              " {'Chamartin': 1},\n",
              " {'Chamartin': 1},\n",
              " {'Chamartin': 1},\n",
              " {'Arguelles': 1},\n",
              " {'Atocha': 1},\n",
              " {'Arguelles': 1},\n",
              " {'Chamartin': 1},\n",
              " {'Chamartin': 1},\n",
              " {'Esperanza': 1}]"
            ]
          },
          "metadata": {
            "tags": []
          },
          "execution_count": 37
        }
      ]
    },
    {
      "cell_type": "markdown",
      "metadata": {
        "id": "aWQZ5nGmd_Dx"
      },
      "source": [
        "#### Exercise\n",
        "\n",
        "Write a combiner function that combines two dictionaries of the form `Dict[str, int]` with any overlap of keys."
      ]
    },
    {
      "cell_type": "code",
      "metadata": {
        "colab": {
          "base_uri": "https://localhost:8080/"
        },
        "id": "Ik6bhtird_Dy",
        "outputId": "87b6722e-109d-42f6-bb9f-aa44e8050ae6"
      },
      "source": [
        "a = {'a': 1}\n",
        "c = a.copy()\n",
        "\n",
        "c['a'] = 2\n",
        "c"
      ],
      "execution_count": 38,
      "outputs": [
        {
          "output_type": "execute_result",
          "data": {
            "text/plain": [
              "{'a': 2}"
            ]
          },
          "metadata": {
            "tags": []
          },
          "execution_count": 38
        }
      ]
    },
    {
      "cell_type": "code",
      "metadata": {
        "colab": {
          "base_uri": "https://localhost:8080/"
        },
        "id": "4T2laiOCd_Dy",
        "outputId": "a5bbc410-7ada-4205-aa7d-8f9e65f70a0e"
      },
      "source": [
        "a"
      ],
      "execution_count": 39,
      "outputs": [
        {
          "output_type": "execute_result",
          "data": {
            "text/plain": [
              "{'a': 1}"
            ]
          },
          "metadata": {
            "tags": []
          },
          "execution_count": 39
        }
      ]
    },
    {
      "cell_type": "code",
      "metadata": {
        "colab": {
          "base_uri": "https://localhost:8080/"
        },
        "id": "sNpqNTtfd_Dz",
        "outputId": "5b29008a-ae3b-445a-cf11-25ae6c018329"
      },
      "source": [
        "from typing import Dict\n",
        "\n",
        "def dict_combiner(left: Dict[str, int], right: Dict[str, int]) -> Dict[str, int]:\n",
        "    result = left.copy()\n",
        "    \n",
        "    for key in right:\n",
        "        if key in result:\n",
        "            result[key] += right[key]\n",
        "        else:\n",
        "            result[key] = right[key]\n",
        "    \n",
        "    return result\n",
        "\n",
        "reduce(dict_combiner, first_step)"
      ],
      "execution_count": 40,
      "outputs": [
        {
          "output_type": "execute_result",
          "data": {
            "text/plain": [
              "{'Arguelles': 19,\n",
              " 'Atocha': 23,\n",
              " 'Chamartin': 18,\n",
              " 'Esperanza': 24,\n",
              " 'Prosperidad': 16}"
            ]
          },
          "metadata": {
            "tags": []
          },
          "execution_count": 40
        }
      ]
    },
    {
      "cell_type": "markdown",
      "metadata": {
        "id": "MFSIWmyFd_D2"
      },
      "source": [
        "# Part 2: Spark. Work with RDD and Pair RDD abstractions \n",
        "\n",
        "![drawing](https://prateekvjoshi.files.wordpress.com/2015/10/1-main4.png)"
      ]
    },
    {
      "cell_type": "markdown",
      "metadata": {
        "collapsed": true,
        "id": "s973fTCbd_D2"
      },
      "source": [
        "# ** Apache Spark**\n",
        "\n",
        "Apache Spark is an open source cluster computing framework originally developed in the AMPLab at University of California, Berkeley but was later donated to the Apache Software Foundation where it remains today. In contrast to Hadoop's two-stage disk-based MapReduce paradigm, Spark's multi-stage in-memory primitives provides performance up to 100 times faster for certain applications.\n",
        "\n",
        "![](http://image.slidesharecdn.com/sparkandshark-120620130508-phpapp01/95/spark-and-shark-8-728.jpg?cb=1340197567)\n",
        "\n",
        "By allowing user programs to load data into a cluster's memory and query it repeatedly, Spark is well-suited to machine learning algorithms.\n",
        "![](http://spark.apache.org/images/logistic-regression.png)\n",
        "\n",
        "Spark comes with a number of components that provide flexibility and generality.\n",
        "\n",
        "<img src=\"http://spark.apache.org/images/spark-stack.png\" alt=\"Drawing\" style=\"width: 500px;\"/>"
      ]
    },
    {
      "cell_type": "markdown",
      "metadata": {
        "id": "ZIsx0YXZd_D3"
      },
      "source": [
        "## Word count\n",
        "\n",
        "\n",
        "### Hadoop\n",
        "\n",
        "```java\n",
        "import java.io.IOException;\n",
        "import java.util.StringTokenizer;\n",
        "\n",
        "import org.apache.hadoop.conf.Configuration;\n",
        "import org.apache.hadoop.fs.Path;\n",
        "import org.apache.hadoop.io.IntWritable;\n",
        "import org.apache.hadoop.io.Text;\n",
        "import org.apache.hadoop.mapreduce.Job;\n",
        "import org.apache.hadoop.mapreduce.Mapper;\n",
        "import org.apache.hadoop.mapreduce.Reducer;\n",
        "import org.apache.hadoop.mapreduce.lib.input.FileInputFormat;\n",
        "import org.apache.hadoop.mapreduce.lib.output.FileOutputFormat;\n",
        "\n",
        "public class WordCount {\n",
        "\n",
        "  public static class TokenizerMapper\n",
        "       extends Mapper<Object, Text, Text, IntWritable>{\n",
        "\n",
        "    private final static IntWritable one = new IntWritable(1);\n",
        "    private Text word = new Text();\n",
        "\n",
        "    public void map(Object key, Text value, Context context\n",
        "                    ) throws IOException, InterruptedException {\n",
        "      StringTokenizer itr = new StringTokenizer(value.toString());\n",
        "      while (itr.hasMoreTokens()) {\n",
        "        word.set(itr.nextToken());\n",
        "        context.write(word, one);\n",
        "      }\n",
        "    }\n",
        "  }\n",
        "\n",
        "  public static class IntSumReducer\n",
        "       extends Reducer<Text,IntWritable,Text,IntWritable> {\n",
        "    private IntWritable result = new IntWritable();\n",
        "\n",
        "    public void reduce(Text key, Iterable<IntWritable> values,\n",
        "                       Context context\n",
        "                       ) throws IOException, InterruptedException {\n",
        "      int sum = 0;\n",
        "      for (IntWritable val : values) {\n",
        "        sum += val.get();\n",
        "      }\n",
        "      result.set(sum);\n",
        "      context.write(key, result);\n",
        "    }\n",
        "  }\n",
        "\n",
        "  public static void main(String[] args) throws Exception {\n",
        "    Configuration conf = new Configuration();\n",
        "    Job job = Job.getInstance(conf, \"word count\");\n",
        "    job.setJarByClass(WordCount.class);\n",
        "    job.setMapperClass(TokenizerMapper.class);\n",
        "    job.setCombinerClass(IntSumReducer.class);\n",
        "    job.setReducerClass(IntSumReducer.class);\n",
        "    job.setOutputKeyClass(Text.class);\n",
        "    job.setOutputValueClass(IntWritable.class);\n",
        "    FileInputFormat.addInputPath(job, new Path(args[0]));\n",
        "    FileOutputFormat.setOutputPath(job, new Path(args[1]));\n",
        "    System.exit(job.waitForCompletion(true) ? 0 : 1);\n",
        "  }\n",
        "}\n",
        "```\n",
        "\n",
        "\n",
        "### Spark\n",
        "\n",
        "```python\n",
        "text_file = sc.textFile(\"hdfs://...\")\n",
        "counts = text_file.flatMap(lambda line: line.split(\" \")) \\\n",
        "             .map(lambda word: (word, 1)) \\\n",
        "             .reduceByKey(lambda a, b: a + b)\n",
        "counts.saveAsTextFile(\"hdfs://...\")\n",
        "```"
      ]
    },
    {
      "cell_type": "markdown",
      "metadata": {
        "id": "6z163kTMd_D3"
      },
      "source": [
        "\n",
        "## In this part, we keep on working on the word-count example, this time with spark. The basic abstraction of Spark is the Resilient Distributed Dataset (RDD):\n",
        "\n",
        "#### «RDDs are fault-tolerant, parallel data structures that let users explicitly persist intermediate results in memory, control their partitioning to optimize data placement, and manipulate them using a rich set of operators.»\n",
        "\n",
        " * Read only, partitioned collection of records (immutable).\n",
        " * Stores the transformations used to build a dataset (its lineage), instead of the data itself. This property ensures fault-tolerance.\n",
        " * Users can control partitioning and persistence (caching).\n",
        " * RDDs are statically typed.\n",
        " * … and yes, everything is written in scala ;p. So you could use learning a bit of it!\n",
        " \n",
        "<img src=\"http://eng.trueaccord.com/wp-content/uploads/2014/10/scala-logo.png\" alt=\"Drawing\" style=\"width: 200px;\"/>\n",
        "\n",
        "#### We will be trying to understand this abstraction with simple examples, using the [Python API](http://spark.apache.org/docs/latest/api/python/index.html)\n",
        "\n",
        "\n"
      ]
    },
    {
      "cell_type": "markdown",
      "metadata": {
        "id": "I9bd93s4d_D3"
      },
      "source": [
        "### If you are running this notebook in Google Colab\n",
        "\n",
        "Copy the following to a code cell and run it. It will install and set up Spark for you.\n",
        "\n",
        "```python\n",
        "!pip install -q findspark pyspark==3.1.1\n",
        "from pyspark.sql import SparkSession\n",
        "spark = SparkSession.builder.master(\"local[*]\").config(\"spark.ui.port\", \"4050\").getOrCreate()  ## For ngrok to tunnel to\n",
        "```"
      ]
    },
    {
      "cell_type": "code",
      "metadata": {
        "colab": {
          "base_uri": "https://localhost:8080/"
        },
        "id": "B_7MVAOpd_D3",
        "outputId": "da2bc2a4-809e-49ca-e09c-0c8b9aee3448"
      },
      "source": [
        "!pip install -q findspark pyspark==3.1.1\n",
        "from pyspark.sql import SparkSession\n",
        "spark = SparkSession.builder.master(\"local[*]\").config(\"spark.ui.port\", \"4050\").getOrCreate()  ## For ngrok to tunnel to"
      ],
      "execution_count": 41,
      "outputs": [
        {
          "output_type": "stream",
          "text": [
            "\u001b[K     |████████████████████████████████| 212.3MB 73kB/s \n",
            "\u001b[K     |████████████████████████████████| 204kB 22.7MB/s \n",
            "\u001b[?25h  Building wheel for pyspark (setup.py) ... \u001b[?25l\u001b[?25hdone\n"
          ],
          "name": "stdout"
        }
      ]
    },
    {
      "cell_type": "code",
      "metadata": {
        "colab": {
          "base_uri": "https://localhost:8080/",
          "height": 217
        },
        "id": "uh56xDdEehjF",
        "outputId": "e7b3e44a-e6da-4a62-aaa8-50aaec85c373"
      },
      "source": [
        "spark"
      ],
      "execution_count": 42,
      "outputs": [
        {
          "output_type": "execute_result",
          "data": {
            "text/html": [
              "\n",
              "            <div>\n",
              "                <p><b>SparkSession - in-memory</b></p>\n",
              "                \n",
              "        <div>\n",
              "            <p><b>SparkContext</b></p>\n",
              "\n",
              "            <p><a href=\"http://5ca43b07b22a:4050\">Spark UI</a></p>\n",
              "\n",
              "            <dl>\n",
              "              <dt>Version</dt>\n",
              "                <dd><code>v3.1.1</code></dd>\n",
              "              <dt>Master</dt>\n",
              "                <dd><code>local[*]</code></dd>\n",
              "              <dt>AppName</dt>\n",
              "                <dd><code>pyspark-shell</code></dd>\n",
              "            </dl>\n",
              "        </div>\n",
              "        \n",
              "            </div>\n",
              "        "
            ],
            "text/plain": [
              "<pyspark.sql.session.SparkSession at 0x7fdb44ece350>"
            ]
          },
          "metadata": {
            "tags": []
          },
          "execution_count": 42
        }
      ]
    },
    {
      "cell_type": "markdown",
      "metadata": {
        "id": "Tba-SBfTd_D3"
      },
      "source": [
        "### ** (2a) Create a base RDD: parallelize, actions and transformations **\n",
        "We'll start by generating a base RDD by using a Python list and the `sc.parallelize` method.  Then we'll print out the type of the base RDD.\n",
        "\n",
        "We use sc.parallelize to convert a standard Python collection into an RDD."
      ]
    },
    {
      "cell_type": "code",
      "metadata": {
        "colab": {
          "base_uri": "https://localhost:8080/"
        },
        "id": "f2m-vO1ukTGR",
        "outputId": "50e65f43-861f-4613-d6a3-f8c6bd5399e6"
      },
      "source": [
        "2 + 3"
      ],
      "execution_count": 49,
      "outputs": [
        {
          "output_type": "execute_result",
          "data": {
            "text/plain": [
              "5"
            ]
          },
          "metadata": {
            "tags": []
          },
          "execution_count": 49
        }
      ]
    },
    {
      "cell_type": "code",
      "metadata": {
        "id": "2rQWEaf-nkYg"
      },
      "source": [
        ""
      ],
      "execution_count": 51,
      "outputs": []
    },
    {
      "cell_type": "code",
      "metadata": {
        "colab": {
          "base_uri": "https://localhost:8080/"
        },
        "id": "MDOjv2ned_D4",
        "outputId": "d38fcfa2-0d83-4cbf-f9da-b853fc57f159"
      },
      "source": [
        "sc = spark.sparkContext\n",
        "rdd = sc.parallelize(range(10000000))\n",
        "rdd"
      ],
      "execution_count": 52,
      "outputs": [
        {
          "output_type": "execute_result",
          "data": {
            "text/plain": [
              "PythonRDD[9] at RDD at PythonRDD.scala:53"
            ]
          },
          "metadata": {
            "tags": []
          },
          "execution_count": 52
        }
      ]
    },
    {
      "cell_type": "markdown",
      "metadata": {
        "id": "L1jdyf4Cd_D4"
      },
      "source": [
        "In Spark, `map` is a method of the RDD type."
      ]
    },
    {
      "cell_type": "code",
      "metadata": {
        "colab": {
          "base_uri": "https://localhost:8080/"
        },
        "id": "8JJpPdwrd_D4",
        "outputId": "0311695a-3e84-452f-da05-49b109ff5fd9"
      },
      "source": [
        "%%time\n",
        "from math import sqrt\n",
        "\n",
        "roots = rdd.map(lambda n: n / 0)"
      ],
      "execution_count": 60,
      "outputs": [
        {
          "output_type": "stream",
          "text": [
            "CPU times: user 39 µs, sys: 7 µs, total: 46 µs\n",
            "Wall time: 51.7 µs\n"
          ],
          "name": "stdout"
        }
      ]
    },
    {
      "cell_type": "markdown",
      "metadata": {
        "id": "0EaFH8hnd_D4"
      },
      "source": [
        "**Nothing has actually happened!**\n",
        "\n",
        "`parallellize` tells spark to distribute the data, but this is not actually done until we perform some action.\n",
        "\n",
        "Possible actions include counting, collecting, reducing, taking, etc. Take a look at the [Spark programming guide](http://spark.apache.org/docs/2.2.0/rdd-programming-guide.html#actions)\n"
      ]
    },
    {
      "cell_type": "code",
      "metadata": {
        "scrolled": true,
        "colab": {
          "base_uri": "https://localhost:8080/",
          "height": 1000
        },
        "id": "diUfO2s5d_D5",
        "outputId": "38f32790-6a3c-48db-c180-533b44bbcf11"
      },
      "source": [
        "%%time\n",
        "\n",
        "roots.sum()"
      ],
      "execution_count": 61,
      "outputs": [
        {
          "output_type": "error",
          "ename": "Py4JJavaError",
          "evalue": "ignored",
          "traceback": [
            "\u001b[0;31m---------------------------------------------------------------------------\u001b[0m",
            "\u001b[0;31mPy4JJavaError\u001b[0m                             Traceback (most recent call last)",
            "\u001b[0;32m<ipython-input-61-2948db980058>\u001b[0m in \u001b[0;36m<module>\u001b[0;34m()\u001b[0m\n\u001b[0;32m----> 1\u001b[0;31m \u001b[0mget_ipython\u001b[0m\u001b[0;34m(\u001b[0m\u001b[0;34m)\u001b[0m\u001b[0;34m.\u001b[0m\u001b[0mrun_cell_magic\u001b[0m\u001b[0;34m(\u001b[0m\u001b[0;34m'time'\u001b[0m\u001b[0;34m,\u001b[0m \u001b[0;34m''\u001b[0m\u001b[0;34m,\u001b[0m \u001b[0;34m'\\nroots.sum()'\u001b[0m\u001b[0;34m)\u001b[0m\u001b[0;34m\u001b[0m\u001b[0;34m\u001b[0m\u001b[0m\n\u001b[0m",
            "\u001b[0;32m/usr/local/lib/python3.7/dist-packages/IPython/core/interactiveshell.py\u001b[0m in \u001b[0;36mrun_cell_magic\u001b[0;34m(self, magic_name, line, cell)\u001b[0m\n\u001b[1;32m   2115\u001b[0m             \u001b[0mmagic_arg_s\u001b[0m \u001b[0;34m=\u001b[0m \u001b[0mself\u001b[0m\u001b[0;34m.\u001b[0m\u001b[0mvar_expand\u001b[0m\u001b[0;34m(\u001b[0m\u001b[0mline\u001b[0m\u001b[0;34m,\u001b[0m \u001b[0mstack_depth\u001b[0m\u001b[0;34m)\u001b[0m\u001b[0;34m\u001b[0m\u001b[0;34m\u001b[0m\u001b[0m\n\u001b[1;32m   2116\u001b[0m             \u001b[0;32mwith\u001b[0m \u001b[0mself\u001b[0m\u001b[0;34m.\u001b[0m\u001b[0mbuiltin_trap\u001b[0m\u001b[0;34m:\u001b[0m\u001b[0;34m\u001b[0m\u001b[0;34m\u001b[0m\u001b[0m\n\u001b[0;32m-> 2117\u001b[0;31m                 \u001b[0mresult\u001b[0m \u001b[0;34m=\u001b[0m \u001b[0mfn\u001b[0m\u001b[0;34m(\u001b[0m\u001b[0mmagic_arg_s\u001b[0m\u001b[0;34m,\u001b[0m \u001b[0mcell\u001b[0m\u001b[0;34m)\u001b[0m\u001b[0;34m\u001b[0m\u001b[0;34m\u001b[0m\u001b[0m\n\u001b[0m\u001b[1;32m   2118\u001b[0m             \u001b[0;32mreturn\u001b[0m \u001b[0mresult\u001b[0m\u001b[0;34m\u001b[0m\u001b[0;34m\u001b[0m\u001b[0m\n\u001b[1;32m   2119\u001b[0m \u001b[0;34m\u001b[0m\u001b[0m\n",
            "\u001b[0;32m<decorator-gen-53>\u001b[0m in \u001b[0;36mtime\u001b[0;34m(self, line, cell, local_ns)\u001b[0m\n",
            "\u001b[0;32m/usr/local/lib/python3.7/dist-packages/IPython/core/magic.py\u001b[0m in \u001b[0;36m<lambda>\u001b[0;34m(f, *a, **k)\u001b[0m\n\u001b[1;32m    186\u001b[0m     \u001b[0;31m# but it's overkill for just that one bit of state.\u001b[0m\u001b[0;34m\u001b[0m\u001b[0;34m\u001b[0m\u001b[0;34m\u001b[0m\u001b[0m\n\u001b[1;32m    187\u001b[0m     \u001b[0;32mdef\u001b[0m \u001b[0mmagic_deco\u001b[0m\u001b[0;34m(\u001b[0m\u001b[0marg\u001b[0m\u001b[0;34m)\u001b[0m\u001b[0;34m:\u001b[0m\u001b[0;34m\u001b[0m\u001b[0;34m\u001b[0m\u001b[0m\n\u001b[0;32m--> 188\u001b[0;31m         \u001b[0mcall\u001b[0m \u001b[0;34m=\u001b[0m \u001b[0;32mlambda\u001b[0m \u001b[0mf\u001b[0m\u001b[0;34m,\u001b[0m \u001b[0;34m*\u001b[0m\u001b[0ma\u001b[0m\u001b[0;34m,\u001b[0m \u001b[0;34m**\u001b[0m\u001b[0mk\u001b[0m\u001b[0;34m:\u001b[0m \u001b[0mf\u001b[0m\u001b[0;34m(\u001b[0m\u001b[0;34m*\u001b[0m\u001b[0ma\u001b[0m\u001b[0;34m,\u001b[0m \u001b[0;34m**\u001b[0m\u001b[0mk\u001b[0m\u001b[0;34m)\u001b[0m\u001b[0;34m\u001b[0m\u001b[0;34m\u001b[0m\u001b[0m\n\u001b[0m\u001b[1;32m    189\u001b[0m \u001b[0;34m\u001b[0m\u001b[0m\n\u001b[1;32m    190\u001b[0m         \u001b[0;32mif\u001b[0m \u001b[0mcallable\u001b[0m\u001b[0;34m(\u001b[0m\u001b[0marg\u001b[0m\u001b[0;34m)\u001b[0m\u001b[0;34m:\u001b[0m\u001b[0;34m\u001b[0m\u001b[0;34m\u001b[0m\u001b[0m\n",
            "\u001b[0;32m/usr/local/lib/python3.7/dist-packages/IPython/core/magics/execution.py\u001b[0m in \u001b[0;36mtime\u001b[0;34m(self, line, cell, local_ns)\u001b[0m\n\u001b[1;32m   1187\u001b[0m         \u001b[0;32mif\u001b[0m \u001b[0mmode\u001b[0m\u001b[0;34m==\u001b[0m\u001b[0;34m'eval'\u001b[0m\u001b[0;34m:\u001b[0m\u001b[0;34m\u001b[0m\u001b[0;34m\u001b[0m\u001b[0m\n\u001b[1;32m   1188\u001b[0m             \u001b[0mst\u001b[0m \u001b[0;34m=\u001b[0m \u001b[0mclock2\u001b[0m\u001b[0;34m(\u001b[0m\u001b[0;34m)\u001b[0m\u001b[0;34m\u001b[0m\u001b[0;34m\u001b[0m\u001b[0m\n\u001b[0;32m-> 1189\u001b[0;31m             \u001b[0mout\u001b[0m \u001b[0;34m=\u001b[0m \u001b[0meval\u001b[0m\u001b[0;34m(\u001b[0m\u001b[0mcode\u001b[0m\u001b[0;34m,\u001b[0m \u001b[0mglob\u001b[0m\u001b[0;34m,\u001b[0m \u001b[0mlocal_ns\u001b[0m\u001b[0;34m)\u001b[0m\u001b[0;34m\u001b[0m\u001b[0;34m\u001b[0m\u001b[0m\n\u001b[0m\u001b[1;32m   1190\u001b[0m             \u001b[0mend\u001b[0m \u001b[0;34m=\u001b[0m \u001b[0mclock2\u001b[0m\u001b[0;34m(\u001b[0m\u001b[0;34m)\u001b[0m\u001b[0;34m\u001b[0m\u001b[0;34m\u001b[0m\u001b[0m\n\u001b[1;32m   1191\u001b[0m         \u001b[0;32melse\u001b[0m\u001b[0;34m:\u001b[0m\u001b[0;34m\u001b[0m\u001b[0;34m\u001b[0m\u001b[0m\n",
            "\u001b[0;32m<timed eval>\u001b[0m in \u001b[0;36m<module>\u001b[0;34m()\u001b[0m\n",
            "\u001b[0;32m/usr/local/lib/python3.7/dist-packages/pyspark/rdd.py\u001b[0m in \u001b[0;36msum\u001b[0;34m(self)\u001b[0m\n\u001b[1;32m   1222\u001b[0m         \u001b[0;36m6.0\u001b[0m\u001b[0;34m\u001b[0m\u001b[0;34m\u001b[0m\u001b[0m\n\u001b[1;32m   1223\u001b[0m         \"\"\"\n\u001b[0;32m-> 1224\u001b[0;31m         \u001b[0;32mreturn\u001b[0m \u001b[0mself\u001b[0m\u001b[0;34m.\u001b[0m\u001b[0mmapPartitions\u001b[0m\u001b[0;34m(\u001b[0m\u001b[0;32mlambda\u001b[0m \u001b[0mx\u001b[0m\u001b[0;34m:\u001b[0m \u001b[0;34m[\u001b[0m\u001b[0msum\u001b[0m\u001b[0;34m(\u001b[0m\u001b[0mx\u001b[0m\u001b[0;34m)\u001b[0m\u001b[0;34m]\u001b[0m\u001b[0;34m)\u001b[0m\u001b[0;34m.\u001b[0m\u001b[0mfold\u001b[0m\u001b[0;34m(\u001b[0m\u001b[0;36m0\u001b[0m\u001b[0;34m,\u001b[0m \u001b[0moperator\u001b[0m\u001b[0;34m.\u001b[0m\u001b[0madd\u001b[0m\u001b[0;34m)\u001b[0m\u001b[0;34m\u001b[0m\u001b[0;34m\u001b[0m\u001b[0m\n\u001b[0m\u001b[1;32m   1225\u001b[0m \u001b[0;34m\u001b[0m\u001b[0m\n\u001b[1;32m   1226\u001b[0m     \u001b[0;32mdef\u001b[0m \u001b[0mcount\u001b[0m\u001b[0;34m(\u001b[0m\u001b[0mself\u001b[0m\u001b[0;34m)\u001b[0m\u001b[0;34m:\u001b[0m\u001b[0;34m\u001b[0m\u001b[0;34m\u001b[0m\u001b[0m\n",
            "\u001b[0;32m/usr/local/lib/python3.7/dist-packages/pyspark/rdd.py\u001b[0m in \u001b[0;36mfold\u001b[0;34m(self, zeroValue, op)\u001b[0m\n\u001b[1;32m   1076\u001b[0m         \u001b[0;31m# zeroValue provided to each partition is unique from the one provided\u001b[0m\u001b[0;34m\u001b[0m\u001b[0;34m\u001b[0m\u001b[0;34m\u001b[0m\u001b[0m\n\u001b[1;32m   1077\u001b[0m         \u001b[0;31m# to the final reduce call\u001b[0m\u001b[0;34m\u001b[0m\u001b[0;34m\u001b[0m\u001b[0;34m\u001b[0m\u001b[0m\n\u001b[0;32m-> 1078\u001b[0;31m         \u001b[0mvals\u001b[0m \u001b[0;34m=\u001b[0m \u001b[0mself\u001b[0m\u001b[0;34m.\u001b[0m\u001b[0mmapPartitions\u001b[0m\u001b[0;34m(\u001b[0m\u001b[0mfunc\u001b[0m\u001b[0;34m)\u001b[0m\u001b[0;34m.\u001b[0m\u001b[0mcollect\u001b[0m\u001b[0;34m(\u001b[0m\u001b[0;34m)\u001b[0m\u001b[0;34m\u001b[0m\u001b[0;34m\u001b[0m\u001b[0m\n\u001b[0m\u001b[1;32m   1079\u001b[0m         \u001b[0;32mreturn\u001b[0m \u001b[0mreduce\u001b[0m\u001b[0;34m(\u001b[0m\u001b[0mop\u001b[0m\u001b[0;34m,\u001b[0m \u001b[0mvals\u001b[0m\u001b[0;34m,\u001b[0m \u001b[0mzeroValue\u001b[0m\u001b[0;34m)\u001b[0m\u001b[0;34m\u001b[0m\u001b[0;34m\u001b[0m\u001b[0m\n\u001b[1;32m   1080\u001b[0m \u001b[0;34m\u001b[0m\u001b[0m\n",
            "\u001b[0;32m/usr/local/lib/python3.7/dist-packages/pyspark/rdd.py\u001b[0m in \u001b[0;36mcollect\u001b[0;34m(self)\u001b[0m\n\u001b[1;32m    947\u001b[0m         \"\"\"\n\u001b[1;32m    948\u001b[0m         \u001b[0;32mwith\u001b[0m \u001b[0mSCCallSiteSync\u001b[0m\u001b[0;34m(\u001b[0m\u001b[0mself\u001b[0m\u001b[0;34m.\u001b[0m\u001b[0mcontext\u001b[0m\u001b[0;34m)\u001b[0m \u001b[0;32mas\u001b[0m \u001b[0mcss\u001b[0m\u001b[0;34m:\u001b[0m\u001b[0;34m\u001b[0m\u001b[0;34m\u001b[0m\u001b[0m\n\u001b[0;32m--> 949\u001b[0;31m             \u001b[0msock_info\u001b[0m \u001b[0;34m=\u001b[0m \u001b[0mself\u001b[0m\u001b[0;34m.\u001b[0m\u001b[0mctx\u001b[0m\u001b[0;34m.\u001b[0m\u001b[0m_jvm\u001b[0m\u001b[0;34m.\u001b[0m\u001b[0mPythonRDD\u001b[0m\u001b[0;34m.\u001b[0m\u001b[0mcollectAndServe\u001b[0m\u001b[0;34m(\u001b[0m\u001b[0mself\u001b[0m\u001b[0;34m.\u001b[0m\u001b[0m_jrdd\u001b[0m\u001b[0;34m.\u001b[0m\u001b[0mrdd\u001b[0m\u001b[0;34m(\u001b[0m\u001b[0;34m)\u001b[0m\u001b[0;34m)\u001b[0m\u001b[0;34m\u001b[0m\u001b[0;34m\u001b[0m\u001b[0m\n\u001b[0m\u001b[1;32m    950\u001b[0m         \u001b[0;32mreturn\u001b[0m \u001b[0mlist\u001b[0m\u001b[0;34m(\u001b[0m\u001b[0m_load_from_socket\u001b[0m\u001b[0;34m(\u001b[0m\u001b[0msock_info\u001b[0m\u001b[0;34m,\u001b[0m \u001b[0mself\u001b[0m\u001b[0;34m.\u001b[0m\u001b[0m_jrdd_deserializer\u001b[0m\u001b[0;34m)\u001b[0m\u001b[0;34m)\u001b[0m\u001b[0;34m\u001b[0m\u001b[0;34m\u001b[0m\u001b[0m\n\u001b[1;32m    951\u001b[0m \u001b[0;34m\u001b[0m\u001b[0m\n",
            "\u001b[0;32m/usr/local/lib/python3.7/dist-packages/py4j/java_gateway.py\u001b[0m in \u001b[0;36m__call__\u001b[0;34m(self, *args)\u001b[0m\n\u001b[1;32m   1303\u001b[0m         \u001b[0manswer\u001b[0m \u001b[0;34m=\u001b[0m \u001b[0mself\u001b[0m\u001b[0;34m.\u001b[0m\u001b[0mgateway_client\u001b[0m\u001b[0;34m.\u001b[0m\u001b[0msend_command\u001b[0m\u001b[0;34m(\u001b[0m\u001b[0mcommand\u001b[0m\u001b[0;34m)\u001b[0m\u001b[0;34m\u001b[0m\u001b[0;34m\u001b[0m\u001b[0m\n\u001b[1;32m   1304\u001b[0m         return_value = get_return_value(\n\u001b[0;32m-> 1305\u001b[0;31m             answer, self.gateway_client, self.target_id, self.name)\n\u001b[0m\u001b[1;32m   1306\u001b[0m \u001b[0;34m\u001b[0m\u001b[0m\n\u001b[1;32m   1307\u001b[0m         \u001b[0;32mfor\u001b[0m \u001b[0mtemp_arg\u001b[0m \u001b[0;32min\u001b[0m \u001b[0mtemp_args\u001b[0m\u001b[0;34m:\u001b[0m\u001b[0;34m\u001b[0m\u001b[0;34m\u001b[0m\u001b[0m\n",
            "\u001b[0;32m/usr/local/lib/python3.7/dist-packages/pyspark/sql/utils.py\u001b[0m in \u001b[0;36mdeco\u001b[0;34m(*a, **kw)\u001b[0m\n\u001b[1;32m    109\u001b[0m     \u001b[0;32mdef\u001b[0m \u001b[0mdeco\u001b[0m\u001b[0;34m(\u001b[0m\u001b[0;34m*\u001b[0m\u001b[0ma\u001b[0m\u001b[0;34m,\u001b[0m \u001b[0;34m**\u001b[0m\u001b[0mkw\u001b[0m\u001b[0;34m)\u001b[0m\u001b[0;34m:\u001b[0m\u001b[0;34m\u001b[0m\u001b[0;34m\u001b[0m\u001b[0m\n\u001b[1;32m    110\u001b[0m         \u001b[0;32mtry\u001b[0m\u001b[0;34m:\u001b[0m\u001b[0;34m\u001b[0m\u001b[0;34m\u001b[0m\u001b[0m\n\u001b[0;32m--> 111\u001b[0;31m             \u001b[0;32mreturn\u001b[0m \u001b[0mf\u001b[0m\u001b[0;34m(\u001b[0m\u001b[0;34m*\u001b[0m\u001b[0ma\u001b[0m\u001b[0;34m,\u001b[0m \u001b[0;34m**\u001b[0m\u001b[0mkw\u001b[0m\u001b[0;34m)\u001b[0m\u001b[0;34m\u001b[0m\u001b[0;34m\u001b[0m\u001b[0m\n\u001b[0m\u001b[1;32m    112\u001b[0m         \u001b[0;32mexcept\u001b[0m \u001b[0mpy4j\u001b[0m\u001b[0;34m.\u001b[0m\u001b[0mprotocol\u001b[0m\u001b[0;34m.\u001b[0m\u001b[0mPy4JJavaError\u001b[0m \u001b[0;32mas\u001b[0m \u001b[0me\u001b[0m\u001b[0;34m:\u001b[0m\u001b[0;34m\u001b[0m\u001b[0;34m\u001b[0m\u001b[0m\n\u001b[1;32m    113\u001b[0m             \u001b[0mconverted\u001b[0m \u001b[0;34m=\u001b[0m \u001b[0mconvert_exception\u001b[0m\u001b[0;34m(\u001b[0m\u001b[0me\u001b[0m\u001b[0;34m.\u001b[0m\u001b[0mjava_exception\u001b[0m\u001b[0;34m)\u001b[0m\u001b[0;34m\u001b[0m\u001b[0;34m\u001b[0m\u001b[0m\n",
            "\u001b[0;32m/usr/local/lib/python3.7/dist-packages/py4j/protocol.py\u001b[0m in \u001b[0;36mget_return_value\u001b[0;34m(answer, gateway_client, target_id, name)\u001b[0m\n\u001b[1;32m    326\u001b[0m                 raise Py4JJavaError(\n\u001b[1;32m    327\u001b[0m                     \u001b[0;34m\"An error occurred while calling {0}{1}{2}.\\n\"\u001b[0m\u001b[0;34m.\u001b[0m\u001b[0;34m\u001b[0m\u001b[0;34m\u001b[0m\u001b[0m\n\u001b[0;32m--> 328\u001b[0;31m                     format(target_id, \".\", name), value)\n\u001b[0m\u001b[1;32m    329\u001b[0m             \u001b[0;32melse\u001b[0m\u001b[0;34m:\u001b[0m\u001b[0;34m\u001b[0m\u001b[0;34m\u001b[0m\u001b[0m\n\u001b[1;32m    330\u001b[0m                 raise Py4JError(\n",
            "\u001b[0;31mPy4JJavaError\u001b[0m: An error occurred while calling z:org.apache.spark.api.python.PythonRDD.collectAndServe.\n: org.apache.spark.SparkException: Job aborted due to stage failure: Task 0 in stage 2.0 failed 1 times, most recent failure: Lost task 0.0 in stage 2.0 (TID 3) (5ca43b07b22a executor driver): org.apache.spark.api.python.PythonException: Traceback (most recent call last):\n  File \"/usr/local/lib/python3.7/dist-packages/pyspark/python/lib/pyspark.zip/pyspark/worker.py\", line 604, in main\n    process()\n  File \"/usr/local/lib/python3.7/dist-packages/pyspark/python/lib/pyspark.zip/pyspark/worker.py\", line 594, in process\n    out_iter = func(split_index, iterator)\n  File \"/usr/local/lib/python3.7/dist-packages/pyspark/rdd.py\", line 2916, in pipeline_func\n    return func(split, prev_func(split, iterator))\n  File \"/usr/local/lib/python3.7/dist-packages/pyspark/rdd.py\", line 2916, in pipeline_func\n    return func(split, prev_func(split, iterator))\n  File \"/usr/local/lib/python3.7/dist-packages/pyspark/rdd.py\", line 418, in func\n    return f(iterator)\n  File \"/usr/local/lib/python3.7/dist-packages/pyspark/rdd.py\", line 1224, in <lambda>\n    return self.mapPartitions(lambda x: [sum(x)]).fold(0, operator.add)\n  File \"/usr/local/lib/python3.7/dist-packages/pyspark/python/lib/pyspark.zip/pyspark/util.py\", line 73, in wrapper\n    return f(*args, **kwargs)\n  File \"<timed exec>\", line 3, in <lambda>\nZeroDivisionError: division by zero\n\n\tat org.apache.spark.api.python.BasePythonRunner$ReaderIterator.handlePythonException(PythonRunner.scala:517)\n\tat org.apache.spark.api.python.PythonRunner$$anon$3.read(PythonRunner.scala:652)\n\tat org.apache.spark.api.python.PythonRunner$$anon$3.read(PythonRunner.scala:635)\n\tat org.apache.spark.api.python.BasePythonRunner$ReaderIterator.hasNext(PythonRunner.scala:470)\n\tat org.apache.spark.InterruptibleIterator.hasNext(InterruptibleIterator.scala:37)\n\tat scala.collection.Iterator.foreach(Iterator.scala:941)\n\tat scala.collection.Iterator.foreach$(Iterator.scala:941)\n\tat org.apache.spark.InterruptibleIterator.foreach(InterruptibleIterator.scala:28)\n\tat scala.collection.generic.Growable.$plus$plus$eq(Growable.scala:62)\n\tat scala.collection.generic.Growable.$plus$plus$eq$(Growable.scala:53)\n\tat scala.collection.mutable.ArrayBuffer.$plus$plus$eq(ArrayBuffer.scala:105)\n\tat scala.collection.mutable.ArrayBuffer.$plus$plus$eq(ArrayBuffer.scala:49)\n\tat scala.collection.TraversableOnce.to(TraversableOnce.scala:315)\n\tat scala.collection.TraversableOnce.to$(TraversableOnce.scala:313)\n\tat org.apache.spark.InterruptibleIterator.to(InterruptibleIterator.scala:28)\n\tat scala.collection.TraversableOnce.toBuffer(TraversableOnce.scala:307)\n\tat scala.collection.TraversableOnce.toBuffer$(TraversableOnce.scala:307)\n\tat org.apache.spark.InterruptibleIterator.toBuffer(InterruptibleIterator.scala:28)\n\tat scala.collection.TraversableOnce.toArray(TraversableOnce.scala:294)\n\tat scala.collection.TraversableOnce.toArray$(TraversableOnce.scala:288)\n\tat org.apache.spark.InterruptibleIterator.toArray(InterruptibleIterator.scala:28)\n\tat org.apache.spark.rdd.RDD.$anonfun$collect$2(RDD.scala:1030)\n\tat org.apache.spark.SparkContext.$anonfun$runJob$5(SparkContext.scala:2242)\n\tat org.apache.spark.scheduler.ResultTask.runTask(ResultTask.scala:90)\n\tat org.apache.spark.scheduler.Task.run(Task.scala:131)\n\tat org.apache.spark.executor.Executor$TaskRunner.$anonfun$run$3(Executor.scala:497)\n\tat org.apache.spark.util.Utils$.tryWithSafeFinally(Utils.scala:1439)\n\tat org.apache.spark.executor.Executor$TaskRunner.run(Executor.scala:500)\n\tat java.base/java.util.concurrent.ThreadPoolExecutor.runWorker(ThreadPoolExecutor.java:1128)\n\tat java.base/java.util.concurrent.ThreadPoolExecutor$Worker.run(ThreadPoolExecutor.java:628)\n\tat java.base/java.lang.Thread.run(Thread.java:834)\n\nDriver stacktrace:\n\tat org.apache.spark.scheduler.DAGScheduler.failJobAndIndependentStages(DAGScheduler.scala:2253)\n\tat org.apache.spark.scheduler.DAGScheduler.$anonfun$abortStage$2(DAGScheduler.scala:2202)\n\tat org.apache.spark.scheduler.DAGScheduler.$anonfun$abortStage$2$adapted(DAGScheduler.scala:2201)\n\tat scala.collection.mutable.ResizableArray.foreach(ResizableArray.scala:62)\n\tat scala.collection.mutable.ResizableArray.foreach$(ResizableArray.scala:55)\n\tat scala.collection.mutable.ArrayBuffer.foreach(ArrayBuffer.scala:49)\n\tat org.apache.spark.scheduler.DAGScheduler.abortStage(DAGScheduler.scala:2201)\n\tat org.apache.spark.scheduler.DAGScheduler.$anonfun$handleTaskSetFailed$1(DAGScheduler.scala:1078)\n\tat org.apache.spark.scheduler.DAGScheduler.$anonfun$handleTaskSetFailed$1$adapted(DAGScheduler.scala:1078)\n\tat scala.Option.foreach(Option.scala:407)\n\tat org.apache.spark.scheduler.DAGScheduler.handleTaskSetFailed(DAGScheduler.scala:1078)\n\tat org.apache.spark.scheduler.DAGSchedulerEventProcessLoop.doOnReceive(DAGScheduler.scala:2440)\n\tat org.apache.spark.scheduler.DAGSchedulerEventProcessLoop.onReceive(DAGScheduler.scala:2382)\n\tat org.apache.spark.scheduler.DAGSchedulerEventProcessLoop.onReceive(DAGScheduler.scala:2371)\n\tat org.apache.spark.util.EventLoop$$anon$1.run(EventLoop.scala:49)\n\tat org.apache.spark.scheduler.DAGScheduler.runJob(DAGScheduler.scala:868)\n\tat org.apache.spark.SparkContext.runJob(SparkContext.scala:2202)\n\tat org.apache.spark.SparkContext.runJob(SparkContext.scala:2223)\n\tat org.apache.spark.SparkContext.runJob(SparkContext.scala:2242)\n\tat org.apache.spark.SparkContext.runJob(SparkContext.scala:2267)\n\tat org.apache.spark.rdd.RDD.$anonfun$collect$1(RDD.scala:1030)\n\tat org.apache.spark.rdd.RDDOperationScope$.withScope(RDDOperationScope.scala:151)\n\tat org.apache.spark.rdd.RDDOperationScope$.withScope(RDDOperationScope.scala:112)\n\tat org.apache.spark.rdd.RDD.withScope(RDD.scala:414)\n\tat org.apache.spark.rdd.RDD.collect(RDD.scala:1029)\n\tat org.apache.spark.api.python.PythonRDD$.collectAndServe(PythonRDD.scala:180)\n\tat org.apache.spark.api.python.PythonRDD.collectAndServe(PythonRDD.scala)\n\tat java.base/jdk.internal.reflect.NativeMethodAccessorImpl.invoke0(Native Method)\n\tat java.base/jdk.internal.reflect.NativeMethodAccessorImpl.invoke(NativeMethodAccessorImpl.java:62)\n\tat java.base/jdk.internal.reflect.DelegatingMethodAccessorImpl.invoke(DelegatingMethodAccessorImpl.java:43)\n\tat java.base/java.lang.reflect.Method.invoke(Method.java:566)\n\tat py4j.reflection.MethodInvoker.invoke(MethodInvoker.java:244)\n\tat py4j.reflection.ReflectionEngine.invoke(ReflectionEngine.java:357)\n\tat py4j.Gateway.invoke(Gateway.java:282)\n\tat py4j.commands.AbstractCommand.invokeMethod(AbstractCommand.java:132)\n\tat py4j.commands.CallCommand.execute(CallCommand.java:79)\n\tat py4j.GatewayConnection.run(GatewayConnection.java:238)\n\tat java.base/java.lang.Thread.run(Thread.java:834)\nCaused by: org.apache.spark.api.python.PythonException: Traceback (most recent call last):\n  File \"/usr/local/lib/python3.7/dist-packages/pyspark/python/lib/pyspark.zip/pyspark/worker.py\", line 604, in main\n    process()\n  File \"/usr/local/lib/python3.7/dist-packages/pyspark/python/lib/pyspark.zip/pyspark/worker.py\", line 594, in process\n    out_iter = func(split_index, iterator)\n  File \"/usr/local/lib/python3.7/dist-packages/pyspark/rdd.py\", line 2916, in pipeline_func\n    return func(split, prev_func(split, iterator))\n  File \"/usr/local/lib/python3.7/dist-packages/pyspark/rdd.py\", line 2916, in pipeline_func\n    return func(split, prev_func(split, iterator))\n  File \"/usr/local/lib/python3.7/dist-packages/pyspark/rdd.py\", line 418, in func\n    return f(iterator)\n  File \"/usr/local/lib/python3.7/dist-packages/pyspark/rdd.py\", line 1224, in <lambda>\n    return self.mapPartitions(lambda x: [sum(x)]).fold(0, operator.add)\n  File \"/usr/local/lib/python3.7/dist-packages/pyspark/python/lib/pyspark.zip/pyspark/util.py\", line 73, in wrapper\n    return f(*args, **kwargs)\n  File \"<timed exec>\", line 3, in <lambda>\nZeroDivisionError: division by zero\n\n\tat org.apache.spark.api.python.BasePythonRunner$ReaderIterator.handlePythonException(PythonRunner.scala:517)\n\tat org.apache.spark.api.python.PythonRunner$$anon$3.read(PythonRunner.scala:652)\n\tat org.apache.spark.api.python.PythonRunner$$anon$3.read(PythonRunner.scala:635)\n\tat org.apache.spark.api.python.BasePythonRunner$ReaderIterator.hasNext(PythonRunner.scala:470)\n\tat org.apache.spark.InterruptibleIterator.hasNext(InterruptibleIterator.scala:37)\n\tat scala.collection.Iterator.foreach(Iterator.scala:941)\n\tat scala.collection.Iterator.foreach$(Iterator.scala:941)\n\tat org.apache.spark.InterruptibleIterator.foreach(InterruptibleIterator.scala:28)\n\tat scala.collection.generic.Growable.$plus$plus$eq(Growable.scala:62)\n\tat scala.collection.generic.Growable.$plus$plus$eq$(Growable.scala:53)\n\tat scala.collection.mutable.ArrayBuffer.$plus$plus$eq(ArrayBuffer.scala:105)\n\tat scala.collection.mutable.ArrayBuffer.$plus$plus$eq(ArrayBuffer.scala:49)\n\tat scala.collection.TraversableOnce.to(TraversableOnce.scala:315)\n\tat scala.collection.TraversableOnce.to$(TraversableOnce.scala:313)\n\tat org.apache.spark.InterruptibleIterator.to(InterruptibleIterator.scala:28)\n\tat scala.collection.TraversableOnce.toBuffer(TraversableOnce.scala:307)\n\tat scala.collection.TraversableOnce.toBuffer$(TraversableOnce.scala:307)\n\tat org.apache.spark.InterruptibleIterator.toBuffer(InterruptibleIterator.scala:28)\n\tat scala.collection.TraversableOnce.toArray(TraversableOnce.scala:294)\n\tat scala.collection.TraversableOnce.toArray$(TraversableOnce.scala:288)\n\tat org.apache.spark.InterruptibleIterator.toArray(InterruptibleIterator.scala:28)\n\tat org.apache.spark.rdd.RDD.$anonfun$collect$2(RDD.scala:1030)\n\tat org.apache.spark.SparkContext.$anonfun$runJob$5(SparkContext.scala:2242)\n\tat org.apache.spark.scheduler.ResultTask.runTask(ResultTask.scala:90)\n\tat org.apache.spark.scheduler.Task.run(Task.scala:131)\n\tat org.apache.spark.executor.Executor$TaskRunner.$anonfun$run$3(Executor.scala:497)\n\tat org.apache.spark.util.Utils$.tryWithSafeFinally(Utils.scala:1439)\n\tat org.apache.spark.executor.Executor$TaskRunner.run(Executor.scala:500)\n\tat java.base/java.util.concurrent.ThreadPoolExecutor.runWorker(ThreadPoolExecutor.java:1128)\n\tat java.base/java.util.concurrent.ThreadPoolExecutor$Worker.run(ThreadPoolExecutor.java:628)\n\t... 1 more\n"
          ]
        }
      ]
    },
    {
      "cell_type": "markdown",
      "metadata": {
        "id": "7X4X6TLTd_D5"
      },
      "source": [
        "#### Exercise\n",
        "\n",
        "Calculate, from the rdd generated from list_of_cakes, how many cakes we have whose name does **not** start with an 's'"
      ]
    },
    {
      "cell_type": "code",
      "metadata": {
        "id": "O-aKRyDtd_D5"
      },
      "source": [
        ""
      ],
      "execution_count": 42,
      "outputs": []
    },
    {
      "cell_type": "markdown",
      "metadata": {
        "id": "fa--Z6xVd_D5"
      },
      "source": [
        "A very common way to write these chained operations in Spark is to put each on a line. Due to Python's syntax, we need to escape the newline character with a backslash."
      ]
    },
    {
      "cell_type": "code",
      "metadata": {
        "id": "ZODsc0Yxd_D5"
      },
      "source": [
        ""
      ],
      "execution_count": 42,
      "outputs": []
    },
    {
      "cell_type": "markdown",
      "metadata": {
        "id": "4M3fHlGOd_D6"
      },
      "source": [
        "### Actions and Transformations\n",
        "\n",
        "There are two main types of operations in Spark:\n",
        "[Actions](http://spark.apache.org/docs/2.2.0/rdd-programming-guide.html#actions) and [Transformations](http://spark.apache.org/docs/2.2.0/rdd-programming-guide.html#transformations).\n",
        "\n",
        "**Transformations** produce an RDD. Some of the most important are `map`, `filter`, and `reduceByKey`. `sc.parallelize` and `sc.textFile` are not technically Transformations but you can think of them as such in one very important respect: they are *lazyly evaluated*. That is, when we perform a Transformation, we are only describing the operation to be performed at some point in the future. They attach a node to the execution graph.\n",
        "\n",
        "**Actions** are implemented as methods on an RDD, and return an object of a type **that is not an RDD**. When we perform an Action, we give the order to execute the previously described transformations: we trigger the execution of the graph. Some of the most important are `reduce`, `collect`, `take`, `takeOrdered`, and `count`."
      ]
    },
    {
      "cell_type": "code",
      "metadata": {
        "id": "DKBWer-wd_D6"
      },
      "source": [
        ""
      ],
      "execution_count": 42,
      "outputs": []
    },
    {
      "cell_type": "markdown",
      "metadata": {
        "id": "2cpuTFifd_D6"
      },
      "source": [
        "### **(2b) Persisting and the RDD lineage**\n",
        "\n",
        "So far, we have seen that Spark RDDs are *lazyly evaluated*, i.e. nothing is actually done until an action is performed. In the RDD, the set of transformations to be applied are remembered: this is known as its *lineage*. It has the important consequence of making Spark RDDs *fault tolerant* automatically.\n",
        "\n",
        "![](http://images.slideplayer.com/14/4499833/slides/slide_10.jpg) \n",
        "\n",
        "It might be interesting to store some intermediate results, though: perhaps because we want to apply several different transformations starting from that point, or because we are going to apply an iterative computation (as is customary in machine learning algorithms). For this, Spark has [several ways of persisting](http://spark.apache.org/docs/latest/rdd-programming-guide.html#rdd-persistence)"
      ]
    },
    {
      "cell_type": "code",
      "metadata": {
        "id": "F_G501QQd_D6"
      },
      "source": [
        ""
      ],
      "execution_count": 42,
      "outputs": []
    },
    {
      "cell_type": "markdown",
      "metadata": {
        "id": "avhOUdEYd_D6"
      },
      "source": [
        "StorageLevel cannot be changed after it has been set. We need to `unpersist` first."
      ]
    },
    {
      "cell_type": "code",
      "metadata": {
        "tags": [
          "raises-exception"
        ],
        "id": "ZfHFzl0Td_D7"
      },
      "source": [
        ""
      ],
      "execution_count": 42,
      "outputs": []
    },
    {
      "cell_type": "markdown",
      "metadata": {
        "id": "jncExH-ad_D7"
      },
      "source": [
        "### * Accessing the Spark web UI in Google Colab\n",
        "\n",
        "We need a Spark session with a web UI port other than 4040. In this example we are using 4050.\n",
        "\n",
        "\n",
        "```python\n",
        "!wget https://bin.equinox.io/c/4VmDzA7iaHb/ngrok-stable-linux-amd64.zip\n",
        "!unzip -qq ngrok-stable-linux-amd64.zip\n",
        "get_ipython().system_raw('./ngrok http 4050 &')\n",
        "!curl -s http://localhost:4040/api/tunnels | python3 -c \\\n",
        "    \"import sys, json; print(json.load(sys.stdin)['tunnels'][0]['public_url'])\"\n",
        "```        \n",
        "        "
      ]
    },
    {
      "cell_type": "code",
      "metadata": {
        "id": "RQufQ3Zrd_D7"
      },
      "source": [
        ""
      ],
      "execution_count": 42,
      "outputs": []
    },
    {
      "cell_type": "markdown",
      "metadata": {
        "id": "xedqtwfJd_D7"
      },
      "source": [
        "### **(2c) Partitioning **\n",
        "\n",
        "One important parameter for parallel collections is the number of partitions to cut the dataset into. Spark will run one task for each partition of the cluster. Typically you want 2-4 partitions for each CPU in your cluster.\n",
        "\n",
        "To get the number of partitions of an RDD, just use `getNumPartitions()` on your RDD. You can change the partitions during RDD creation (with `parallelize(collection,numPartitions)` or `fromTextFile(file,numPartitions)`), or afterwards with methods like `repartition(), coalesce()`, etc."
      ]
    },
    {
      "cell_type": "code",
      "metadata": {
        "id": "F-DZ5-cNd_D7"
      },
      "source": [
        ""
      ],
      "execution_count": 42,
      "outputs": []
    },
    {
      "cell_type": "markdown",
      "metadata": {
        "id": "jp0Q5tiwd_D8"
      },
      "source": [
        "We can see the partitions using [glom()](http://spark.apache.org/docs/latest/api/python/pyspark.html?highlight=glom#pyspark.RDD.glom): it returns an RDD created by aggregating all elements within each partition into a list."
      ]
    },
    {
      "cell_type": "code",
      "metadata": {
        "id": "hp7XMo82d_D8"
      },
      "source": [
        ""
      ],
      "execution_count": 42,
      "outputs": []
    },
    {
      "cell_type": "markdown",
      "metadata": {
        "id": "bE86CNqEd_D8"
      },
      "source": [
        "Partitions are one of the most powerfull concepts in Spark: you can decide how to distribute your data so it can fit in memory, and more importantly, you can perform computations on each partition *before* speaking to other partitions. This can have an enormous impact on performance"
      ]
    },
    {
      "cell_type": "markdown",
      "metadata": {
        "id": "srlC-YG5d_D8"
      },
      "source": [
        "### **(2c) Pair RDDs: *grouping* strategies in Spark**\n",
        "\n",
        "The next step in writing our word counting program is to create a new type of RDD, called a pair RDD. A pair RDD is an RDD where each element is a pair tuple (k, v) where k is the key and v is the value. In this example, we will create a pair consisting of ('<word>', 1) for each word element in the RDD, as we did in the map/reduce version of the histogram in Python, section (1d.2).\n",
        "\n",
        "We can create the pair RDD using the map() transformation with a lambda() function to create a new RDD."
      ]
    },
    {
      "cell_type": "code",
      "metadata": {
        "id": "CStvdtjqd_D8"
      },
      "source": [
        ""
      ],
      "execution_count": 42,
      "outputs": []
    },
    {
      "cell_type": "markdown",
      "metadata": {
        "id": "3bHNCCZpd_D9"
      },
      "source": [
        "### ** (2c.1) `groupByKey()` approach **\n",
        "An approach you might first consider (we'll see shortly that there are better ways) is based on using the [groupByKey()](http://spark.apache.org/docs/latest/api/python/pyspark.html#pyspark.RDD.groupByKey) transformation. As the name implies, the `groupByKey()` transformation groups all the elements of the RDD with the same key into a single list in one of the partitions. There are two problems with using `groupByKey()`:\n",
        "  + The operation requires a lot of data movement to move all the values into the appropriate partitions.\n",
        "  + The lists can be very large. Consider a word count of English Wikipedia: the lists for common words (e.g., the, a, etc.) would be huge and could exhaust the available memory in a worker.\n",
        " \n",
        "Use `groupByKey()` to generate a pair RDD of type `('word', iterator)`. Next, sum the iterator using a `map()` transformation.  The result should be a pair RDD consisting of (word, count) pairs."
      ]
    },
    {
      "cell_type": "code",
      "metadata": {
        "id": "cx4ldEOId_D9"
      },
      "source": [
        ""
      ],
      "execution_count": 42,
      "outputs": []
    },
    {
      "cell_type": "markdown",
      "metadata": {
        "id": "hmQCh4mwd_D9"
      },
      "source": [
        "### ** (2c.2)  `reduceByKey` approach **\n",
        "A better approach is to start from the pair RDD and then use the [reduceByKey()](http://spark.apache.org/docs/latest/api/python/pyspark.html#pyspark.RDD.reduceByKey) transformation to create a new pair RDD. \n",
        "\n",
        "The `reduceByKey()` transformation gathers together pairs that have the same key and applies the function provided to two values at a time, iteratively reducing all of the values to a single value. `reduceByKey()` operates by applying the function first within each partition on a per-key basis and then across the partitions, allowing it to scale efficiently to large datasets.\n",
        "\n",
        "![](https://databricks.gitbooks.io/databricks-spark-knowledge-base/content/images/reduce_by.png)"
      ]
    },
    {
      "cell_type": "code",
      "metadata": {
        "id": "5TZleeN-d_D9"
      },
      "source": [
        ""
      ],
      "execution_count": 42,
      "outputs": []
    },
    {
      "cell_type": "markdown",
      "metadata": {
        "id": "ivKglm4Nd_D9"
      },
      "source": [
        "#### Summary: word count in Spark:"
      ]
    },
    {
      "cell_type": "code",
      "metadata": {
        "id": "bW-0p7yXd_D-"
      },
      "source": [
        ""
      ],
      "execution_count": 42,
      "outputs": []
    },
    {
      "cell_type": "markdown",
      "metadata": {
        "collapsed": true,
        "id": "-_COuzW-d_D-"
      },
      "source": [
        "## (2d) Apply word count to a file"
      ]
    },
    {
      "cell_type": "markdown",
      "metadata": {
        "id": "PhLYO4ted_D-"
      },
      "source": [
        "### ** (2d.1) Load a text file **\n",
        "For the next part of this lab, we will use the [Complete Works of William Shakespeare](http://www.gutenberg.org/ebooks/100) from [Project Gutenberg](http://www.gutenberg.org/wiki/Main_Page). To convert a text file into an RDD, we use the `SparkContext.textFile()` method. We also apply the recently defined `removePunctuation()` function using a `map()` transformation to strip out the punctuation and change all text to lowercase.  Since the file is large we use `take(15)`, so that we only print(15 lines.)\n",
        "\n",
        "Copy this into a notebook cell:\n",
        "\n",
        "```\n",
        "!wget -v http://www.gutenberg.org/files/100/100-0.txt -O shakespeare.txt\n",
        "```"
      ]
    },
    {
      "cell_type": "code",
      "metadata": {
        "id": "rgn_tMCcd_D-"
      },
      "source": [
        ""
      ],
      "execution_count": 42,
      "outputs": []
    },
    {
      "cell_type": "markdown",
      "metadata": {
        "id": "9sa_TgCId_D_"
      },
      "source": [
        "### ** (2d.2) Capitalization and punctuation **\n",
        "Real world files are more complicated than the data we have been using in this lab. Some of the issues we have to address are:\n",
        "  + Words should be counted independent of their capitialization (e.g., Spark and spark should be counted as the same word).\n",
        "  + All punctuation should be removed.\n",
        "  + Any leading or trailing spaces on a line should be removed.\n",
        " \n",
        "Define the function `removePunctuation` that converts all text to lower case, removes any punctuation, and removes leading and trailing spaces.  Use the Python [re](https://docs.python.org/2/library/re.html) module to remove any text that is not a letter, number, or space. Reading `help(re.sub)` might be useful."
      ]
    },
    {
      "cell_type": "code",
      "metadata": {
        "id": "DHQF2nbFd_D_"
      },
      "source": [
        ""
      ],
      "execution_count": 42,
      "outputs": []
    },
    {
      "cell_type": "markdown",
      "metadata": {
        "id": "ag9d_ePYd_D_"
      },
      "source": [
        "http://www.regular-expressions.info/quickstart.html\n",
        "\n",
        "https://regex101.com/"
      ]
    },
    {
      "cell_type": "markdown",
      "metadata": {
        "id": "9Cv-W6FUd_D_"
      },
      "source": [
        "### ** (2d.3) Words from lines **\n",
        "Before we can use the `wordcount()` function, we have to address two issues with the format of the RDD:\n",
        "  + The first issue is that  that we need to split each line by its spaces.\n",
        "  + The second issue is we need to filter out empty lines.\n",
        " \n",
        "Apply a transformation that will split each element of the RDD by its spaces. For each element of the RDD, you should apply Python's string [split()](https://docs.python.org/3/library/stdtypes.html#str.split) function. You might think that a `map()` transformation is the way to do this, but think about what the result of the `split()` function will be.\n",
        "\n",
        "Check out the Spark Programming Guide for an alternative transformation that helps us here."
      ]
    },
    {
      "cell_type": "code",
      "metadata": {
        "id": "fFvw9w2ad_D_"
      },
      "source": [
        ""
      ],
      "execution_count": 42,
      "outputs": []
    },
    {
      "cell_type": "markdown",
      "metadata": {
        "id": "UvA9HtOUd_EA"
      },
      "source": [
        "### (2d.4) Count the words and show the top 15\n",
        "\n",
        "We know the drill at this point, don't we? We map to a tuple then `reduceByKey`\n",
        "\n",
        "We can view the top 15 words by using the `takeOrdered()` action; however, since the elements of the RDD are pair tuples, we need a custom sort function that sorts using the value part of the pair rather than the key.\n",
        "\n",
        "You'll notice that many of the words are common English words (know as stopwords).\n",
        "\n",
        "Use our map reduce and and `takeOrdered()` to obtain the fifteen most common words and their counts."
      ]
    },
    {
      "cell_type": "code",
      "metadata": {
        "id": "OUetNLhZd_EA"
      },
      "source": [
        ""
      ],
      "execution_count": 42,
      "outputs": []
    },
    {
      "cell_type": "markdown",
      "metadata": {
        "id": "bigwn67Qd_EA"
      },
      "source": [
        "# Practical"
      ]
    },
    {
      "cell_type": "markdown",
      "metadata": {
        "id": "UY59Q1hjd_EA"
      },
      "source": [
        "## ETL with airline coupon data"
      ]
    },
    {
      "cell_type": "markdown",
      "metadata": {
        "id": "WHHXgksEd_EA"
      },
      "source": [
        "Load the data first: coupon data"
      ]
    },
    {
      "cell_type": "code",
      "metadata": {
        "id": "fKwO-c-Jd_EB"
      },
      "source": [
        ""
      ],
      "execution_count": 42,
      "outputs": []
    },
    {
      "cell_type": "markdown",
      "metadata": {
        "id": "DSixdxUZd_EB"
      },
      "source": [
        "#### Exercise\n",
        "\n",
        "Take fields 0, 2, 3, 4, and 6 from each line of coupons"
      ]
    },
    {
      "cell_type": "code",
      "metadata": {
        "id": "R4zM9PRsd_EB"
      },
      "source": [
        ""
      ],
      "execution_count": 42,
      "outputs": []
    },
    {
      "cell_type": "markdown",
      "metadata": {
        "id": "jBsxDQv_d_EB"
      },
      "source": [
        "#### Intermission: Stack traces in Spark\n",
        "\n",
        "Stack traces in pyspark are quite convoluted because we have many layers of processing. Look for the python stack trace contained within the Py4JJavaError message."
      ]
    },
    {
      "cell_type": "code",
      "metadata": {
        "id": "hKiZvdVvd_EB"
      },
      "source": [
        ""
      ],
      "execution_count": 42,
      "outputs": []
    },
    {
      "cell_type": "markdown",
      "metadata": {
        "id": "LK1cnn3Wd_EC"
      },
      "source": [
        "#### Exercise\n",
        "\n",
        "Keep only the amount. Get average, max, min and std"
      ]
    },
    {
      "cell_type": "code",
      "metadata": {
        "id": "uULHm-t8d_EC"
      },
      "source": [
        ""
      ],
      "execution_count": 42,
      "outputs": []
    },
    {
      "cell_type": "markdown",
      "metadata": {
        "id": "QAu8wUWmd_EC"
      },
      "source": [
        "#### All in one go!\n",
        "\n"
      ]
    },
    {
      "cell_type": "code",
      "metadata": {
        "id": "GXdWJHK9d_EC"
      },
      "source": [
        ""
      ],
      "execution_count": 42,
      "outputs": []
    },
    {
      "cell_type": "markdown",
      "metadata": {
        "collapsed": true,
        "id": "XadQ0Znjd_ED"
      },
      "source": [
        "#### Exercise\n",
        "\n",
        "Get stats on ticket amount for all tickets with destination MAD\n",
        "\n",
        "You will need to extract ticket amounts with destination MAD, and then calculate:\n",
        "\n",
        "1. Total ticket amounts per origin\n",
        "2. Top 10 airlines by average amount"
      ]
    },
    {
      "cell_type": "markdown",
      "metadata": {
        "id": "wiI7lkppd_ED"
      },
      "source": [
        "#### Part 1\n",
        "\n",
        "We need to filter coupons with destination Madrid, and after that group on the origin. "
      ]
    },
    {
      "cell_type": "code",
      "metadata": {
        "id": "CCw0OBMEd_ED"
      },
      "source": [
        ""
      ],
      "execution_count": 42,
      "outputs": []
    },
    {
      "cell_type": "markdown",
      "metadata": {
        "id": "NDFzeCUjd_ED"
      },
      "source": [
        "At this point, we only need the origin, to group on, and the value, to sum"
      ]
    },
    {
      "cell_type": "code",
      "metadata": {
        "id": "UfgdZ2ORd_EE"
      },
      "source": [
        ""
      ],
      "execution_count": 42,
      "outputs": []
    },
    {
      "cell_type": "markdown",
      "metadata": {
        "id": "eECxwLbad_EE"
      },
      "source": [
        "We are now ready to reduce all amounts per origin."
      ]
    },
    {
      "cell_type": "code",
      "metadata": {
        "id": "qh6JyP3Gd_EE"
      },
      "source": [
        ""
      ],
      "execution_count": 42,
      "outputs": []
    },
    {
      "cell_type": "markdown",
      "metadata": {
        "id": "vgP37Y51d_EE"
      },
      "source": [
        "#### Part 2\n",
        "\n",
        "This is very similar, with two differences: we need to group on the airline, and to calculate averages we need to keep track of both the total amount on the coupons and the number of coupons."
      ]
    },
    {
      "cell_type": "code",
      "metadata": {
        "id": "vuPcW0Lod_EF"
      },
      "source": [
        ""
      ],
      "execution_count": 42,
      "outputs": []
    },
    {
      "cell_type": "markdown",
      "metadata": {
        "id": "ldzRXIu4d_EF"
      },
      "source": [
        "Now we reduce tuples, summing each component of the tuple separately."
      ]
    },
    {
      "cell_type": "code",
      "metadata": {
        "id": "9E1DeDcJd_EF"
      },
      "source": [
        ""
      ],
      "execution_count": 42,
      "outputs": []
    },
    {
      "cell_type": "markdown",
      "metadata": {
        "id": "0_wwo_hKd_EF"
      },
      "source": [
        "This reduceByKey generates an RDD of the form (k, (v1, v2)). We can map it like this:"
      ]
    },
    {
      "cell_type": "code",
      "metadata": {
        "id": "YTLyzf5jd_EG"
      },
      "source": [
        ""
      ],
      "execution_count": 42,
      "outputs": []
    },
    {
      "cell_type": "markdown",
      "metadata": {
        "id": "yjpuwwv6d_EG"
      },
      "source": [
        "Or we can use the mapValues method to only process the (v1, v2) part, ignoring the key for processing without discarding it."
      ]
    },
    {
      "cell_type": "code",
      "metadata": {
        "id": "IkXnU9kud_EG"
      },
      "source": [
        ""
      ],
      "execution_count": 42,
      "outputs": []
    },
    {
      "cell_type": "markdown",
      "metadata": {
        "id": "vSMmx2nQd_EG"
      },
      "source": [
        "And we're ready to take our result."
      ]
    },
    {
      "cell_type": "code",
      "metadata": {
        "id": "zyDz0JxJd_EG"
      },
      "source": [
        ""
      ],
      "execution_count": 42,
      "outputs": []
    },
    {
      "cell_type": "markdown",
      "metadata": {
        "id": "gs53iQFRd_EH"
      },
      "source": [
        "#### Stretch: \n",
        "\n",
        "Get the totals from first origin without using the coupon number"
      ]
    },
    {
      "cell_type": "code",
      "metadata": {
        "id": "RI4aPAlyd_EH"
      },
      "source": [
        ""
      ],
      "execution_count": 42,
      "outputs": []
    },
    {
      "cell_type": "markdown",
      "metadata": {
        "id": "1AQtpKhQd_EH"
      },
      "source": [
        "We'll use groupBy this time, because we need to look at every coupon in a ticket in order to identify first origin."
      ]
    },
    {
      "cell_type": "code",
      "metadata": {
        "id": "VG0DAaUid_EH"
      },
      "source": [
        ""
      ],
      "execution_count": 42,
      "outputs": []
    },
    {
      "cell_type": "markdown",
      "metadata": {
        "id": "3yWePaBsd_EI"
      },
      "source": [
        "A ResultIterable is a lazy collection, so we can take it and iterate over it, or turn it into a list to materialize it. This is useful to get a test case to test the function we will be writing."
      ]
    },
    {
      "cell_type": "code",
      "metadata": {
        "id": "crB5JUVQd_EI"
      },
      "source": [
        ""
      ],
      "execution_count": 42,
      "outputs": []
    },
    {
      "cell_type": "markdown",
      "metadata": {
        "id": "jIpeVLd8d_EI"
      },
      "source": [
        "We are going to compare the set of origins to the set of destinations. The one that is in the first but not in the second should be the first origin."
      ]
    },
    {
      "cell_type": "code",
      "metadata": {
        "id": "j_dqRG-jd_EJ"
      },
      "source": [
        ""
      ],
      "execution_count": 42,
      "outputs": []
    },
    {
      "cell_type": "markdown",
      "metadata": {
        "id": "sf_KYhjJd_EJ"
      },
      "source": [
        "Now we have have our values, so we are ready to get the totals and sort. Before we reduceByKey, we need to reshape our tuples so the first origin is the key."
      ]
    },
    {
      "cell_type": "code",
      "metadata": {
        "id": "mEWxqCc3d_EJ"
      },
      "source": [
        ""
      ],
      "execution_count": 42,
      "outputs": []
    },
    {
      "cell_type": "markdown",
      "metadata": {
        "id": "clFL_32vd_EJ"
      },
      "source": [
        "### Further resources\n",
        "\n",
        "https://s3.amazonaws.com/assets.datacamp.com/blog_assets/PySpark_Cheat_Sheet_Python.pdf\n",
        "\n",
        "https://stackoverflow.com/questions/31610971/spark-repartition-vs-coalesce#:~:text=coalesce%20uses%20existing%20partitions%20to,in%20roughly%20equal%20sized%20partitions.\n"
      ]
    }
  ]
}